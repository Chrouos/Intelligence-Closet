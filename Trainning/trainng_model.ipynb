{
 "cells": [
  {
   "cell_type": "markdown",
   "metadata": {},
   "source": [
    "# Reference\n",
    "+ [pkl文件与pickle.dump，pickle.load](https://blog.csdn.net/weixin_43135178/article/details/116430144)"
   ]
  },
  {
   "cell_type": "code",
   "execution_count": 1,
   "metadata": {},
   "outputs": [
    {
     "name": "stdout",
     "output_type": "stream",
     "text": [
      "fastai: 2.7.10\n",
      "python_version: 3.7.9\n",
      "torch version: 1.13.0+cpu\n"
     ]
    }
   ],
   "source": [
    "import fastai\n",
    "print(\"fastai:\", fastai.__version__)\n",
    "\n",
    "from platform import python_version\n",
    "print(\"python_version:\", python_version())\n",
    "\n",
    "import torch\n",
    "print(\"torch version:\", torch.__version__)"
   ]
  },
  {
   "cell_type": "markdown",
   "metadata": {},
   "source": [
    "## Install Package"
   ]
  },
  {
   "cell_type": "code",
   "execution_count": null,
   "metadata": {},
   "outputs": [],
   "source": [
    "import fastbook\n",
    "fastbook.setup_book()\n",
    "\n",
    "from fastai.vision.all import *\n",
    "from fastai.vision.widgets import *\n",
    "\n",
    "import pandas as pd\n",
    "import joblib\n",
    "import numpy as np\n",
    "import cv2"
   ]
  },
  {
   "cell_type": "markdown",
   "metadata": {},
   "source": [
    "## Pre-preparation"
   ]
  },
  {
   "cell_type": "code",
   "execution_count": null,
   "metadata": {},
   "outputs": [],
   "source": [
    "labels = pd.read_csv('./image.csv') # 讀取csv\n",
    "labels['label'].value_counts() # 查看總標籤數量"
   ]
  },
  {
   "cell_type": "code",
   "execution_count": null,
   "metadata": {},
   "outputs": [],
   "source": [
    "def get_x(r): return './images_original/'+r['image'] # create path to open images in the original folder\n",
    "def get_y(r): return r['label'].split(' ') # split the labels using space as a delimitter\n",
    "\n",
    "# Replace 'Not sure' with 'Not_sure'.\n",
    "labels.loc[labels['label']=='Not sure','label'] = 'Not_sure'\n",
    "\n",
    "# Add suffix '.jpg' to all image files in the dataframe to open them within the model.\n",
    "labels['image'] = labels['image'] + '.jpg' \n",
    "\n",
    "# Keep only the images and their labels for the model to process.\n",
    "label_df = labels[['image', 'label']]\n",
    "\n",
    "# 去除重複職\n",
    "label_df = label_df.dropna(axis=0, how='any')\n",
    "label_df"
   ]
  },
  {
   "cell_type": "code",
   "execution_count": null,
   "metadata": {},
   "outputs": [],
   "source": [
    "# Create DataBlock\n",
    "dblock = DataBlock( blocks = (ImageBlock, MultiCategoryBlock),\n",
    "                    get_x = get_x, get_y = get_y,\n",
    "                    item_tfms = RandomResizedCrop(128, min_scale=0.35))  # ensure every item is of the same size\n",
    "\n",
    "dls = dblock.dataloaders(label_df) # collates items from dataset into minibatches\n",
    "\n",
    "dls.show_batch(nrows=3, ncols=3)"
   ]
  },
  {
   "cell_type": "code",
   "execution_count": null,
   "metadata": {},
   "outputs": [],
   "source": [
    "import ssl\n",
    "ssl._create_default_https_context = ssl._create_unverified_context # 通過導入ssl模組改成不用驗證\n",
    "\n",
    "learn = cnn_learner(dls, resnet18, metrics=partial(accuracy_multi, thresh=0.2))\n",
    "learn.fine_tune(5, base_lr=3e-3)"
   ]
  },
  {
   "cell_type": "code",
   "execution_count": null,
   "metadata": {},
   "outputs": [],
   "source": [
    "# Get Predictions and target variables\n",
    "preds,targs = learn.get_preds()"
   ]
  },
  {
   "cell_type": "code",
   "execution_count": null,
   "metadata": {},
   "outputs": [],
   "source": [
    "learn.fit_one_cycle(1,1e-3)"
   ]
  },
  {
   "cell_type": "code",
   "execution_count": null,
   "metadata": {},
   "outputs": [],
   "source": [
    "xs = torch.linspace(0.01,0.99,50)\n",
    "accs = [accuracy_multi(preds, targs, thresh=i, sigmoid=False) for i in xs] # get_preds applies sigmoid activation function\n",
    "\n",
    "plt.plot(xs,accs);"
   ]
  },
  {
   "cell_type": "code",
   "execution_count": null,
   "metadata": {},
   "outputs": [],
   "source": [
    "learn.export(Path(\"./export.pkl\"))\n",
    "joblib.dump(learn,'joblib_export.pkl')"
   ]
  },
  {
   "cell_type": "code",
   "execution_count": null,
   "metadata": {},
   "outputs": [],
   "source": [
    "clf2 = joblib.load('joblib_export.pkl')"
   ]
  },
  {
   "cell_type": "code",
   "execution_count": null,
   "metadata": {},
   "outputs": [],
   "source": [
    "clf2.summary()  "
   ]
  },
  {
   "cell_type": "code",
   "execution_count": null,
   "metadata": {},
   "outputs": [],
   "source": [
    "type(clf2)"
   ]
  },
  {
   "cell_type": "code",
   "execution_count": null,
   "metadata": {},
   "outputs": [],
   "source": [
    "def ClassifierLoop(predict):\n",
    "    label_list = predict[0]\n",
    "    tensorBase = predict[2]\n",
    "    \n",
    "    tens_list = []\n",
    "    for base in tensorBase:\n",
    "        if base.item() > 0.5:\n",
    "            tens_list.append(base.item())\n",
    "        \n",
    "    print(tens_list, label_list)\n",
    "    print(label_list[np.argmax(tens_list)])\n",
    "    \n",
    "    return label_list[np.argmax(tens_list)]"
   ]
  },
  {
   "cell_type": "code",
   "execution_count": null,
   "metadata": {},
   "outputs": [],
   "source": [
    "# 讀取圖檔\n",
    "clf_ori = joblib.load('joblib_export.pkl')\n",
    "# clf_aft = joblib.load('joblib_export_aft.pkl')\n",
    "\n",
    "img = cv2.imread('./test_picture/shirt_24.jpg')\n",
    "image = cv2.resize(img, (480, 600))\n",
    "\n",
    "print(clf_ori.predict(img))\n",
    "print(\"-------------------------------------\")"
   ]
  },
  {
   "cell_type": "code",
   "execution_count": null,
   "metadata": {},
   "outputs": [],
   "source": []
  },
  {
   "cell_type": "code",
   "execution_count": null,
   "metadata": {},
   "outputs": [],
   "source": []
  },
  {
   "cell_type": "code",
   "execution_count": null,
   "metadata": {},
   "outputs": [],
   "source": []
  }
 ],
 "metadata": {
  "kernelspec": {
   "display_name": "Python 3.7.9 64-bit",
   "language": "python",
   "name": "python3"
  },
  "language_info": {
   "codemirror_mode": {
    "name": "ipython",
    "version": 3
   },
   "file_extension": ".py",
   "mimetype": "text/x-python",
   "name": "python",
   "nbconvert_exporter": "python",
   "pygments_lexer": "ipython3",
   "version": "3.7.9"
  },
  "orig_nbformat": 4,
  "vscode": {
   "interpreter": {
    "hash": "7c30df904c36e6be9401258170815a5d9049d5a580b5ff146ab8741762e93d41"
   }
  }
 },
 "nbformat": 4,
 "nbformat_minor": 2
}
