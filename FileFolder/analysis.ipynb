{
 "cells": [
  {
   "cell_type": "markdown",
   "metadata": {},
   "source": [
    "# Install Package"
   ]
  },
  {
   "cell_type": "code",
   "execution_count": null,
   "metadata": {},
   "outputs": [],
   "source": []
  },
  {
   "cell_type": "markdown",
   "metadata": {},
   "source": [
    "# 測試資料"
   ]
  },
  {
   "cell_type": "code",
   "execution_count": 19,
   "metadata": {},
   "outputs": [
    {
     "name": "stdout",
     "output_type": "stream",
     "text": [
      "目前的溫度基準: 26 - 26 - 0 = 0\n"
     ]
    },
    {
     "data": {
      "text/plain": [
       "0"
      ]
     },
     "execution_count": 19,
     "metadata": {},
     "output_type": "execute_result"
    }
   ],
   "source": [
    "def now_base_tep(def_comfortable_temp, def_now_temp, def_userLike_temp):\n",
    "\n",
    "    print(\"目前的溫度基準: {0} - {1} - {2} = {3}\".format(\n",
    "            def_comfortable_temp, \n",
    "            def_now_temp, \n",
    "            def_userLike_temp, \n",
    "            def_comfortable_temp - def_now_temp - def_userLike_temp) )\n",
    "    \n",
    "    return def_comfortable_temp - def_now_temp - def_userLike_temp\n",
    "    \n",
    "comfortable_temp = 26   # 人體最適合的溫度: 26\n",
    "now_temp = 26        # 假設現在氣溫: 15\n",
    "userLike_temp = 0       # 使用者喜愛溫度: -5 ~ 5   \n",
    "now_base_tep(comfortable_temp, now_temp, userLike_temp)"
   ]
  },
  {
   "cell_type": "markdown",
   "metadata": {},
   "source": [
    "## WeatherScore"
   ]
  },
  {
   "cell_type": "code",
   "execution_count": 12,
   "metadata": {},
   "outputs": [],
   "source": [
    "TShirt_WeatherScore = 1\n",
    "Shorts_WeatherScore = 1\n",
    "Pants_WeatherScore = 3\n",
    "Longsleeve_WeatherScore = 3"
   ]
  },
  {
   "cell_type": "markdown",
   "metadata": {},
   "source": [
    "## T-Shirt, Shorts"
   ]
  },
  {
   "cell_type": "code",
   "execution_count": 22,
   "metadata": {},
   "outputs": [
    {
     "name": "stdout",
     "output_type": "stream",
     "text": [
      "目前的溫度基準: 26 - 26 - 0 = 0\n",
      "TShirt + Shorts:  0\n",
      "目前的溫度基準: 26 - 26 - 0 = 0\n",
      "TShirt + Shorts:  0\n"
     ]
    }
   ],
   "source": [
    "answer = now_base_tep(comfortable_temp, now_temp, userLike_temp) * (TShirt_WeatherScore + Shorts_WeatherScore)\n",
    "\n",
    "print(\"TShirt + Shorts: \", answer)\n",
    "\n",
    "answer = now_base_tep(comfortable_temp, now_temp, userLike_temp) * (Pants_WeatherScore + Longsleeve_WeatherScore)\n",
    "\n",
    "print(\"TShirt + Shorts: \", answer)\n"
   ]
  },
  {
   "cell_type": "code",
   "execution_count": 17,
   "metadata": {},
   "outputs": [],
   "source": [
    "## Pants, Longsleeve"
   ]
  },
  {
   "cell_type": "code",
   "execution_count": 21,
   "metadata": {},
   "outputs": [
    {
     "name": "stdout",
     "output_type": "stream",
     "text": [
      "目前的溫度基準: 26 - 26 - 0 = 0\n",
      "0\n"
     ]
    }
   ],
   "source": []
  },
  {
   "cell_type": "code",
   "execution_count": null,
   "metadata": {},
   "outputs": [],
   "source": []
  }
 ],
 "metadata": {
  "kernelspec": {
   "display_name": "Python 3.7.9 64-bit",
   "language": "python",
   "name": "python3"
  },
  "language_info": {
   "codemirror_mode": {
    "name": "ipython",
    "version": 3
   },
   "file_extension": ".py",
   "mimetype": "text/x-python",
   "name": "python",
   "nbconvert_exporter": "python",
   "pygments_lexer": "ipython3",
   "version": "3.7.9"
  },
  "orig_nbformat": 4,
  "vscode": {
   "interpreter": {
    "hash": "7c30df904c36e6be9401258170815a5d9049d5a580b5ff146ab8741762e93d41"
   }
  }
 },
 "nbformat": 4,
 "nbformat_minor": 2
}
