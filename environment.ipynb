{
 "cells": [
  {
   "cell_type": "code",
   "execution_count": 8,
   "metadata": {},
   "outputs": [
    {
     "name": "stdout",
     "output_type": "stream",
     "text": [
      "numpy version: 1.21.6\n",
      "pandas version: 1.3.5\n",
      "torch version: 1.13.0+cpu\n",
      "platform version: 1.0.8\n",
      "fastai version: 2.7.10\n",
      "json version: 2.0.9\n",
      "sys version: 3.7.9 (tags/v3.7.9:13c94747c7, Aug 17 2020, 18:58:18) [MSC v.1900 64 bit (AMD64)]\n",
      "fastbook version: 0.0.29\n",
      "joblib version: 1.1.0\n",
      "cv2 version: 4.5.5\n"
     ]
    }
   ],
   "source": [
    "import numpy\n",
    "print(\"numpy version:\", numpy.__version__)\n",
    "\n",
    "import pandas\n",
    "print(\"pandas version:\", pandas.__version__)\n",
    "\n",
    "import torch\n",
    "print(\"torch version:\", torch.__version__)\n",
    "\n",
    "import platform\n",
    "print(\"platform version:\", platform.__version__)\n",
    "\n",
    "import fastai\n",
    "print(\"fastai version:\", fastai.__version__)\n",
    "\n",
    "import json\n",
    "print(\"json version:\", json.__version__)\n",
    "\n",
    "import sys\n",
    "print(\"sys version:\", sys.version)\n",
    "\n",
    "import fastbook\n",
    "print(\"fastbook version:\", fastbook.__version__)\n",
    "\n",
    "import joblib\n",
    "print(\"joblib version:\", joblib.__version__)\n",
    "\n",
    "import cv2\n",
    "print(\"cv2 version:\", cv2.__version__)"
   ]
  },
  {
   "cell_type": "code",
   "execution_count": null,
   "metadata": {},
   "outputs": [],
   "source": []
  }
 ],
 "metadata": {
  "kernelspec": {
   "display_name": "Python 3",
   "language": "python",
   "name": "python3"
  },
  "language_info": {
   "codemirror_mode": {
    "name": "ipython",
    "version": 3
   },
   "file_extension": ".py",
   "mimetype": "text/x-python",
   "name": "python",
   "nbconvert_exporter": "python",
   "pygments_lexer": "ipython3",
   "version": "3.7.9 (tags/v3.7.9:13c94747c7, Aug 17 2020, 18:58:18) [MSC v.1900 64 bit (AMD64)]"
  },
  "orig_nbformat": 4,
  "vscode": {
   "interpreter": {
    "hash": "7c30df904c36e6be9401258170815a5d9049d5a580b5ff146ab8741762e93d41"
   }
  }
 },
 "nbformat": 4,
 "nbformat_minor": 2
}
