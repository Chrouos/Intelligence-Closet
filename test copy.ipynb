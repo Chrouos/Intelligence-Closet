{
 "cells": [
  {
   "cell_type": "code",
   "execution_count": 33,
   "metadata": {},
   "outputs": [],
   "source": [
    "import numpy as np\n",
    "import pandas as pd\n",
    "import plotly.express as px\n",
    "import plotly.graph_objects as go\n"
   ]
  },
  {
   "cell_type": "markdown",
   "metadata": {},
   "source": [
    "# test parameters\n"
   ]
  },
  {
   "cell_type": "code",
   "execution_count": 34,
   "metadata": {},
   "outputs": [],
   "source": [
    "# Const\n",
    "comfortable_temp = 26.5\n",
    "comfortable_humd = 60.5\n",
    "\n",
    "now_temp = 20\n",
    "now_humd = 50\n",
    "\n",
    "# user_dashboard\n",
    "user_weatherLike = 5 # more like hot\n",
    "\n",
    "# test data\n",
    "clothes_list = {\n",
    "    \"ClothesName\":\n",
    "    [\"T-Shirt\", \"Longsleve\", \"Weaters\", \"Skirt\", \"Short\", \"Pants\"],\n",
    "    \"WeatherScore\": [3, 6, 9, 2, 4, 8],    \n",
    "    \"Category\": [1, 1, 1, 2, 2, 2]\n",
    "}\n"
   ]
  },
  {
   "cell_type": "markdown",
   "metadata": {},
   "source": [
    "# Tidy Data\n"
   ]
  },
  {
   "cell_type": "code",
   "execution_count": 35,
   "metadata": {},
   "outputs": [
    {
     "data": {
      "text/html": [
       "<div>\n",
       "<style scoped>\n",
       "    .dataframe tbody tr th:only-of-type {\n",
       "        vertical-align: middle;\n",
       "    }\n",
       "\n",
       "    .dataframe tbody tr th {\n",
       "        vertical-align: top;\n",
       "    }\n",
       "\n",
       "    .dataframe thead th {\n",
       "        text-align: right;\n",
       "    }\n",
       "</style>\n",
       "<table border=\"1\" class=\"dataframe\">\n",
       "  <thead>\n",
       "    <tr style=\"text-align: right;\">\n",
       "      <th></th>\n",
       "      <th>ClothesName</th>\n",
       "      <th>WeatherScore</th>\n",
       "      <th>Category</th>\n",
       "    </tr>\n",
       "  </thead>\n",
       "  <tbody>\n",
       "    <tr>\n",
       "      <th>0</th>\n",
       "      <td>T-Shirt</td>\n",
       "      <td>3</td>\n",
       "      <td>1</td>\n",
       "    </tr>\n",
       "    <tr>\n",
       "      <th>1</th>\n",
       "      <td>Longsleve</td>\n",
       "      <td>6</td>\n",
       "      <td>1</td>\n",
       "    </tr>\n",
       "    <tr>\n",
       "      <th>2</th>\n",
       "      <td>Weaters</td>\n",
       "      <td>9</td>\n",
       "      <td>1</td>\n",
       "    </tr>\n",
       "    <tr>\n",
       "      <th>3</th>\n",
       "      <td>Skirt</td>\n",
       "      <td>2</td>\n",
       "      <td>2</td>\n",
       "    </tr>\n",
       "    <tr>\n",
       "      <th>4</th>\n",
       "      <td>Short</td>\n",
       "      <td>4</td>\n",
       "      <td>2</td>\n",
       "    </tr>\n",
       "    <tr>\n",
       "      <th>5</th>\n",
       "      <td>Pants</td>\n",
       "      <td>8</td>\n",
       "      <td>2</td>\n",
       "    </tr>\n",
       "  </tbody>\n",
       "</table>\n",
       "</div>"
      ],
      "text/plain": [
       "  ClothesName  WeatherScore  Category\n",
       "0     T-Shirt             3         1\n",
       "1   Longsleve             6         1\n",
       "2     Weaters             9         1\n",
       "3       Skirt             2         2\n",
       "4       Short             4         2\n",
       "5       Pants             8         2"
      ]
     },
     "execution_count": 35,
     "metadata": {},
     "output_type": "execute_result"
    }
   ],
   "source": [
    "\n",
    "df_sigle = pd.DataFrame(clothes_list)\n",
    "df_sigle"
   ]
  },
  {
   "cell_type": "code",
   "execution_count": 36,
   "metadata": {},
   "outputs": [],
   "source": [
    "# formula\n",
    "def weather_result(user_weatherLike, now_weather, clothes_name, weather_score):\n",
    "    # calculator\n",
    "    # calculator_ans = abs((26  - now_weather) - weather_score + user_weatherLike) \n",
    "    calculator_ans = abs((comfortable_temp - now_weather) - 5 - weather_score)\n",
    "\n",
    "    # output\n",
    "    # print(\"{0}({1}): {2}\".format(clothes_name, weather_score, calculator_ans))\n",
    "    return calculator_ans\n"
   ]
  },
  {
   "cell_type": "code",
   "execution_count": 37,
   "metadata": {},
   "outputs": [],
   "source": [
    "\n",
    "list_sigle_show = []\n",
    "for now_weather in range(5, 28):\n",
    "    for iloc_count in range(len(df_sigle)):\n",
    "        calculator = weather_result(user_weatherLike, now_weather, df_sigle.iloc[iloc_count].ClothesName, df_sigle.iloc[iloc_count].WeatherScore)\n",
    "        \n",
    "        list_sigle_show.append([    now_weather, \n",
    "                                    df_sigle.iloc[iloc_count].ClothesName, \n",
    "                                    df_sigle.iloc[iloc_count].WeatherScore, \n",
    "                                    calculator])\n",
    "        \n",
    "df_sigle_show = pd.DataFrame(list_sigle_show, columns=[\"NowWeather\", \"ClothesName\", \"WeatherScore\",\"CalculatorScore\"])\n",
    "# df_sigle_show.sort_values(\"CalculatorScore\")"
   ]
  },
  {
   "cell_type": "code",
   "execution_count": 38,
   "metadata": {},
   "outputs": [
    {
     "data": {
      "application/vnd.plotly.v1+json": {
       "config": {
        "plotlyServerURL": "https://plot.ly"
       },
       "data": [
        {
         "hovertemplate": "ClothesName=%{text}<br>NowWeather=%{x}<br>CalculatorScore=%{y}<extra></extra>",
         "legendgroup": "T-Shirt",
         "line": {
          "color": "#636efa",
          "dash": "solid"
         },
         "marker": {
          "symbol": "circle"
         },
         "mode": "text+markers+lines",
         "name": "T-Shirt",
         "orientation": "v",
         "showlegend": true,
         "text": [
          "T-Shirt",
          "T-Shirt",
          "T-Shirt",
          "T-Shirt",
          "T-Shirt",
          "T-Shirt",
          "T-Shirt",
          "T-Shirt",
          "T-Shirt",
          "T-Shirt",
          "T-Shirt",
          "T-Shirt",
          "T-Shirt",
          "T-Shirt",
          "T-Shirt",
          "T-Shirt",
          "T-Shirt",
          "T-Shirt",
          "T-Shirt",
          "T-Shirt",
          "T-Shirt",
          "T-Shirt",
          "T-Shirt"
         ],
         "type": "scatter",
         "x": [
          5,
          6,
          7,
          8,
          9,
          10,
          11,
          12,
          13,
          14,
          15,
          16,
          17,
          18,
          19,
          20,
          21,
          22,
          23,
          24,
          25,
          26,
          27
         ],
         "xaxis": "x",
         "y": [
          13.5,
          12.5,
          11.5,
          10.5,
          9.5,
          8.5,
          7.5,
          6.5,
          5.5,
          4.5,
          3.5,
          2.5,
          1.5,
          0.5,
          0.5,
          1.5,
          2.5,
          3.5,
          4.5,
          5.5,
          6.5,
          7.5,
          8.5
         ],
         "yaxis": "y"
        },
        {
         "hovertemplate": "ClothesName=%{text}<br>NowWeather=%{x}<br>CalculatorScore=%{y}<extra></extra>",
         "legendgroup": "Longsleve",
         "line": {
          "color": "#EF553B",
          "dash": "solid"
         },
         "marker": {
          "symbol": "circle"
         },
         "mode": "text+markers+lines",
         "name": "Longsleve",
         "orientation": "v",
         "showlegend": true,
         "text": [
          "Longsleve",
          "Longsleve",
          "Longsleve",
          "Longsleve",
          "Longsleve",
          "Longsleve",
          "Longsleve",
          "Longsleve",
          "Longsleve",
          "Longsleve",
          "Longsleve",
          "Longsleve",
          "Longsleve",
          "Longsleve",
          "Longsleve",
          "Longsleve",
          "Longsleve",
          "Longsleve",
          "Longsleve",
          "Longsleve",
          "Longsleve",
          "Longsleve",
          "Longsleve"
         ],
         "type": "scatter",
         "x": [
          5,
          6,
          7,
          8,
          9,
          10,
          11,
          12,
          13,
          14,
          15,
          16,
          17,
          18,
          19,
          20,
          21,
          22,
          23,
          24,
          25,
          26,
          27
         ],
         "xaxis": "x",
         "y": [
          10.5,
          9.5,
          8.5,
          7.5,
          6.5,
          5.5,
          4.5,
          3.5,
          2.5,
          1.5,
          0.5,
          0.5,
          1.5,
          2.5,
          3.5,
          4.5,
          5.5,
          6.5,
          7.5,
          8.5,
          9.5,
          10.5,
          11.5
         ],
         "yaxis": "y"
        },
        {
         "hovertemplate": "ClothesName=%{text}<br>NowWeather=%{x}<br>CalculatorScore=%{y}<extra></extra>",
         "legendgroup": "Weaters",
         "line": {
          "color": "#00cc96",
          "dash": "solid"
         },
         "marker": {
          "symbol": "circle"
         },
         "mode": "text+markers+lines",
         "name": "Weaters",
         "orientation": "v",
         "showlegend": true,
         "text": [
          "Weaters",
          "Weaters",
          "Weaters",
          "Weaters",
          "Weaters",
          "Weaters",
          "Weaters",
          "Weaters",
          "Weaters",
          "Weaters",
          "Weaters",
          "Weaters",
          "Weaters",
          "Weaters",
          "Weaters",
          "Weaters",
          "Weaters",
          "Weaters",
          "Weaters",
          "Weaters",
          "Weaters",
          "Weaters",
          "Weaters"
         ],
         "type": "scatter",
         "x": [
          5,
          6,
          7,
          8,
          9,
          10,
          11,
          12,
          13,
          14,
          15,
          16,
          17,
          18,
          19,
          20,
          21,
          22,
          23,
          24,
          25,
          26,
          27
         ],
         "xaxis": "x",
         "y": [
          7.5,
          6.5,
          5.5,
          4.5,
          3.5,
          2.5,
          1.5,
          0.5,
          0.5,
          1.5,
          2.5,
          3.5,
          4.5,
          5.5,
          6.5,
          7.5,
          8.5,
          9.5,
          10.5,
          11.5,
          12.5,
          13.5,
          14.5
         ],
         "yaxis": "y"
        },
        {
         "hovertemplate": "ClothesName=%{text}<br>NowWeather=%{x}<br>CalculatorScore=%{y}<extra></extra>",
         "legendgroup": "Skirt",
         "line": {
          "color": "#ab63fa",
          "dash": "solid"
         },
         "marker": {
          "symbol": "circle"
         },
         "mode": "text+markers+lines",
         "name": "Skirt",
         "orientation": "v",
         "showlegend": true,
         "text": [
          "Skirt",
          "Skirt",
          "Skirt",
          "Skirt",
          "Skirt",
          "Skirt",
          "Skirt",
          "Skirt",
          "Skirt",
          "Skirt",
          "Skirt",
          "Skirt",
          "Skirt",
          "Skirt",
          "Skirt",
          "Skirt",
          "Skirt",
          "Skirt",
          "Skirt",
          "Skirt",
          "Skirt",
          "Skirt",
          "Skirt"
         ],
         "type": "scatter",
         "x": [
          5,
          6,
          7,
          8,
          9,
          10,
          11,
          12,
          13,
          14,
          15,
          16,
          17,
          18,
          19,
          20,
          21,
          22,
          23,
          24,
          25,
          26,
          27
         ],
         "xaxis": "x",
         "y": [
          14.5,
          13.5,
          12.5,
          11.5,
          10.5,
          9.5,
          8.5,
          7.5,
          6.5,
          5.5,
          4.5,
          3.5,
          2.5,
          1.5,
          0.5,
          0.5,
          1.5,
          2.5,
          3.5,
          4.5,
          5.5,
          6.5,
          7.5
         ],
         "yaxis": "y"
        },
        {
         "hovertemplate": "ClothesName=%{text}<br>NowWeather=%{x}<br>CalculatorScore=%{y}<extra></extra>",
         "legendgroup": "Short",
         "line": {
          "color": "#FFA15A",
          "dash": "solid"
         },
         "marker": {
          "symbol": "circle"
         },
         "mode": "text+markers+lines",
         "name": "Short",
         "orientation": "v",
         "showlegend": true,
         "text": [
          "Short",
          "Short",
          "Short",
          "Short",
          "Short",
          "Short",
          "Short",
          "Short",
          "Short",
          "Short",
          "Short",
          "Short",
          "Short",
          "Short",
          "Short",
          "Short",
          "Short",
          "Short",
          "Short",
          "Short",
          "Short",
          "Short",
          "Short"
         ],
         "type": "scatter",
         "x": [
          5,
          6,
          7,
          8,
          9,
          10,
          11,
          12,
          13,
          14,
          15,
          16,
          17,
          18,
          19,
          20,
          21,
          22,
          23,
          24,
          25,
          26,
          27
         ],
         "xaxis": "x",
         "y": [
          12.5,
          11.5,
          10.5,
          9.5,
          8.5,
          7.5,
          6.5,
          5.5,
          4.5,
          3.5,
          2.5,
          1.5,
          0.5,
          0.5,
          1.5,
          2.5,
          3.5,
          4.5,
          5.5,
          6.5,
          7.5,
          8.5,
          9.5
         ],
         "yaxis": "y"
        },
        {
         "hovertemplate": "ClothesName=%{text}<br>NowWeather=%{x}<br>CalculatorScore=%{y}<extra></extra>",
         "legendgroup": "Pants",
         "line": {
          "color": "#19d3f3",
          "dash": "solid"
         },
         "marker": {
          "symbol": "circle"
         },
         "mode": "text+markers+lines",
         "name": "Pants",
         "orientation": "v",
         "showlegend": true,
         "text": [
          "Pants",
          "Pants",
          "Pants",
          "Pants",
          "Pants",
          "Pants",
          "Pants",
          "Pants",
          "Pants",
          "Pants",
          "Pants",
          "Pants",
          "Pants",
          "Pants",
          "Pants",
          "Pants",
          "Pants",
          "Pants",
          "Pants",
          "Pants",
          "Pants",
          "Pants",
          "Pants"
         ],
         "type": "scatter",
         "x": [
          5,
          6,
          7,
          8,
          9,
          10,
          11,
          12,
          13,
          14,
          15,
          16,
          17,
          18,
          19,
          20,
          21,
          22,
          23,
          24,
          25,
          26,
          27
         ],
         "xaxis": "x",
         "y": [
          8.5,
          7.5,
          6.5,
          5.5,
          4.5,
          3.5,
          2.5,
          1.5,
          0.5,
          0.5,
          1.5,
          2.5,
          3.5,
          4.5,
          5.5,
          6.5,
          7.5,
          8.5,
          9.5,
          10.5,
          11.5,
          12.5,
          13.5
         ],
         "yaxis": "y"
        }
       ],
       "layout": {
        "legend": {
         "title": {
          "text": "ClothesName"
         },
         "tracegroupgap": 0
        },
        "margin": {
         "t": 60
        },
        "template": {
         "data": {
          "bar": [
           {
            "error_x": {
             "color": "#2a3f5f"
            },
            "error_y": {
             "color": "#2a3f5f"
            },
            "marker": {
             "line": {
              "color": "#E5ECF6",
              "width": 0.5
             },
             "pattern": {
              "fillmode": "overlay",
              "size": 10,
              "solidity": 0.2
             }
            },
            "type": "bar"
           }
          ],
          "barpolar": [
           {
            "marker": {
             "line": {
              "color": "#E5ECF6",
              "width": 0.5
             },
             "pattern": {
              "fillmode": "overlay",
              "size": 10,
              "solidity": 0.2
             }
            },
            "type": "barpolar"
           }
          ],
          "carpet": [
           {
            "aaxis": {
             "endlinecolor": "#2a3f5f",
             "gridcolor": "white",
             "linecolor": "white",
             "minorgridcolor": "white",
             "startlinecolor": "#2a3f5f"
            },
            "baxis": {
             "endlinecolor": "#2a3f5f",
             "gridcolor": "white",
             "linecolor": "white",
             "minorgridcolor": "white",
             "startlinecolor": "#2a3f5f"
            },
            "type": "carpet"
           }
          ],
          "choropleth": [
           {
            "colorbar": {
             "outlinewidth": 0,
             "ticks": ""
            },
            "type": "choropleth"
           }
          ],
          "contour": [
           {
            "colorbar": {
             "outlinewidth": 0,
             "ticks": ""
            },
            "colorscale": [
             [
              0,
              "#0d0887"
             ],
             [
              0.1111111111111111,
              "#46039f"
             ],
             [
              0.2222222222222222,
              "#7201a8"
             ],
             [
              0.3333333333333333,
              "#9c179e"
             ],
             [
              0.4444444444444444,
              "#bd3786"
             ],
             [
              0.5555555555555556,
              "#d8576b"
             ],
             [
              0.6666666666666666,
              "#ed7953"
             ],
             [
              0.7777777777777778,
              "#fb9f3a"
             ],
             [
              0.8888888888888888,
              "#fdca26"
             ],
             [
              1,
              "#f0f921"
             ]
            ],
            "type": "contour"
           }
          ],
          "contourcarpet": [
           {
            "colorbar": {
             "outlinewidth": 0,
             "ticks": ""
            },
            "type": "contourcarpet"
           }
          ],
          "heatmap": [
           {
            "colorbar": {
             "outlinewidth": 0,
             "ticks": ""
            },
            "colorscale": [
             [
              0,
              "#0d0887"
             ],
             [
              0.1111111111111111,
              "#46039f"
             ],
             [
              0.2222222222222222,
              "#7201a8"
             ],
             [
              0.3333333333333333,
              "#9c179e"
             ],
             [
              0.4444444444444444,
              "#bd3786"
             ],
             [
              0.5555555555555556,
              "#d8576b"
             ],
             [
              0.6666666666666666,
              "#ed7953"
             ],
             [
              0.7777777777777778,
              "#fb9f3a"
             ],
             [
              0.8888888888888888,
              "#fdca26"
             ],
             [
              1,
              "#f0f921"
             ]
            ],
            "type": "heatmap"
           }
          ],
          "heatmapgl": [
           {
            "colorbar": {
             "outlinewidth": 0,
             "ticks": ""
            },
            "colorscale": [
             [
              0,
              "#0d0887"
             ],
             [
              0.1111111111111111,
              "#46039f"
             ],
             [
              0.2222222222222222,
              "#7201a8"
             ],
             [
              0.3333333333333333,
              "#9c179e"
             ],
             [
              0.4444444444444444,
              "#bd3786"
             ],
             [
              0.5555555555555556,
              "#d8576b"
             ],
             [
              0.6666666666666666,
              "#ed7953"
             ],
             [
              0.7777777777777778,
              "#fb9f3a"
             ],
             [
              0.8888888888888888,
              "#fdca26"
             ],
             [
              1,
              "#f0f921"
             ]
            ],
            "type": "heatmapgl"
           }
          ],
          "histogram": [
           {
            "marker": {
             "pattern": {
              "fillmode": "overlay",
              "size": 10,
              "solidity": 0.2
             }
            },
            "type": "histogram"
           }
          ],
          "histogram2d": [
           {
            "colorbar": {
             "outlinewidth": 0,
             "ticks": ""
            },
            "colorscale": [
             [
              0,
              "#0d0887"
             ],
             [
              0.1111111111111111,
              "#46039f"
             ],
             [
              0.2222222222222222,
              "#7201a8"
             ],
             [
              0.3333333333333333,
              "#9c179e"
             ],
             [
              0.4444444444444444,
              "#bd3786"
             ],
             [
              0.5555555555555556,
              "#d8576b"
             ],
             [
              0.6666666666666666,
              "#ed7953"
             ],
             [
              0.7777777777777778,
              "#fb9f3a"
             ],
             [
              0.8888888888888888,
              "#fdca26"
             ],
             [
              1,
              "#f0f921"
             ]
            ],
            "type": "histogram2d"
           }
          ],
          "histogram2dcontour": [
           {
            "colorbar": {
             "outlinewidth": 0,
             "ticks": ""
            },
            "colorscale": [
             [
              0,
              "#0d0887"
             ],
             [
              0.1111111111111111,
              "#46039f"
             ],
             [
              0.2222222222222222,
              "#7201a8"
             ],
             [
              0.3333333333333333,
              "#9c179e"
             ],
             [
              0.4444444444444444,
              "#bd3786"
             ],
             [
              0.5555555555555556,
              "#d8576b"
             ],
             [
              0.6666666666666666,
              "#ed7953"
             ],
             [
              0.7777777777777778,
              "#fb9f3a"
             ],
             [
              0.8888888888888888,
              "#fdca26"
             ],
             [
              1,
              "#f0f921"
             ]
            ],
            "type": "histogram2dcontour"
           }
          ],
          "mesh3d": [
           {
            "colorbar": {
             "outlinewidth": 0,
             "ticks": ""
            },
            "type": "mesh3d"
           }
          ],
          "parcoords": [
           {
            "line": {
             "colorbar": {
              "outlinewidth": 0,
              "ticks": ""
             }
            },
            "type": "parcoords"
           }
          ],
          "pie": [
           {
            "automargin": true,
            "type": "pie"
           }
          ],
          "scatter": [
           {
            "fillpattern": {
             "fillmode": "overlay",
             "size": 10,
             "solidity": 0.2
            },
            "type": "scatter"
           }
          ],
          "scatter3d": [
           {
            "line": {
             "colorbar": {
              "outlinewidth": 0,
              "ticks": ""
             }
            },
            "marker": {
             "colorbar": {
              "outlinewidth": 0,
              "ticks": ""
             }
            },
            "type": "scatter3d"
           }
          ],
          "scattercarpet": [
           {
            "marker": {
             "colorbar": {
              "outlinewidth": 0,
              "ticks": ""
             }
            },
            "type": "scattercarpet"
           }
          ],
          "scattergeo": [
           {
            "marker": {
             "colorbar": {
              "outlinewidth": 0,
              "ticks": ""
             }
            },
            "type": "scattergeo"
           }
          ],
          "scattergl": [
           {
            "marker": {
             "colorbar": {
              "outlinewidth": 0,
              "ticks": ""
             }
            },
            "type": "scattergl"
           }
          ],
          "scattermapbox": [
           {
            "marker": {
             "colorbar": {
              "outlinewidth": 0,
              "ticks": ""
             }
            },
            "type": "scattermapbox"
           }
          ],
          "scatterpolar": [
           {
            "marker": {
             "colorbar": {
              "outlinewidth": 0,
              "ticks": ""
             }
            },
            "type": "scatterpolar"
           }
          ],
          "scatterpolargl": [
           {
            "marker": {
             "colorbar": {
              "outlinewidth": 0,
              "ticks": ""
             }
            },
            "type": "scatterpolargl"
           }
          ],
          "scatterternary": [
           {
            "marker": {
             "colorbar": {
              "outlinewidth": 0,
              "ticks": ""
             }
            },
            "type": "scatterternary"
           }
          ],
          "surface": [
           {
            "colorbar": {
             "outlinewidth": 0,
             "ticks": ""
            },
            "colorscale": [
             [
              0,
              "#0d0887"
             ],
             [
              0.1111111111111111,
              "#46039f"
             ],
             [
              0.2222222222222222,
              "#7201a8"
             ],
             [
              0.3333333333333333,
              "#9c179e"
             ],
             [
              0.4444444444444444,
              "#bd3786"
             ],
             [
              0.5555555555555556,
              "#d8576b"
             ],
             [
              0.6666666666666666,
              "#ed7953"
             ],
             [
              0.7777777777777778,
              "#fb9f3a"
             ],
             [
              0.8888888888888888,
              "#fdca26"
             ],
             [
              1,
              "#f0f921"
             ]
            ],
            "type": "surface"
           }
          ],
          "table": [
           {
            "cells": {
             "fill": {
              "color": "#EBF0F8"
             },
             "line": {
              "color": "white"
             }
            },
            "header": {
             "fill": {
              "color": "#C8D4E3"
             },
             "line": {
              "color": "white"
             }
            },
            "type": "table"
           }
          ]
         },
         "layout": {
          "annotationdefaults": {
           "arrowcolor": "#2a3f5f",
           "arrowhead": 0,
           "arrowwidth": 1
          },
          "autotypenumbers": "strict",
          "coloraxis": {
           "colorbar": {
            "outlinewidth": 0,
            "ticks": ""
           }
          },
          "colorscale": {
           "diverging": [
            [
             0,
             "#8e0152"
            ],
            [
             0.1,
             "#c51b7d"
            ],
            [
             0.2,
             "#de77ae"
            ],
            [
             0.3,
             "#f1b6da"
            ],
            [
             0.4,
             "#fde0ef"
            ],
            [
             0.5,
             "#f7f7f7"
            ],
            [
             0.6,
             "#e6f5d0"
            ],
            [
             0.7,
             "#b8e186"
            ],
            [
             0.8,
             "#7fbc41"
            ],
            [
             0.9,
             "#4d9221"
            ],
            [
             1,
             "#276419"
            ]
           ],
           "sequential": [
            [
             0,
             "#0d0887"
            ],
            [
             0.1111111111111111,
             "#46039f"
            ],
            [
             0.2222222222222222,
             "#7201a8"
            ],
            [
             0.3333333333333333,
             "#9c179e"
            ],
            [
             0.4444444444444444,
             "#bd3786"
            ],
            [
             0.5555555555555556,
             "#d8576b"
            ],
            [
             0.6666666666666666,
             "#ed7953"
            ],
            [
             0.7777777777777778,
             "#fb9f3a"
            ],
            [
             0.8888888888888888,
             "#fdca26"
            ],
            [
             1,
             "#f0f921"
            ]
           ],
           "sequentialminus": [
            [
             0,
             "#0d0887"
            ],
            [
             0.1111111111111111,
             "#46039f"
            ],
            [
             0.2222222222222222,
             "#7201a8"
            ],
            [
             0.3333333333333333,
             "#9c179e"
            ],
            [
             0.4444444444444444,
             "#bd3786"
            ],
            [
             0.5555555555555556,
             "#d8576b"
            ],
            [
             0.6666666666666666,
             "#ed7953"
            ],
            [
             0.7777777777777778,
             "#fb9f3a"
            ],
            [
             0.8888888888888888,
             "#fdca26"
            ],
            [
             1,
             "#f0f921"
            ]
           ]
          },
          "colorway": [
           "#636efa",
           "#EF553B",
           "#00cc96",
           "#ab63fa",
           "#FFA15A",
           "#19d3f3",
           "#FF6692",
           "#B6E880",
           "#FF97FF",
           "#FECB52"
          ],
          "font": {
           "color": "#2a3f5f"
          },
          "geo": {
           "bgcolor": "white",
           "lakecolor": "white",
           "landcolor": "#E5ECF6",
           "showlakes": true,
           "showland": true,
           "subunitcolor": "white"
          },
          "hoverlabel": {
           "align": "left"
          },
          "hovermode": "closest",
          "mapbox": {
           "style": "light"
          },
          "paper_bgcolor": "white",
          "plot_bgcolor": "#E5ECF6",
          "polar": {
           "angularaxis": {
            "gridcolor": "white",
            "linecolor": "white",
            "ticks": ""
           },
           "bgcolor": "#E5ECF6",
           "radialaxis": {
            "gridcolor": "white",
            "linecolor": "white",
            "ticks": ""
           }
          },
          "scene": {
           "xaxis": {
            "backgroundcolor": "#E5ECF6",
            "gridcolor": "white",
            "gridwidth": 2,
            "linecolor": "white",
            "showbackground": true,
            "ticks": "",
            "zerolinecolor": "white"
           },
           "yaxis": {
            "backgroundcolor": "#E5ECF6",
            "gridcolor": "white",
            "gridwidth": 2,
            "linecolor": "white",
            "showbackground": true,
            "ticks": "",
            "zerolinecolor": "white"
           },
           "zaxis": {
            "backgroundcolor": "#E5ECF6",
            "gridcolor": "white",
            "gridwidth": 2,
            "linecolor": "white",
            "showbackground": true,
            "ticks": "",
            "zerolinecolor": "white"
           }
          },
          "shapedefaults": {
           "line": {
            "color": "#2a3f5f"
           }
          },
          "ternary": {
           "aaxis": {
            "gridcolor": "white",
            "linecolor": "white",
            "ticks": ""
           },
           "baxis": {
            "gridcolor": "white",
            "linecolor": "white",
            "ticks": ""
           },
           "bgcolor": "#E5ECF6",
           "caxis": {
            "gridcolor": "white",
            "linecolor": "white",
            "ticks": ""
           }
          },
          "title": {
           "x": 0.05
          },
          "xaxis": {
           "automargin": true,
           "gridcolor": "white",
           "linecolor": "white",
           "ticks": "",
           "title": {
            "standoff": 15
           },
           "zerolinecolor": "white",
           "zerolinewidth": 2
          },
          "yaxis": {
           "automargin": true,
           "gridcolor": "white",
           "linecolor": "white",
           "ticks": "",
           "title": {
            "standoff": 15
           },
           "zerolinecolor": "white",
           "zerolinewidth": 2
          }
         }
        },
        "xaxis": {
         "anchor": "y",
         "domain": [
          0,
          1
         ],
         "title": {
          "text": "NowWeather"
         }
        },
        "yaxis": {
         "anchor": "x",
         "domain": [
          0,
          1
         ],
         "title": {
          "text": "CalculatorScore"
         }
        }
       }
      }
     },
     "metadata": {},
     "output_type": "display_data"
    }
   ],
   "source": [
    "\n",
    "\n",
    "fig = px.line(df_sigle_show, \n",
    "    x = 'NowWeather',\n",
    "    y = 'CalculatorScore',\n",
    "    color = 'ClothesName',\n",
    "    text= \"ClothesName\")\n",
    "fig.show()\n",
    "\n",
    "# fig = px\n"
   ]
  },
  {
   "attachments": {},
   "cell_type": "markdown",
   "metadata": {},
   "source": [
    "# humd"
   ]
  },
  {
   "cell_type": "code",
   "execution_count": 39,
   "metadata": {},
   "outputs": [],
   "source": [
    "# formula\n",
    "def weather_result_humd(user_weatherLike, now_temp, now_humd, clothes_name, weather_score):\n",
    "    # calculator\n",
    "    calculator_ans = 0\n",
    "    # temp: 0~23, humd: 0~60\n",
    "    calculator_ans = abs( ( (comfortable_temp - now_temp ) + ( 5 - weather_score)) / 25 * 45 + (comfortable_humd - now_humd) / 100 * 60 + ( 5 - weather_score) ) \n",
    "    \n",
    "\n",
    "    # output \n",
    "    # print(\"{0}({1}): {2}\".format(clothes_name, weather_score, calculator_ans))\n",
    "    return calculator_ans"
   ]
  },
  {
   "cell_type": "code",
   "execution_count": 40,
   "metadata": {},
   "outputs": [
    {
     "data": {
      "application/vnd.plotly.v1+json": {
       "config": {
        "plotlyServerURL": "https://plot.ly"
       },
       "data": [
        {
         "hovertemplate": "ClothesName=%{text}<br>NowWeather=%{x}<br>CalculatorScore=%{y}<extra></extra>",
         "legendgroup": "T-Shirt",
         "line": {
          "color": "#636efa",
          "dash": "solid"
         },
         "marker": {
          "symbol": "circle"
         },
         "mode": "text+markers+lines",
         "name": "T-Shirt",
         "orientation": "v",
         "showlegend": true,
         "text": [
          "T-Shirt",
          "T-Shirt",
          "T-Shirt",
          "T-Shirt",
          "T-Shirt",
          "T-Shirt",
          "T-Shirt",
          "T-Shirt",
          "T-Shirt",
          "T-Shirt"
         ],
         "type": "scatter",
         "x": [
          40,
          45,
          50,
          55,
          60,
          65,
          70,
          75,
          80,
          85
         ],
         "xaxis": "x",
         "y": [
          51.199999999999996,
          48.2,
          45.199999999999996,
          42.199999999999996,
          39.199999999999996,
          36.199999999999996,
          33.2,
          30.2,
          27.199999999999996,
          24.2
         ],
         "yaxis": "y"
        },
        {
         "hovertemplate": "ClothesName=%{text}<br>NowWeather=%{x}<br>CalculatorScore=%{y}<extra></extra>",
         "legendgroup": "Longsleve",
         "line": {
          "color": "#EF553B",
          "dash": "solid"
         },
         "marker": {
          "symbol": "circle"
         },
         "mode": "text+markers+lines",
         "name": "Longsleve",
         "orientation": "v",
         "showlegend": true,
         "text": [
          "Longsleve",
          "Longsleve",
          "Longsleve",
          "Longsleve",
          "Longsleve",
          "Longsleve",
          "Longsleve",
          "Longsleve",
          "Longsleve",
          "Longsleve"
         ],
         "type": "scatter",
         "x": [
          40,
          45,
          50,
          55,
          60,
          65,
          70,
          75,
          80,
          85
         ],
         "xaxis": "x",
         "y": [
          42.8,
          39.8,
          36.8,
          33.8,
          30.799999999999997,
          27.799999999999997,
          24.799999999999997,
          21.799999999999997,
          18.799999999999997,
          15.799999999999997
         ],
         "yaxis": "y"
        },
        {
         "hovertemplate": "ClothesName=%{text}<br>NowWeather=%{x}<br>CalculatorScore=%{y}<extra></extra>",
         "legendgroup": "Weaters",
         "line": {
          "color": "#00cc96",
          "dash": "solid"
         },
         "marker": {
          "symbol": "circle"
         },
         "mode": "text+markers+lines",
         "name": "Weaters",
         "orientation": "v",
         "showlegend": true,
         "text": [
          "Weaters",
          "Weaters",
          "Weaters",
          "Weaters",
          "Weaters",
          "Weaters",
          "Weaters",
          "Weaters",
          "Weaters",
          "Weaters"
         ],
         "type": "scatter",
         "x": [
          40,
          45,
          50,
          55,
          60,
          65,
          70,
          75,
          80,
          85
         ],
         "xaxis": "x",
         "y": [
          34.4,
          31.4,
          28.4,
          25.4,
          22.4,
          19.4,
          16.4,
          13.399999999999999,
          10.399999999999997,
          7.399999999999999
         ],
         "yaxis": "y"
        },
        {
         "hovertemplate": "ClothesName=%{text}<br>NowWeather=%{x}<br>CalculatorScore=%{y}<extra></extra>",
         "legendgroup": "Skirt",
         "line": {
          "color": "#ab63fa",
          "dash": "solid"
         },
         "marker": {
          "symbol": "circle"
         },
         "mode": "text+markers+lines",
         "name": "Skirt",
         "orientation": "v",
         "showlegend": true,
         "text": [
          "Skirt",
          "Skirt",
          "Skirt",
          "Skirt",
          "Skirt",
          "Skirt",
          "Skirt",
          "Skirt",
          "Skirt",
          "Skirt"
         ],
         "type": "scatter",
         "x": [
          40,
          45,
          50,
          55,
          60,
          65,
          70,
          75,
          80,
          85
         ],
         "xaxis": "x",
         "y": [
          54,
          51,
          48,
          45,
          42,
          39,
          36,
          33,
          30,
          27.000000000000004
         ],
         "yaxis": "y"
        },
        {
         "hovertemplate": "ClothesName=%{text}<br>NowWeather=%{x}<br>CalculatorScore=%{y}<extra></extra>",
         "legendgroup": "Short",
         "line": {
          "color": "#FFA15A",
          "dash": "solid"
         },
         "marker": {
          "symbol": "circle"
         },
         "mode": "text+markers+lines",
         "name": "Short",
         "orientation": "v",
         "showlegend": true,
         "text": [
          "Short",
          "Short",
          "Short",
          "Short",
          "Short",
          "Short",
          "Short",
          "Short",
          "Short",
          "Short"
         ],
         "type": "scatter",
         "x": [
          40,
          45,
          50,
          55,
          60,
          65,
          70,
          75,
          80,
          85
         ],
         "xaxis": "x",
         "y": [
          48.4,
          45.400000000000006,
          42.4,
          39.4,
          36.4,
          33.4,
          30.400000000000002,
          27.400000000000002,
          24.4,
          21.400000000000002
         ],
         "yaxis": "y"
        },
        {
         "hovertemplate": "ClothesName=%{text}<br>NowWeather=%{x}<br>CalculatorScore=%{y}<extra></extra>",
         "legendgroup": "Pants",
         "line": {
          "color": "#19d3f3",
          "dash": "solid"
         },
         "marker": {
          "symbol": "circle"
         },
         "mode": "text+markers+lines",
         "name": "Pants",
         "orientation": "v",
         "showlegend": true,
         "text": [
          "Pants",
          "Pants",
          "Pants",
          "Pants",
          "Pants",
          "Pants",
          "Pants",
          "Pants",
          "Pants",
          "Pants"
         ],
         "type": "scatter",
         "x": [
          40,
          45,
          50,
          55,
          60,
          65,
          70,
          75,
          80,
          85
         ],
         "xaxis": "x",
         "y": [
          37.199999999999996,
          34.2,
          31.199999999999996,
          28.2,
          25.2,
          22.2,
          19.2,
          16.2,
          13.199999999999996,
          10.2
         ],
         "yaxis": "y"
        }
       ],
       "layout": {
        "legend": {
         "title": {
          "text": "ClothesName"
         },
         "tracegroupgap": 0
        },
        "margin": {
         "t": 60
        },
        "template": {
         "data": {
          "bar": [
           {
            "error_x": {
             "color": "#2a3f5f"
            },
            "error_y": {
             "color": "#2a3f5f"
            },
            "marker": {
             "line": {
              "color": "#E5ECF6",
              "width": 0.5
             },
             "pattern": {
              "fillmode": "overlay",
              "size": 10,
              "solidity": 0.2
             }
            },
            "type": "bar"
           }
          ],
          "barpolar": [
           {
            "marker": {
             "line": {
              "color": "#E5ECF6",
              "width": 0.5
             },
             "pattern": {
              "fillmode": "overlay",
              "size": 10,
              "solidity": 0.2
             }
            },
            "type": "barpolar"
           }
          ],
          "carpet": [
           {
            "aaxis": {
             "endlinecolor": "#2a3f5f",
             "gridcolor": "white",
             "linecolor": "white",
             "minorgridcolor": "white",
             "startlinecolor": "#2a3f5f"
            },
            "baxis": {
             "endlinecolor": "#2a3f5f",
             "gridcolor": "white",
             "linecolor": "white",
             "minorgridcolor": "white",
             "startlinecolor": "#2a3f5f"
            },
            "type": "carpet"
           }
          ],
          "choropleth": [
           {
            "colorbar": {
             "outlinewidth": 0,
             "ticks": ""
            },
            "type": "choropleth"
           }
          ],
          "contour": [
           {
            "colorbar": {
             "outlinewidth": 0,
             "ticks": ""
            },
            "colorscale": [
             [
              0,
              "#0d0887"
             ],
             [
              0.1111111111111111,
              "#46039f"
             ],
             [
              0.2222222222222222,
              "#7201a8"
             ],
             [
              0.3333333333333333,
              "#9c179e"
             ],
             [
              0.4444444444444444,
              "#bd3786"
             ],
             [
              0.5555555555555556,
              "#d8576b"
             ],
             [
              0.6666666666666666,
              "#ed7953"
             ],
             [
              0.7777777777777778,
              "#fb9f3a"
             ],
             [
              0.8888888888888888,
              "#fdca26"
             ],
             [
              1,
              "#f0f921"
             ]
            ],
            "type": "contour"
           }
          ],
          "contourcarpet": [
           {
            "colorbar": {
             "outlinewidth": 0,
             "ticks": ""
            },
            "type": "contourcarpet"
           }
          ],
          "heatmap": [
           {
            "colorbar": {
             "outlinewidth": 0,
             "ticks": ""
            },
            "colorscale": [
             [
              0,
              "#0d0887"
             ],
             [
              0.1111111111111111,
              "#46039f"
             ],
             [
              0.2222222222222222,
              "#7201a8"
             ],
             [
              0.3333333333333333,
              "#9c179e"
             ],
             [
              0.4444444444444444,
              "#bd3786"
             ],
             [
              0.5555555555555556,
              "#d8576b"
             ],
             [
              0.6666666666666666,
              "#ed7953"
             ],
             [
              0.7777777777777778,
              "#fb9f3a"
             ],
             [
              0.8888888888888888,
              "#fdca26"
             ],
             [
              1,
              "#f0f921"
             ]
            ],
            "type": "heatmap"
           }
          ],
          "heatmapgl": [
           {
            "colorbar": {
             "outlinewidth": 0,
             "ticks": ""
            },
            "colorscale": [
             [
              0,
              "#0d0887"
             ],
             [
              0.1111111111111111,
              "#46039f"
             ],
             [
              0.2222222222222222,
              "#7201a8"
             ],
             [
              0.3333333333333333,
              "#9c179e"
             ],
             [
              0.4444444444444444,
              "#bd3786"
             ],
             [
              0.5555555555555556,
              "#d8576b"
             ],
             [
              0.6666666666666666,
              "#ed7953"
             ],
             [
              0.7777777777777778,
              "#fb9f3a"
             ],
             [
              0.8888888888888888,
              "#fdca26"
             ],
             [
              1,
              "#f0f921"
             ]
            ],
            "type": "heatmapgl"
           }
          ],
          "histogram": [
           {
            "marker": {
             "pattern": {
              "fillmode": "overlay",
              "size": 10,
              "solidity": 0.2
             }
            },
            "type": "histogram"
           }
          ],
          "histogram2d": [
           {
            "colorbar": {
             "outlinewidth": 0,
             "ticks": ""
            },
            "colorscale": [
             [
              0,
              "#0d0887"
             ],
             [
              0.1111111111111111,
              "#46039f"
             ],
             [
              0.2222222222222222,
              "#7201a8"
             ],
             [
              0.3333333333333333,
              "#9c179e"
             ],
             [
              0.4444444444444444,
              "#bd3786"
             ],
             [
              0.5555555555555556,
              "#d8576b"
             ],
             [
              0.6666666666666666,
              "#ed7953"
             ],
             [
              0.7777777777777778,
              "#fb9f3a"
             ],
             [
              0.8888888888888888,
              "#fdca26"
             ],
             [
              1,
              "#f0f921"
             ]
            ],
            "type": "histogram2d"
           }
          ],
          "histogram2dcontour": [
           {
            "colorbar": {
             "outlinewidth": 0,
             "ticks": ""
            },
            "colorscale": [
             [
              0,
              "#0d0887"
             ],
             [
              0.1111111111111111,
              "#46039f"
             ],
             [
              0.2222222222222222,
              "#7201a8"
             ],
             [
              0.3333333333333333,
              "#9c179e"
             ],
             [
              0.4444444444444444,
              "#bd3786"
             ],
             [
              0.5555555555555556,
              "#d8576b"
             ],
             [
              0.6666666666666666,
              "#ed7953"
             ],
             [
              0.7777777777777778,
              "#fb9f3a"
             ],
             [
              0.8888888888888888,
              "#fdca26"
             ],
             [
              1,
              "#f0f921"
             ]
            ],
            "type": "histogram2dcontour"
           }
          ],
          "mesh3d": [
           {
            "colorbar": {
             "outlinewidth": 0,
             "ticks": ""
            },
            "type": "mesh3d"
           }
          ],
          "parcoords": [
           {
            "line": {
             "colorbar": {
              "outlinewidth": 0,
              "ticks": ""
             }
            },
            "type": "parcoords"
           }
          ],
          "pie": [
           {
            "automargin": true,
            "type": "pie"
           }
          ],
          "scatter": [
           {
            "fillpattern": {
             "fillmode": "overlay",
             "size": 10,
             "solidity": 0.2
            },
            "type": "scatter"
           }
          ],
          "scatter3d": [
           {
            "line": {
             "colorbar": {
              "outlinewidth": 0,
              "ticks": ""
             }
            },
            "marker": {
             "colorbar": {
              "outlinewidth": 0,
              "ticks": ""
             }
            },
            "type": "scatter3d"
           }
          ],
          "scattercarpet": [
           {
            "marker": {
             "colorbar": {
              "outlinewidth": 0,
              "ticks": ""
             }
            },
            "type": "scattercarpet"
           }
          ],
          "scattergeo": [
           {
            "marker": {
             "colorbar": {
              "outlinewidth": 0,
              "ticks": ""
             }
            },
            "type": "scattergeo"
           }
          ],
          "scattergl": [
           {
            "marker": {
             "colorbar": {
              "outlinewidth": 0,
              "ticks": ""
             }
            },
            "type": "scattergl"
           }
          ],
          "scattermapbox": [
           {
            "marker": {
             "colorbar": {
              "outlinewidth": 0,
              "ticks": ""
             }
            },
            "type": "scattermapbox"
           }
          ],
          "scatterpolar": [
           {
            "marker": {
             "colorbar": {
              "outlinewidth": 0,
              "ticks": ""
             }
            },
            "type": "scatterpolar"
           }
          ],
          "scatterpolargl": [
           {
            "marker": {
             "colorbar": {
              "outlinewidth": 0,
              "ticks": ""
             }
            },
            "type": "scatterpolargl"
           }
          ],
          "scatterternary": [
           {
            "marker": {
             "colorbar": {
              "outlinewidth": 0,
              "ticks": ""
             }
            },
            "type": "scatterternary"
           }
          ],
          "surface": [
           {
            "colorbar": {
             "outlinewidth": 0,
             "ticks": ""
            },
            "colorscale": [
             [
              0,
              "#0d0887"
             ],
             [
              0.1111111111111111,
              "#46039f"
             ],
             [
              0.2222222222222222,
              "#7201a8"
             ],
             [
              0.3333333333333333,
              "#9c179e"
             ],
             [
              0.4444444444444444,
              "#bd3786"
             ],
             [
              0.5555555555555556,
              "#d8576b"
             ],
             [
              0.6666666666666666,
              "#ed7953"
             ],
             [
              0.7777777777777778,
              "#fb9f3a"
             ],
             [
              0.8888888888888888,
              "#fdca26"
             ],
             [
              1,
              "#f0f921"
             ]
            ],
            "type": "surface"
           }
          ],
          "table": [
           {
            "cells": {
             "fill": {
              "color": "#EBF0F8"
             },
             "line": {
              "color": "white"
             }
            },
            "header": {
             "fill": {
              "color": "#C8D4E3"
             },
             "line": {
              "color": "white"
             }
            },
            "type": "table"
           }
          ]
         },
         "layout": {
          "annotationdefaults": {
           "arrowcolor": "#2a3f5f",
           "arrowhead": 0,
           "arrowwidth": 1
          },
          "autotypenumbers": "strict",
          "coloraxis": {
           "colorbar": {
            "outlinewidth": 0,
            "ticks": ""
           }
          },
          "colorscale": {
           "diverging": [
            [
             0,
             "#8e0152"
            ],
            [
             0.1,
             "#c51b7d"
            ],
            [
             0.2,
             "#de77ae"
            ],
            [
             0.3,
             "#f1b6da"
            ],
            [
             0.4,
             "#fde0ef"
            ],
            [
             0.5,
             "#f7f7f7"
            ],
            [
             0.6,
             "#e6f5d0"
            ],
            [
             0.7,
             "#b8e186"
            ],
            [
             0.8,
             "#7fbc41"
            ],
            [
             0.9,
             "#4d9221"
            ],
            [
             1,
             "#276419"
            ]
           ],
           "sequential": [
            [
             0,
             "#0d0887"
            ],
            [
             0.1111111111111111,
             "#46039f"
            ],
            [
             0.2222222222222222,
             "#7201a8"
            ],
            [
             0.3333333333333333,
             "#9c179e"
            ],
            [
             0.4444444444444444,
             "#bd3786"
            ],
            [
             0.5555555555555556,
             "#d8576b"
            ],
            [
             0.6666666666666666,
             "#ed7953"
            ],
            [
             0.7777777777777778,
             "#fb9f3a"
            ],
            [
             0.8888888888888888,
             "#fdca26"
            ],
            [
             1,
             "#f0f921"
            ]
           ],
           "sequentialminus": [
            [
             0,
             "#0d0887"
            ],
            [
             0.1111111111111111,
             "#46039f"
            ],
            [
             0.2222222222222222,
             "#7201a8"
            ],
            [
             0.3333333333333333,
             "#9c179e"
            ],
            [
             0.4444444444444444,
             "#bd3786"
            ],
            [
             0.5555555555555556,
             "#d8576b"
            ],
            [
             0.6666666666666666,
             "#ed7953"
            ],
            [
             0.7777777777777778,
             "#fb9f3a"
            ],
            [
             0.8888888888888888,
             "#fdca26"
            ],
            [
             1,
             "#f0f921"
            ]
           ]
          },
          "colorway": [
           "#636efa",
           "#EF553B",
           "#00cc96",
           "#ab63fa",
           "#FFA15A",
           "#19d3f3",
           "#FF6692",
           "#B6E880",
           "#FF97FF",
           "#FECB52"
          ],
          "font": {
           "color": "#2a3f5f"
          },
          "geo": {
           "bgcolor": "white",
           "lakecolor": "white",
           "landcolor": "#E5ECF6",
           "showlakes": true,
           "showland": true,
           "subunitcolor": "white"
          },
          "hoverlabel": {
           "align": "left"
          },
          "hovermode": "closest",
          "mapbox": {
           "style": "light"
          },
          "paper_bgcolor": "white",
          "plot_bgcolor": "#E5ECF6",
          "polar": {
           "angularaxis": {
            "gridcolor": "white",
            "linecolor": "white",
            "ticks": ""
           },
           "bgcolor": "#E5ECF6",
           "radialaxis": {
            "gridcolor": "white",
            "linecolor": "white",
            "ticks": ""
           }
          },
          "scene": {
           "xaxis": {
            "backgroundcolor": "#E5ECF6",
            "gridcolor": "white",
            "gridwidth": 2,
            "linecolor": "white",
            "showbackground": true,
            "ticks": "",
            "zerolinecolor": "white"
           },
           "yaxis": {
            "backgroundcolor": "#E5ECF6",
            "gridcolor": "white",
            "gridwidth": 2,
            "linecolor": "white",
            "showbackground": true,
            "ticks": "",
            "zerolinecolor": "white"
           },
           "zaxis": {
            "backgroundcolor": "#E5ECF6",
            "gridcolor": "white",
            "gridwidth": 2,
            "linecolor": "white",
            "showbackground": true,
            "ticks": "",
            "zerolinecolor": "white"
           }
          },
          "shapedefaults": {
           "line": {
            "color": "#2a3f5f"
           }
          },
          "ternary": {
           "aaxis": {
            "gridcolor": "white",
            "linecolor": "white",
            "ticks": ""
           },
           "baxis": {
            "gridcolor": "white",
            "linecolor": "white",
            "ticks": ""
           },
           "bgcolor": "#E5ECF6",
           "caxis": {
            "gridcolor": "white",
            "linecolor": "white",
            "ticks": ""
           }
          },
          "title": {
           "x": 0.05
          },
          "xaxis": {
           "automargin": true,
           "gridcolor": "white",
           "linecolor": "white",
           "ticks": "",
           "title": {
            "standoff": 15
           },
           "zerolinecolor": "white",
           "zerolinewidth": 2
          },
          "yaxis": {
           "automargin": true,
           "gridcolor": "white",
           "linecolor": "white",
           "ticks": "",
           "title": {
            "standoff": 15
           },
           "zerolinecolor": "white",
           "zerolinewidth": 2
          }
         }
        },
        "xaxis": {
         "anchor": "y",
         "domain": [
          0,
          1
         ],
         "title": {
          "text": "NowWeather"
         }
        },
        "yaxis": {
         "anchor": "x",
         "domain": [
          0,
          1
         ],
         "title": {
          "text": "CalculatorScore"
         }
        }
       }
      }
     },
     "metadata": {},
     "output_type": "display_data"
    }
   ],
   "source": [
    "\n",
    "list_sigle_show_humd = []\n",
    "for now_humd in range(40, 90, 5):\n",
    "    for iloc_count in range(len(df_sigle)):\n",
    "        calculator = weather_result_humd(   user_weatherLike, 8, now_humd, # 10 , 23 , 30\n",
    "                                            df_sigle.iloc[iloc_count].ClothesName, df_sigle.iloc[iloc_count].WeatherScore\n",
    "                                        )\n",
    "        \n",
    "        list_sigle_show_humd.append([now_humd, \n",
    "                                    df_sigle.iloc[iloc_count].ClothesName, \n",
    "                                    df_sigle.iloc[iloc_count].WeatherScore, \n",
    "                                    calculator])\n",
    "        \n",
    "df_sigle_show_humd = pd.DataFrame(list_sigle_show_humd, columns=[\"NowWeather\", \"ClothesName\", \"WeatherScore\",\"CalculatorScore\"])\n",
    "\n",
    "\n",
    "\n",
    "\n",
    "fig = px.line(df_sigle_show_humd,     \n",
    "    x = 'NowWeather',\n",
    "    y = 'CalculatorScore',\n",
    "    color = 'ClothesName',\n",
    "    text= \"ClothesName\")\n",
    "fig.show()\n",
    "\n",
    "# fig = px\n",
    "\n",
    "# 10度"
   ]
  },
  {
   "cell_type": "code",
   "execution_count": 41,
   "metadata": {},
   "outputs": [
    {
     "data": {
      "application/vnd.plotly.v1+json": {
       "config": {
        "plotlyServerURL": "https://plot.ly"
       },
       "data": [
        {
         "hovertemplate": "ClothesName=%{text}<br>NowWeather=%{x}<br>CalculatorScore=%{y}<extra></extra>",
         "legendgroup": "T-Shirt",
         "line": {
          "color": "#636efa",
          "dash": "solid"
         },
         "marker": {
          "symbol": "circle"
         },
         "mode": "text+markers+lines",
         "name": "T-Shirt",
         "orientation": "v",
         "showlegend": true,
         "text": [
          "T-Shirt",
          "T-Shirt",
          "T-Shirt",
          "T-Shirt",
          "T-Shirt",
          "T-Shirt",
          "T-Shirt",
          "T-Shirt"
         ],
         "type": "scatter",
         "x": [
          40,
          45,
          50,
          55,
          60,
          65,
          70,
          75
         ],
         "xaxis": "x",
         "y": [
          20.6,
          17.6,
          14.600000000000001,
          11.600000000000001,
          8.600000000000001,
          5.600000000000001,
          2.6000000000000005,
          0.3999999999999986
         ],
         "yaxis": "y"
        },
        {
         "hovertemplate": "ClothesName=%{text}<br>NowWeather=%{x}<br>CalculatorScore=%{y}<extra></extra>",
         "legendgroup": "Longsleve",
         "line": {
          "color": "#EF553B",
          "dash": "solid"
         },
         "marker": {
          "symbol": "circle"
         },
         "mode": "text+markers+lines",
         "name": "Longsleve",
         "orientation": "v",
         "showlegend": true,
         "text": [
          "Longsleve",
          "Longsleve",
          "Longsleve",
          "Longsleve",
          "Longsleve",
          "Longsleve",
          "Longsleve",
          "Longsleve"
         ],
         "type": "scatter",
         "x": [
          40,
          45,
          50,
          55,
          60,
          65,
          70,
          75
         ],
         "xaxis": "x",
         "y": [
          12.2,
          9.200000000000001,
          6.2,
          3.2,
          0.19999999999999996,
          2.8,
          5.8,
          8.799999999999999
         ],
         "yaxis": "y"
        },
        {
         "hovertemplate": "ClothesName=%{text}<br>NowWeather=%{x}<br>CalculatorScore=%{y}<extra></extra>",
         "legendgroup": "Weaters",
         "line": {
          "color": "#00cc96",
          "dash": "solid"
         },
         "marker": {
          "symbol": "circle"
         },
         "mode": "text+markers+lines",
         "name": "Weaters",
         "orientation": "v",
         "showlegend": true,
         "text": [
          "Weaters",
          "Weaters",
          "Weaters",
          "Weaters",
          "Weaters",
          "Weaters",
          "Weaters",
          "Weaters"
         ],
         "type": "scatter",
         "x": [
          40,
          45,
          50,
          55,
          60,
          65,
          70,
          75
         ],
         "xaxis": "x",
         "y": [
          3.799999999999999,
          0.8000000000000007,
          2.2,
          5.2,
          8.2,
          11.2,
          14.2,
          17.2
         ],
         "yaxis": "y"
        },
        {
         "hovertemplate": "ClothesName=%{text}<br>NowWeather=%{x}<br>CalculatorScore=%{y}<extra></extra>",
         "legendgroup": "Skirt",
         "line": {
          "color": "#ab63fa",
          "dash": "solid"
         },
         "marker": {
          "symbol": "circle"
         },
         "mode": "text+markers+lines",
         "name": "Skirt",
         "orientation": "v",
         "showlegend": true,
         "text": [
          "Skirt",
          "Skirt",
          "Skirt",
          "Skirt",
          "Skirt",
          "Skirt",
          "Skirt",
          "Skirt"
         ],
         "type": "scatter",
         "x": [
          40,
          45,
          50,
          55,
          60,
          65,
          70,
          75
         ],
         "xaxis": "x",
         "y": [
          23.4,
          20.4,
          17.4,
          14.399999999999999,
          11.4,
          8.4,
          5.3999999999999995,
          2.4000000000000004
         ],
         "yaxis": "y"
        },
        {
         "hovertemplate": "ClothesName=%{text}<br>NowWeather=%{x}<br>CalculatorScore=%{y}<extra></extra>",
         "legendgroup": "Short",
         "line": {
          "color": "#FFA15A",
          "dash": "solid"
         },
         "marker": {
          "symbol": "circle"
         },
         "mode": "text+markers+lines",
         "name": "Short",
         "orientation": "v",
         "showlegend": true,
         "text": [
          "Short",
          "Short",
          "Short",
          "Short",
          "Short",
          "Short",
          "Short",
          "Short"
         ],
         "type": "scatter",
         "x": [
          40,
          45,
          50,
          55,
          60,
          65,
          70,
          75
         ],
         "xaxis": "x",
         "y": [
          17.799999999999997,
          14.8,
          11.8,
          8.8,
          5.8,
          2.8000000000000003,
          0.20000000000000018,
          3.1999999999999993
         ],
         "yaxis": "y"
        },
        {
         "hovertemplate": "ClothesName=%{text}<br>NowWeather=%{x}<br>CalculatorScore=%{y}<extra></extra>",
         "legendgroup": "Pants",
         "line": {
          "color": "#19d3f3",
          "dash": "solid"
         },
         "marker": {
          "symbol": "circle"
         },
         "mode": "text+markers+lines",
         "name": "Pants",
         "orientation": "v",
         "showlegend": true,
         "text": [
          "Pants",
          "Pants",
          "Pants",
          "Pants",
          "Pants",
          "Pants",
          "Pants",
          "Pants"
         ],
         "type": "scatter",
         "x": [
          40,
          45,
          50,
          55,
          60,
          65,
          70,
          75
         ],
         "xaxis": "x",
         "y": [
          6.6,
          3.6000000000000014,
          0.6000000000000001,
          2.4,
          5.4,
          8.399999999999999,
          11.4,
          14.399999999999999
         ],
         "yaxis": "y"
        }
       ],
       "layout": {
        "legend": {
         "title": {
          "text": "ClothesName"
         },
         "tracegroupgap": 0
        },
        "margin": {
         "t": 60
        },
        "template": {
         "data": {
          "bar": [
           {
            "error_x": {
             "color": "#2a3f5f"
            },
            "error_y": {
             "color": "#2a3f5f"
            },
            "marker": {
             "line": {
              "color": "#E5ECF6",
              "width": 0.5
             },
             "pattern": {
              "fillmode": "overlay",
              "size": 10,
              "solidity": 0.2
             }
            },
            "type": "bar"
           }
          ],
          "barpolar": [
           {
            "marker": {
             "line": {
              "color": "#E5ECF6",
              "width": 0.5
             },
             "pattern": {
              "fillmode": "overlay",
              "size": 10,
              "solidity": 0.2
             }
            },
            "type": "barpolar"
           }
          ],
          "carpet": [
           {
            "aaxis": {
             "endlinecolor": "#2a3f5f",
             "gridcolor": "white",
             "linecolor": "white",
             "minorgridcolor": "white",
             "startlinecolor": "#2a3f5f"
            },
            "baxis": {
             "endlinecolor": "#2a3f5f",
             "gridcolor": "white",
             "linecolor": "white",
             "minorgridcolor": "white",
             "startlinecolor": "#2a3f5f"
            },
            "type": "carpet"
           }
          ],
          "choropleth": [
           {
            "colorbar": {
             "outlinewidth": 0,
             "ticks": ""
            },
            "type": "choropleth"
           }
          ],
          "contour": [
           {
            "colorbar": {
             "outlinewidth": 0,
             "ticks": ""
            },
            "colorscale": [
             [
              0,
              "#0d0887"
             ],
             [
              0.1111111111111111,
              "#46039f"
             ],
             [
              0.2222222222222222,
              "#7201a8"
             ],
             [
              0.3333333333333333,
              "#9c179e"
             ],
             [
              0.4444444444444444,
              "#bd3786"
             ],
             [
              0.5555555555555556,
              "#d8576b"
             ],
             [
              0.6666666666666666,
              "#ed7953"
             ],
             [
              0.7777777777777778,
              "#fb9f3a"
             ],
             [
              0.8888888888888888,
              "#fdca26"
             ],
             [
              1,
              "#f0f921"
             ]
            ],
            "type": "contour"
           }
          ],
          "contourcarpet": [
           {
            "colorbar": {
             "outlinewidth": 0,
             "ticks": ""
            },
            "type": "contourcarpet"
           }
          ],
          "heatmap": [
           {
            "colorbar": {
             "outlinewidth": 0,
             "ticks": ""
            },
            "colorscale": [
             [
              0,
              "#0d0887"
             ],
             [
              0.1111111111111111,
              "#46039f"
             ],
             [
              0.2222222222222222,
              "#7201a8"
             ],
             [
              0.3333333333333333,
              "#9c179e"
             ],
             [
              0.4444444444444444,
              "#bd3786"
             ],
             [
              0.5555555555555556,
              "#d8576b"
             ],
             [
              0.6666666666666666,
              "#ed7953"
             ],
             [
              0.7777777777777778,
              "#fb9f3a"
             ],
             [
              0.8888888888888888,
              "#fdca26"
             ],
             [
              1,
              "#f0f921"
             ]
            ],
            "type": "heatmap"
           }
          ],
          "heatmapgl": [
           {
            "colorbar": {
             "outlinewidth": 0,
             "ticks": ""
            },
            "colorscale": [
             [
              0,
              "#0d0887"
             ],
             [
              0.1111111111111111,
              "#46039f"
             ],
             [
              0.2222222222222222,
              "#7201a8"
             ],
             [
              0.3333333333333333,
              "#9c179e"
             ],
             [
              0.4444444444444444,
              "#bd3786"
             ],
             [
              0.5555555555555556,
              "#d8576b"
             ],
             [
              0.6666666666666666,
              "#ed7953"
             ],
             [
              0.7777777777777778,
              "#fb9f3a"
             ],
             [
              0.8888888888888888,
              "#fdca26"
             ],
             [
              1,
              "#f0f921"
             ]
            ],
            "type": "heatmapgl"
           }
          ],
          "histogram": [
           {
            "marker": {
             "pattern": {
              "fillmode": "overlay",
              "size": 10,
              "solidity": 0.2
             }
            },
            "type": "histogram"
           }
          ],
          "histogram2d": [
           {
            "colorbar": {
             "outlinewidth": 0,
             "ticks": ""
            },
            "colorscale": [
             [
              0,
              "#0d0887"
             ],
             [
              0.1111111111111111,
              "#46039f"
             ],
             [
              0.2222222222222222,
              "#7201a8"
             ],
             [
              0.3333333333333333,
              "#9c179e"
             ],
             [
              0.4444444444444444,
              "#bd3786"
             ],
             [
              0.5555555555555556,
              "#d8576b"
             ],
             [
              0.6666666666666666,
              "#ed7953"
             ],
             [
              0.7777777777777778,
              "#fb9f3a"
             ],
             [
              0.8888888888888888,
              "#fdca26"
             ],
             [
              1,
              "#f0f921"
             ]
            ],
            "type": "histogram2d"
           }
          ],
          "histogram2dcontour": [
           {
            "colorbar": {
             "outlinewidth": 0,
             "ticks": ""
            },
            "colorscale": [
             [
              0,
              "#0d0887"
             ],
             [
              0.1111111111111111,
              "#46039f"
             ],
             [
              0.2222222222222222,
              "#7201a8"
             ],
             [
              0.3333333333333333,
              "#9c179e"
             ],
             [
              0.4444444444444444,
              "#bd3786"
             ],
             [
              0.5555555555555556,
              "#d8576b"
             ],
             [
              0.6666666666666666,
              "#ed7953"
             ],
             [
              0.7777777777777778,
              "#fb9f3a"
             ],
             [
              0.8888888888888888,
              "#fdca26"
             ],
             [
              1,
              "#f0f921"
             ]
            ],
            "type": "histogram2dcontour"
           }
          ],
          "mesh3d": [
           {
            "colorbar": {
             "outlinewidth": 0,
             "ticks": ""
            },
            "type": "mesh3d"
           }
          ],
          "parcoords": [
           {
            "line": {
             "colorbar": {
              "outlinewidth": 0,
              "ticks": ""
             }
            },
            "type": "parcoords"
           }
          ],
          "pie": [
           {
            "automargin": true,
            "type": "pie"
           }
          ],
          "scatter": [
           {
            "fillpattern": {
             "fillmode": "overlay",
             "size": 10,
             "solidity": 0.2
            },
            "type": "scatter"
           }
          ],
          "scatter3d": [
           {
            "line": {
             "colorbar": {
              "outlinewidth": 0,
              "ticks": ""
             }
            },
            "marker": {
             "colorbar": {
              "outlinewidth": 0,
              "ticks": ""
             }
            },
            "type": "scatter3d"
           }
          ],
          "scattercarpet": [
           {
            "marker": {
             "colorbar": {
              "outlinewidth": 0,
              "ticks": ""
             }
            },
            "type": "scattercarpet"
           }
          ],
          "scattergeo": [
           {
            "marker": {
             "colorbar": {
              "outlinewidth": 0,
              "ticks": ""
             }
            },
            "type": "scattergeo"
           }
          ],
          "scattergl": [
           {
            "marker": {
             "colorbar": {
              "outlinewidth": 0,
              "ticks": ""
             }
            },
            "type": "scattergl"
           }
          ],
          "scattermapbox": [
           {
            "marker": {
             "colorbar": {
              "outlinewidth": 0,
              "ticks": ""
             }
            },
            "type": "scattermapbox"
           }
          ],
          "scatterpolar": [
           {
            "marker": {
             "colorbar": {
              "outlinewidth": 0,
              "ticks": ""
             }
            },
            "type": "scatterpolar"
           }
          ],
          "scatterpolargl": [
           {
            "marker": {
             "colorbar": {
              "outlinewidth": 0,
              "ticks": ""
             }
            },
            "type": "scatterpolargl"
           }
          ],
          "scatterternary": [
           {
            "marker": {
             "colorbar": {
              "outlinewidth": 0,
              "ticks": ""
             }
            },
            "type": "scatterternary"
           }
          ],
          "surface": [
           {
            "colorbar": {
             "outlinewidth": 0,
             "ticks": ""
            },
            "colorscale": [
             [
              0,
              "#0d0887"
             ],
             [
              0.1111111111111111,
              "#46039f"
             ],
             [
              0.2222222222222222,
              "#7201a8"
             ],
             [
              0.3333333333333333,
              "#9c179e"
             ],
             [
              0.4444444444444444,
              "#bd3786"
             ],
             [
              0.5555555555555556,
              "#d8576b"
             ],
             [
              0.6666666666666666,
              "#ed7953"
             ],
             [
              0.7777777777777778,
              "#fb9f3a"
             ],
             [
              0.8888888888888888,
              "#fdca26"
             ],
             [
              1,
              "#f0f921"
             ]
            ],
            "type": "surface"
           }
          ],
          "table": [
           {
            "cells": {
             "fill": {
              "color": "#EBF0F8"
             },
             "line": {
              "color": "white"
             }
            },
            "header": {
             "fill": {
              "color": "#C8D4E3"
             },
             "line": {
              "color": "white"
             }
            },
            "type": "table"
           }
          ]
         },
         "layout": {
          "annotationdefaults": {
           "arrowcolor": "#2a3f5f",
           "arrowhead": 0,
           "arrowwidth": 1
          },
          "autotypenumbers": "strict",
          "coloraxis": {
           "colorbar": {
            "outlinewidth": 0,
            "ticks": ""
           }
          },
          "colorscale": {
           "diverging": [
            [
             0,
             "#8e0152"
            ],
            [
             0.1,
             "#c51b7d"
            ],
            [
             0.2,
             "#de77ae"
            ],
            [
             0.3,
             "#f1b6da"
            ],
            [
             0.4,
             "#fde0ef"
            ],
            [
             0.5,
             "#f7f7f7"
            ],
            [
             0.6,
             "#e6f5d0"
            ],
            [
             0.7,
             "#b8e186"
            ],
            [
             0.8,
             "#7fbc41"
            ],
            [
             0.9,
             "#4d9221"
            ],
            [
             1,
             "#276419"
            ]
           ],
           "sequential": [
            [
             0,
             "#0d0887"
            ],
            [
             0.1111111111111111,
             "#46039f"
            ],
            [
             0.2222222222222222,
             "#7201a8"
            ],
            [
             0.3333333333333333,
             "#9c179e"
            ],
            [
             0.4444444444444444,
             "#bd3786"
            ],
            [
             0.5555555555555556,
             "#d8576b"
            ],
            [
             0.6666666666666666,
             "#ed7953"
            ],
            [
             0.7777777777777778,
             "#fb9f3a"
            ],
            [
             0.8888888888888888,
             "#fdca26"
            ],
            [
             1,
             "#f0f921"
            ]
           ],
           "sequentialminus": [
            [
             0,
             "#0d0887"
            ],
            [
             0.1111111111111111,
             "#46039f"
            ],
            [
             0.2222222222222222,
             "#7201a8"
            ],
            [
             0.3333333333333333,
             "#9c179e"
            ],
            [
             0.4444444444444444,
             "#bd3786"
            ],
            [
             0.5555555555555556,
             "#d8576b"
            ],
            [
             0.6666666666666666,
             "#ed7953"
            ],
            [
             0.7777777777777778,
             "#fb9f3a"
            ],
            [
             0.8888888888888888,
             "#fdca26"
            ],
            [
             1,
             "#f0f921"
            ]
           ]
          },
          "colorway": [
           "#636efa",
           "#EF553B",
           "#00cc96",
           "#ab63fa",
           "#FFA15A",
           "#19d3f3",
           "#FF6692",
           "#B6E880",
           "#FF97FF",
           "#FECB52"
          ],
          "font": {
           "color": "#2a3f5f"
          },
          "geo": {
           "bgcolor": "white",
           "lakecolor": "white",
           "landcolor": "#E5ECF6",
           "showlakes": true,
           "showland": true,
           "subunitcolor": "white"
          },
          "hoverlabel": {
           "align": "left"
          },
          "hovermode": "closest",
          "mapbox": {
           "style": "light"
          },
          "paper_bgcolor": "white",
          "plot_bgcolor": "#E5ECF6",
          "polar": {
           "angularaxis": {
            "gridcolor": "white",
            "linecolor": "white",
            "ticks": ""
           },
           "bgcolor": "#E5ECF6",
           "radialaxis": {
            "gridcolor": "white",
            "linecolor": "white",
            "ticks": ""
           }
          },
          "scene": {
           "xaxis": {
            "backgroundcolor": "#E5ECF6",
            "gridcolor": "white",
            "gridwidth": 2,
            "linecolor": "white",
            "showbackground": true,
            "ticks": "",
            "zerolinecolor": "white"
           },
           "yaxis": {
            "backgroundcolor": "#E5ECF6",
            "gridcolor": "white",
            "gridwidth": 2,
            "linecolor": "white",
            "showbackground": true,
            "ticks": "",
            "zerolinecolor": "white"
           },
           "zaxis": {
            "backgroundcolor": "#E5ECF6",
            "gridcolor": "white",
            "gridwidth": 2,
            "linecolor": "white",
            "showbackground": true,
            "ticks": "",
            "zerolinecolor": "white"
           }
          },
          "shapedefaults": {
           "line": {
            "color": "#2a3f5f"
           }
          },
          "ternary": {
           "aaxis": {
            "gridcolor": "white",
            "linecolor": "white",
            "ticks": ""
           },
           "baxis": {
            "gridcolor": "white",
            "linecolor": "white",
            "ticks": ""
           },
           "bgcolor": "#E5ECF6",
           "caxis": {
            "gridcolor": "white",
            "linecolor": "white",
            "ticks": ""
           }
          },
          "title": {
           "x": 0.05
          },
          "xaxis": {
           "automargin": true,
           "gridcolor": "white",
           "linecolor": "white",
           "ticks": "",
           "title": {
            "standoff": 15
           },
           "zerolinecolor": "white",
           "zerolinewidth": 2
          },
          "yaxis": {
           "automargin": true,
           "gridcolor": "white",
           "linecolor": "white",
           "ticks": "",
           "title": {
            "standoff": 15
           },
           "zerolinecolor": "white",
           "zerolinewidth": 2
          }
         }
        },
        "xaxis": {
         "anchor": "y",
         "domain": [
          0,
          1
         ],
         "title": {
          "text": "NowWeather"
         }
        },
        "yaxis": {
         "anchor": "x",
         "domain": [
          0,
          1
         ],
         "title": {
          "text": "CalculatorScore"
         }
        }
       }
      }
     },
     "metadata": {},
     "output_type": "display_data"
    }
   ],
   "source": [
    "\n",
    "list_sigle_show_humd = []\n",
    "for now_humd in range(40, 80, 5):\n",
    "    for iloc_count in range(len(df_sigle)):\n",
    "        calculator = weather_result_humd(   user_weatherLike, 25, now_humd, # 10 , 23 , 30\n",
    "                                            df_sigle.iloc[iloc_count].ClothesName, df_sigle.iloc[iloc_count].WeatherScore\n",
    "                                        )\n",
    "        \n",
    "        list_sigle_show_humd.append([now_humd, \n",
    "                                    df_sigle.iloc[iloc_count].ClothesName, \n",
    "                                    df_sigle.iloc[iloc_count].WeatherScore, \n",
    "                                    calculator])\n",
    "        \n",
    "df_sigle_show_humd = pd.DataFrame(list_sigle_show_humd, columns=[\"NowWeather\", \"ClothesName\", \"WeatherScore\",\"CalculatorScore\"])\n",
    "\n",
    "\n",
    "\n",
    "\n",
    "fig = px.line(df_sigle_show_humd,     \n",
    "    x = 'NowWeather',\n",
    "    y = 'CalculatorScore',\n",
    "    color = 'ClothesName',\n",
    "    text= \"ClothesName\")\n",
    "fig.show()\n",
    "\n",
    "# fig = px\n",
    "# 32 度\n"
   ]
  },
  {
   "cell_type": "code",
   "execution_count": 42,
   "metadata": {},
   "outputs": [
    {
     "data": {
      "application/vnd.plotly.v1+json": {
       "config": {
        "plotlyServerURL": "https://plot.ly"
       },
       "data": [
        {
         "hovertemplate": "ClothesName=%{text}<br>NowWeather=%{x}<br>CalculatorScore=%{y}<extra></extra>",
         "legendgroup": "T-Shirt",
         "line": {
          "color": "#636efa",
          "dash": "solid"
         },
         "marker": {
          "symbol": "circle"
         },
         "mode": "text+markers+lines",
         "name": "T-Shirt",
         "orientation": "v",
         "showlegend": true,
         "text": [
          "T-Shirt",
          "T-Shirt",
          "T-Shirt",
          "T-Shirt"
         ],
         "type": "scatter",
         "x": [
          40,
          50,
          60,
          70
         ],
         "xaxis": "x",
         "y": [
          2.599999999999998,
          3.4000000000000012,
          9.4,
          15.400000000000002
         ],
         "yaxis": "y"
        },
        {
         "hovertemplate": "ClothesName=%{text}<br>NowWeather=%{x}<br>CalculatorScore=%{y}<extra></extra>",
         "legendgroup": "Longsleve",
         "line": {
          "color": "#EF553B",
          "dash": "solid"
         },
         "marker": {
          "symbol": "circle"
         },
         "mode": "text+markers+lines",
         "name": "Longsleve",
         "orientation": "v",
         "showlegend": true,
         "text": [
          "Longsleve",
          "Longsleve",
          "Longsleve",
          "Longsleve"
         ],
         "type": "scatter",
         "x": [
          40,
          50,
          60,
          70
         ],
         "xaxis": "x",
         "y": [
          5.8000000000000025,
          11.8,
          17.8,
          23.8
         ],
         "yaxis": "y"
        },
        {
         "hovertemplate": "ClothesName=%{text}<br>NowWeather=%{x}<br>CalculatorScore=%{y}<extra></extra>",
         "legendgroup": "Weaters",
         "line": {
          "color": "#00cc96",
          "dash": "solid"
         },
         "marker": {
          "symbol": "circle"
         },
         "mode": "text+markers+lines",
         "name": "Weaters",
         "orientation": "v",
         "showlegend": true,
         "text": [
          "Weaters",
          "Weaters",
          "Weaters",
          "Weaters"
         ],
         "type": "scatter",
         "x": [
          40,
          50,
          60,
          70
         ],
         "xaxis": "x",
         "y": [
          14.200000000000001,
          20.2,
          26.2,
          32.2
         ],
         "yaxis": "y"
        },
        {
         "hovertemplate": "ClothesName=%{text}<br>NowWeather=%{x}<br>CalculatorScore=%{y}<extra></extra>",
         "legendgroup": "Skirt",
         "line": {
          "color": "#ab63fa",
          "dash": "solid"
         },
         "marker": {
          "symbol": "circle"
         },
         "mode": "text+markers+lines",
         "name": "Skirt",
         "orientation": "v",
         "showlegend": true,
         "text": [
          "Skirt",
          "Skirt",
          "Skirt",
          "Skirt"
         ],
         "type": "scatter",
         "x": [
          40,
          50,
          60,
          70
         ],
         "xaxis": "x",
         "y": [
          5.399999999999999,
          0.6000000000000005,
          6.6,
          12.600000000000001
         ],
         "yaxis": "y"
        },
        {
         "hovertemplate": "ClothesName=%{text}<br>NowWeather=%{x}<br>CalculatorScore=%{y}<extra></extra>",
         "legendgroup": "Short",
         "line": {
          "color": "#FFA15A",
          "dash": "solid"
         },
         "marker": {
          "symbol": "circle"
         },
         "mode": "text+markers+lines",
         "name": "Short",
         "orientation": "v",
         "showlegend": true,
         "text": [
          "Short",
          "Short",
          "Short",
          "Short"
         ],
         "type": "scatter",
         "x": [
          40,
          50,
          60,
          70
         ],
         "xaxis": "x",
         "y": [
          0.20000000000000107,
          6.2,
          12.2,
          18.2
         ],
         "yaxis": "y"
        },
        {
         "hovertemplate": "ClothesName=%{text}<br>NowWeather=%{x}<br>CalculatorScore=%{y}<extra></extra>",
         "legendgroup": "Pants",
         "line": {
          "color": "#19d3f3",
          "dash": "solid"
         },
         "marker": {
          "symbol": "circle"
         },
         "mode": "text+markers+lines",
         "name": "Pants",
         "orientation": "v",
         "showlegend": true,
         "text": [
          "Pants",
          "Pants",
          "Pants",
          "Pants"
         ],
         "type": "scatter",
         "x": [
          40,
          50,
          60,
          70
         ],
         "xaxis": "x",
         "y": [
          11.4,
          17.4,
          23.4,
          29.4
         ],
         "yaxis": "y"
        }
       ],
       "layout": {
        "legend": {
         "title": {
          "text": "ClothesName"
         },
         "tracegroupgap": 0
        },
        "margin": {
         "t": 60
        },
        "template": {
         "data": {
          "bar": [
           {
            "error_x": {
             "color": "#2a3f5f"
            },
            "error_y": {
             "color": "#2a3f5f"
            },
            "marker": {
             "line": {
              "color": "#E5ECF6",
              "width": 0.5
             },
             "pattern": {
              "fillmode": "overlay",
              "size": 10,
              "solidity": 0.2
             }
            },
            "type": "bar"
           }
          ],
          "barpolar": [
           {
            "marker": {
             "line": {
              "color": "#E5ECF6",
              "width": 0.5
             },
             "pattern": {
              "fillmode": "overlay",
              "size": 10,
              "solidity": 0.2
             }
            },
            "type": "barpolar"
           }
          ],
          "carpet": [
           {
            "aaxis": {
             "endlinecolor": "#2a3f5f",
             "gridcolor": "white",
             "linecolor": "white",
             "minorgridcolor": "white",
             "startlinecolor": "#2a3f5f"
            },
            "baxis": {
             "endlinecolor": "#2a3f5f",
             "gridcolor": "white",
             "linecolor": "white",
             "minorgridcolor": "white",
             "startlinecolor": "#2a3f5f"
            },
            "type": "carpet"
           }
          ],
          "choropleth": [
           {
            "colorbar": {
             "outlinewidth": 0,
             "ticks": ""
            },
            "type": "choropleth"
           }
          ],
          "contour": [
           {
            "colorbar": {
             "outlinewidth": 0,
             "ticks": ""
            },
            "colorscale": [
             [
              0,
              "#0d0887"
             ],
             [
              0.1111111111111111,
              "#46039f"
             ],
             [
              0.2222222222222222,
              "#7201a8"
             ],
             [
              0.3333333333333333,
              "#9c179e"
             ],
             [
              0.4444444444444444,
              "#bd3786"
             ],
             [
              0.5555555555555556,
              "#d8576b"
             ],
             [
              0.6666666666666666,
              "#ed7953"
             ],
             [
              0.7777777777777778,
              "#fb9f3a"
             ],
             [
              0.8888888888888888,
              "#fdca26"
             ],
             [
              1,
              "#f0f921"
             ]
            ],
            "type": "contour"
           }
          ],
          "contourcarpet": [
           {
            "colorbar": {
             "outlinewidth": 0,
             "ticks": ""
            },
            "type": "contourcarpet"
           }
          ],
          "heatmap": [
           {
            "colorbar": {
             "outlinewidth": 0,
             "ticks": ""
            },
            "colorscale": [
             [
              0,
              "#0d0887"
             ],
             [
              0.1111111111111111,
              "#46039f"
             ],
             [
              0.2222222222222222,
              "#7201a8"
             ],
             [
              0.3333333333333333,
              "#9c179e"
             ],
             [
              0.4444444444444444,
              "#bd3786"
             ],
             [
              0.5555555555555556,
              "#d8576b"
             ],
             [
              0.6666666666666666,
              "#ed7953"
             ],
             [
              0.7777777777777778,
              "#fb9f3a"
             ],
             [
              0.8888888888888888,
              "#fdca26"
             ],
             [
              1,
              "#f0f921"
             ]
            ],
            "type": "heatmap"
           }
          ],
          "heatmapgl": [
           {
            "colorbar": {
             "outlinewidth": 0,
             "ticks": ""
            },
            "colorscale": [
             [
              0,
              "#0d0887"
             ],
             [
              0.1111111111111111,
              "#46039f"
             ],
             [
              0.2222222222222222,
              "#7201a8"
             ],
             [
              0.3333333333333333,
              "#9c179e"
             ],
             [
              0.4444444444444444,
              "#bd3786"
             ],
             [
              0.5555555555555556,
              "#d8576b"
             ],
             [
              0.6666666666666666,
              "#ed7953"
             ],
             [
              0.7777777777777778,
              "#fb9f3a"
             ],
             [
              0.8888888888888888,
              "#fdca26"
             ],
             [
              1,
              "#f0f921"
             ]
            ],
            "type": "heatmapgl"
           }
          ],
          "histogram": [
           {
            "marker": {
             "pattern": {
              "fillmode": "overlay",
              "size": 10,
              "solidity": 0.2
             }
            },
            "type": "histogram"
           }
          ],
          "histogram2d": [
           {
            "colorbar": {
             "outlinewidth": 0,
             "ticks": ""
            },
            "colorscale": [
             [
              0,
              "#0d0887"
             ],
             [
              0.1111111111111111,
              "#46039f"
             ],
             [
              0.2222222222222222,
              "#7201a8"
             ],
             [
              0.3333333333333333,
              "#9c179e"
             ],
             [
              0.4444444444444444,
              "#bd3786"
             ],
             [
              0.5555555555555556,
              "#d8576b"
             ],
             [
              0.6666666666666666,
              "#ed7953"
             ],
             [
              0.7777777777777778,
              "#fb9f3a"
             ],
             [
              0.8888888888888888,
              "#fdca26"
             ],
             [
              1,
              "#f0f921"
             ]
            ],
            "type": "histogram2d"
           }
          ],
          "histogram2dcontour": [
           {
            "colorbar": {
             "outlinewidth": 0,
             "ticks": ""
            },
            "colorscale": [
             [
              0,
              "#0d0887"
             ],
             [
              0.1111111111111111,
              "#46039f"
             ],
             [
              0.2222222222222222,
              "#7201a8"
             ],
             [
              0.3333333333333333,
              "#9c179e"
             ],
             [
              0.4444444444444444,
              "#bd3786"
             ],
             [
              0.5555555555555556,
              "#d8576b"
             ],
             [
              0.6666666666666666,
              "#ed7953"
             ],
             [
              0.7777777777777778,
              "#fb9f3a"
             ],
             [
              0.8888888888888888,
              "#fdca26"
             ],
             [
              1,
              "#f0f921"
             ]
            ],
            "type": "histogram2dcontour"
           }
          ],
          "mesh3d": [
           {
            "colorbar": {
             "outlinewidth": 0,
             "ticks": ""
            },
            "type": "mesh3d"
           }
          ],
          "parcoords": [
           {
            "line": {
             "colorbar": {
              "outlinewidth": 0,
              "ticks": ""
             }
            },
            "type": "parcoords"
           }
          ],
          "pie": [
           {
            "automargin": true,
            "type": "pie"
           }
          ],
          "scatter": [
           {
            "fillpattern": {
             "fillmode": "overlay",
             "size": 10,
             "solidity": 0.2
            },
            "type": "scatter"
           }
          ],
          "scatter3d": [
           {
            "line": {
             "colorbar": {
              "outlinewidth": 0,
              "ticks": ""
             }
            },
            "marker": {
             "colorbar": {
              "outlinewidth": 0,
              "ticks": ""
             }
            },
            "type": "scatter3d"
           }
          ],
          "scattercarpet": [
           {
            "marker": {
             "colorbar": {
              "outlinewidth": 0,
              "ticks": ""
             }
            },
            "type": "scattercarpet"
           }
          ],
          "scattergeo": [
           {
            "marker": {
             "colorbar": {
              "outlinewidth": 0,
              "ticks": ""
             }
            },
            "type": "scattergeo"
           }
          ],
          "scattergl": [
           {
            "marker": {
             "colorbar": {
              "outlinewidth": 0,
              "ticks": ""
             }
            },
            "type": "scattergl"
           }
          ],
          "scattermapbox": [
           {
            "marker": {
             "colorbar": {
              "outlinewidth": 0,
              "ticks": ""
             }
            },
            "type": "scattermapbox"
           }
          ],
          "scatterpolar": [
           {
            "marker": {
             "colorbar": {
              "outlinewidth": 0,
              "ticks": ""
             }
            },
            "type": "scatterpolar"
           }
          ],
          "scatterpolargl": [
           {
            "marker": {
             "colorbar": {
              "outlinewidth": 0,
              "ticks": ""
             }
            },
            "type": "scatterpolargl"
           }
          ],
          "scatterternary": [
           {
            "marker": {
             "colorbar": {
              "outlinewidth": 0,
              "ticks": ""
             }
            },
            "type": "scatterternary"
           }
          ],
          "surface": [
           {
            "colorbar": {
             "outlinewidth": 0,
             "ticks": ""
            },
            "colorscale": [
             [
              0,
              "#0d0887"
             ],
             [
              0.1111111111111111,
              "#46039f"
             ],
             [
              0.2222222222222222,
              "#7201a8"
             ],
             [
              0.3333333333333333,
              "#9c179e"
             ],
             [
              0.4444444444444444,
              "#bd3786"
             ],
             [
              0.5555555555555556,
              "#d8576b"
             ],
             [
              0.6666666666666666,
              "#ed7953"
             ],
             [
              0.7777777777777778,
              "#fb9f3a"
             ],
             [
              0.8888888888888888,
              "#fdca26"
             ],
             [
              1,
              "#f0f921"
             ]
            ],
            "type": "surface"
           }
          ],
          "table": [
           {
            "cells": {
             "fill": {
              "color": "#EBF0F8"
             },
             "line": {
              "color": "white"
             }
            },
            "header": {
             "fill": {
              "color": "#C8D4E3"
             },
             "line": {
              "color": "white"
             }
            },
            "type": "table"
           }
          ]
         },
         "layout": {
          "annotationdefaults": {
           "arrowcolor": "#2a3f5f",
           "arrowhead": 0,
           "arrowwidth": 1
          },
          "autotypenumbers": "strict",
          "coloraxis": {
           "colorbar": {
            "outlinewidth": 0,
            "ticks": ""
           }
          },
          "colorscale": {
           "diverging": [
            [
             0,
             "#8e0152"
            ],
            [
             0.1,
             "#c51b7d"
            ],
            [
             0.2,
             "#de77ae"
            ],
            [
             0.3,
             "#f1b6da"
            ],
            [
             0.4,
             "#fde0ef"
            ],
            [
             0.5,
             "#f7f7f7"
            ],
            [
             0.6,
             "#e6f5d0"
            ],
            [
             0.7,
             "#b8e186"
            ],
            [
             0.8,
             "#7fbc41"
            ],
            [
             0.9,
             "#4d9221"
            ],
            [
             1,
             "#276419"
            ]
           ],
           "sequential": [
            [
             0,
             "#0d0887"
            ],
            [
             0.1111111111111111,
             "#46039f"
            ],
            [
             0.2222222222222222,
             "#7201a8"
            ],
            [
             0.3333333333333333,
             "#9c179e"
            ],
            [
             0.4444444444444444,
             "#bd3786"
            ],
            [
             0.5555555555555556,
             "#d8576b"
            ],
            [
             0.6666666666666666,
             "#ed7953"
            ],
            [
             0.7777777777777778,
             "#fb9f3a"
            ],
            [
             0.8888888888888888,
             "#fdca26"
            ],
            [
             1,
             "#f0f921"
            ]
           ],
           "sequentialminus": [
            [
             0,
             "#0d0887"
            ],
            [
             0.1111111111111111,
             "#46039f"
            ],
            [
             0.2222222222222222,
             "#7201a8"
            ],
            [
             0.3333333333333333,
             "#9c179e"
            ],
            [
             0.4444444444444444,
             "#bd3786"
            ],
            [
             0.5555555555555556,
             "#d8576b"
            ],
            [
             0.6666666666666666,
             "#ed7953"
            ],
            [
             0.7777777777777778,
             "#fb9f3a"
            ],
            [
             0.8888888888888888,
             "#fdca26"
            ],
            [
             1,
             "#f0f921"
            ]
           ]
          },
          "colorway": [
           "#636efa",
           "#EF553B",
           "#00cc96",
           "#ab63fa",
           "#FFA15A",
           "#19d3f3",
           "#FF6692",
           "#B6E880",
           "#FF97FF",
           "#FECB52"
          ],
          "font": {
           "color": "#2a3f5f"
          },
          "geo": {
           "bgcolor": "white",
           "lakecolor": "white",
           "landcolor": "#E5ECF6",
           "showlakes": true,
           "showland": true,
           "subunitcolor": "white"
          },
          "hoverlabel": {
           "align": "left"
          },
          "hovermode": "closest",
          "mapbox": {
           "style": "light"
          },
          "paper_bgcolor": "white",
          "plot_bgcolor": "#E5ECF6",
          "polar": {
           "angularaxis": {
            "gridcolor": "white",
            "linecolor": "white",
            "ticks": ""
           },
           "bgcolor": "#E5ECF6",
           "radialaxis": {
            "gridcolor": "white",
            "linecolor": "white",
            "ticks": ""
           }
          },
          "scene": {
           "xaxis": {
            "backgroundcolor": "#E5ECF6",
            "gridcolor": "white",
            "gridwidth": 2,
            "linecolor": "white",
            "showbackground": true,
            "ticks": "",
            "zerolinecolor": "white"
           },
           "yaxis": {
            "backgroundcolor": "#E5ECF6",
            "gridcolor": "white",
            "gridwidth": 2,
            "linecolor": "white",
            "showbackground": true,
            "ticks": "",
            "zerolinecolor": "white"
           },
           "zaxis": {
            "backgroundcolor": "#E5ECF6",
            "gridcolor": "white",
            "gridwidth": 2,
            "linecolor": "white",
            "showbackground": true,
            "ticks": "",
            "zerolinecolor": "white"
           }
          },
          "shapedefaults": {
           "line": {
            "color": "#2a3f5f"
           }
          },
          "ternary": {
           "aaxis": {
            "gridcolor": "white",
            "linecolor": "white",
            "ticks": ""
           },
           "baxis": {
            "gridcolor": "white",
            "linecolor": "white",
            "ticks": ""
           },
           "bgcolor": "#E5ECF6",
           "caxis": {
            "gridcolor": "white",
            "linecolor": "white",
            "ticks": ""
           }
          },
          "title": {
           "x": 0.05
          },
          "xaxis": {
           "automargin": true,
           "gridcolor": "white",
           "linecolor": "white",
           "ticks": "",
           "title": {
            "standoff": 15
           },
           "zerolinecolor": "white",
           "zerolinewidth": 2
          },
          "yaxis": {
           "automargin": true,
           "gridcolor": "white",
           "linecolor": "white",
           "ticks": "",
           "title": {
            "standoff": 15
           },
           "zerolinecolor": "white",
           "zerolinewidth": 2
          }
         }
        },
        "xaxis": {
         "anchor": "y",
         "domain": [
          0,
          1
         ],
         "title": {
          "text": "NowWeather"
         }
        },
        "yaxis": {
         "anchor": "x",
         "domain": [
          0,
          1
         ],
         "title": {
          "text": "CalculatorScore"
         }
        }
       }
      }
     },
     "metadata": {},
     "output_type": "display_data"
    }
   ],
   "source": [
    "\n",
    "list_sigle_show_humd = []\n",
    "for now_humd in range(40, 80, 10):\n",
    "    for iloc_count in range(len(df_sigle)):\n",
    "        calculator = weather_result_humd(   user_weatherLike, 35, now_humd, # 10 , 23 , 30\n",
    "                                            df_sigle.iloc[iloc_count].ClothesName, df_sigle.iloc[iloc_count].WeatherScore\n",
    "                                        )\n",
    "        \n",
    "        list_sigle_show_humd.append([now_humd, \n",
    "                                    df_sigle.iloc[iloc_count].ClothesName, \n",
    "                                    df_sigle.iloc[iloc_count].WeatherScore, \n",
    "                                    calculator])\n",
    "        \n",
    "df_sigle_show_humd = pd.DataFrame(list_sigle_show_humd, columns=[\"NowWeather\", \"ClothesName\", \"WeatherScore\",\"CalculatorScore\"])\n",
    "\n",
    "\n",
    "\n",
    "\n",
    "fig = px.line(df_sigle_show_humd,     \n",
    "    x = 'NowWeather',\n",
    "    y = 'CalculatorScore',\n",
    "    color = 'ClothesName',\n",
    "    text= \"ClothesName\")\n",
    "fig.show()\n",
    "\n",
    "# fig = px\n",
    "# 32 度\n"
   ]
  },
  {
   "attachments": {},
   "cell_type": "markdown",
   "metadata": {},
   "source": [
    "# composite"
   ]
  },
  {
   "cell_type": "code",
   "execution_count": 43,
   "metadata": {},
   "outputs": [],
   "source": [
    "# formula\n",
    "def weather_result_composite(user_weatherLike, now_weather, clothes_name, weather_score, now_humd):\n",
    "    # calculator\n",
    "    calculator_ans = 0\n",
    "    # calculator_ans = abs( (comfortable_temp - now_temp) / 25 * 35 + (comfortable_humd - now_humd) / 100 * 50 + ( 5 - weather_score) ) \n",
    "\n",
    "\t# calculator_ans = round(\n",
    "    #                     abs((comfortable_temp - now_weather) - weather_score) * 2.3  # 權重比\n",
    "    #                 +   abs((comfortable_humd - now_humd) + ( 5 - weather_score)) * 1.5 # 權重比\n",
    "    #                 , 2)\n",
    "    \n",
    "    calculator_ans = round(\n",
    "                        abs((comfortable_temp - now_weather) - weather_score) * 1.3  \\\n",
    "                    +    abs( ( (comfortable_temp - now_weather ) + ( 5 - weather_score)) / 25 * 45 + (comfortable_humd - now_humd) / 100 * 60 + ( 5 - weather_score) ) * 1.5 # 權重比\n",
    "                    , 2)\n",
    "\t\n",
    "    print(\t\"weather_score\", weather_score, \"now_humd\", now_humd,\n",
    "\t\t\t\", temp: \", abs((comfortable_temp - now_weather) - weather_score),\n",
    "            \", humd\", abs((comfortable_humd - now_humd) + ( 5 - weather_score) ),\n",
    "            \", calculator_ans\", calculator_ans)\n",
    "    \n",
    "\n",
    "    # output \n",
    "    # print(\"{0}({1}): {2}\".format(clothes_name, weather_score, calculator_ans))\n",
    "    return calculator_ans"
   ]
  },
  {
   "cell_type": "code",
   "execution_count": 44,
   "metadata": {},
   "outputs": [
    {
     "name": "stdout",
     "output_type": "stream",
     "text": [
      "weather_score 3 now_humd 40 , temp:  6.5 , humd 22.5 , calculator_ans 25.85\n",
      "weather_score 6 now_humd 40 , temp:  9.5 , humd 19.5 , calculator_ans 17.15\n",
      "weather_score 9 now_humd 40 , temp:  12.5 , humd 16.5 , calculator_ans 24.05\n",
      "weather_score 2 now_humd 40 , temp:  5.5 , humd 23.5 , calculator_ans 28.75\n",
      "weather_score 4 now_humd 40 , temp:  7.5 , humd 21.5 , calculator_ans 22.95\n",
      "weather_score 8 now_humd 40 , temp:  11.5 , humd 17.5 , calculator_ans 18.55\n",
      "weather_score 3 now_humd 50 , temp:  6.5 , humd 12.5 , calculator_ans 16.85\n",
      "weather_score 6 now_humd 50 , temp:  9.5 , humd 9.5 , calculator_ans 16.55\n",
      "weather_score 9 now_humd 50 , temp:  12.5 , humd 6.5 , calculator_ans 33.05\n",
      "weather_score 2 now_humd 50 , temp:  5.5 , humd 13.5 , calculator_ans 19.75\n",
      "weather_score 4 now_humd 50 , temp:  7.5 , humd 11.5 , calculator_ans 13.95\n",
      "weather_score 8 now_humd 50 , temp:  11.5 , humd 7.5 , calculator_ans 27.55\n",
      "weather_score 3 now_humd 60 , temp:  6.5 , humd 2.5 , calculator_ans 9.05\n",
      "weather_score 6 now_humd 60 , temp:  9.5 , humd 0.5 , calculator_ans 25.55\n",
      "weather_score 9 now_humd 60 , temp:  12.5 , humd 3.5 , calculator_ans 42.05\n",
      "weather_score 2 now_humd 60 , temp:  5.5 , humd 3.5 , calculator_ans 10.75\n",
      "weather_score 4 now_humd 60 , temp:  7.5 , humd 1.5 , calculator_ans 14.55\n",
      "weather_score 8 now_humd 60 , temp:  11.5 , humd 2.5 , calculator_ans 36.55\n",
      "weather_score 3 now_humd 70 , temp:  6.5 , humd 7.5 , calculator_ans 18.05\n",
      "weather_score 6 now_humd 70 , temp:  9.5 , humd 10.5 , calculator_ans 34.55\n",
      "weather_score 9 now_humd 70 , temp:  12.5 , humd 13.5 , calculator_ans 51.05\n",
      "weather_score 2 now_humd 70 , temp:  5.5 , humd 6.5 , calculator_ans 12.55\n",
      "weather_score 4 now_humd 70 , temp:  7.5 , humd 8.5 , calculator_ans 23.55\n",
      "weather_score 8 now_humd 70 , temp:  11.5 , humd 12.5 , calculator_ans 45.55\n"
     ]
    },
    {
     "data": {
      "application/vnd.plotly.v1+json": {
       "config": {
        "plotlyServerURL": "https://plot.ly"
       },
       "data": [
        {
         "hovertemplate": "ClothesName=%{text}<br>NowWeather=%{x}<br>CalculatorScore=%{y}<extra></extra>",
         "legendgroup": "T-Shirt",
         "line": {
          "color": "#636efa",
          "dash": "solid"
         },
         "marker": {
          "symbol": "circle"
         },
         "mode": "text+markers+lines",
         "name": "T-Shirt",
         "orientation": "v",
         "showlegend": true,
         "text": [
          "T-Shirt",
          "T-Shirt",
          "T-Shirt",
          "T-Shirt"
         ],
         "type": "scatter",
         "x": [
          40,
          50,
          60,
          70
         ],
         "xaxis": "x",
         "y": [
          25.85,
          16.85,
          9.05,
          18.05
         ],
         "yaxis": "y"
        },
        {
         "hovertemplate": "ClothesName=%{text}<br>NowWeather=%{x}<br>CalculatorScore=%{y}<extra></extra>",
         "legendgroup": "Longsleve",
         "line": {
          "color": "#EF553B",
          "dash": "solid"
         },
         "marker": {
          "symbol": "circle"
         },
         "mode": "text+markers+lines",
         "name": "Longsleve",
         "orientation": "v",
         "showlegend": true,
         "text": [
          "Longsleve",
          "Longsleve",
          "Longsleve",
          "Longsleve"
         ],
         "type": "scatter",
         "x": [
          40,
          50,
          60,
          70
         ],
         "xaxis": "x",
         "y": [
          17.15,
          16.55,
          25.55,
          34.55
         ],
         "yaxis": "y"
        },
        {
         "hovertemplate": "ClothesName=%{text}<br>NowWeather=%{x}<br>CalculatorScore=%{y}<extra></extra>",
         "legendgroup": "Weaters",
         "line": {
          "color": "#00cc96",
          "dash": "solid"
         },
         "marker": {
          "symbol": "circle"
         },
         "mode": "text+markers+lines",
         "name": "Weaters",
         "orientation": "v",
         "showlegend": true,
         "text": [
          "Weaters",
          "Weaters",
          "Weaters",
          "Weaters"
         ],
         "type": "scatter",
         "x": [
          40,
          50,
          60,
          70
         ],
         "xaxis": "x",
         "y": [
          24.05,
          33.05,
          42.05,
          51.05
         ],
         "yaxis": "y"
        },
        {
         "hovertemplate": "ClothesName=%{text}<br>NowWeather=%{x}<br>CalculatorScore=%{y}<extra></extra>",
         "legendgroup": "Skirt",
         "line": {
          "color": "#ab63fa",
          "dash": "solid"
         },
         "marker": {
          "symbol": "circle"
         },
         "mode": "text+markers+lines",
         "name": "Skirt",
         "orientation": "v",
         "showlegend": true,
         "text": [
          "Skirt",
          "Skirt",
          "Skirt",
          "Skirt"
         ],
         "type": "scatter",
         "x": [
          40,
          50,
          60,
          70
         ],
         "xaxis": "x",
         "y": [
          28.75,
          19.75,
          10.75,
          12.55
         ],
         "yaxis": "y"
        },
        {
         "hovertemplate": "ClothesName=%{text}<br>NowWeather=%{x}<br>CalculatorScore=%{y}<extra></extra>",
         "legendgroup": "Short",
         "line": {
          "color": "#FFA15A",
          "dash": "solid"
         },
         "marker": {
          "symbol": "circle"
         },
         "mode": "text+markers+lines",
         "name": "Short",
         "orientation": "v",
         "showlegend": true,
         "text": [
          "Short",
          "Short",
          "Short",
          "Short"
         ],
         "type": "scatter",
         "x": [
          40,
          50,
          60,
          70
         ],
         "xaxis": "x",
         "y": [
          22.95,
          13.95,
          14.55,
          23.55
         ],
         "yaxis": "y"
        },
        {
         "hovertemplate": "ClothesName=%{text}<br>NowWeather=%{x}<br>CalculatorScore=%{y}<extra></extra>",
         "legendgroup": "Pants",
         "line": {
          "color": "#19d3f3",
          "dash": "solid"
         },
         "marker": {
          "symbol": "circle"
         },
         "mode": "text+markers+lines",
         "name": "Pants",
         "orientation": "v",
         "showlegend": true,
         "text": [
          "Pants",
          "Pants",
          "Pants",
          "Pants"
         ],
         "type": "scatter",
         "x": [
          40,
          50,
          60,
          70
         ],
         "xaxis": "x",
         "y": [
          18.55,
          27.55,
          36.55,
          45.55
         ],
         "yaxis": "y"
        }
       ],
       "layout": {
        "legend": {
         "title": {
          "text": "ClothesName"
         },
         "tracegroupgap": 0
        },
        "margin": {
         "t": 60
        },
        "template": {
         "data": {
          "bar": [
           {
            "error_x": {
             "color": "#2a3f5f"
            },
            "error_y": {
             "color": "#2a3f5f"
            },
            "marker": {
             "line": {
              "color": "#E5ECF6",
              "width": 0.5
             },
             "pattern": {
              "fillmode": "overlay",
              "size": 10,
              "solidity": 0.2
             }
            },
            "type": "bar"
           }
          ],
          "barpolar": [
           {
            "marker": {
             "line": {
              "color": "#E5ECF6",
              "width": 0.5
             },
             "pattern": {
              "fillmode": "overlay",
              "size": 10,
              "solidity": 0.2
             }
            },
            "type": "barpolar"
           }
          ],
          "carpet": [
           {
            "aaxis": {
             "endlinecolor": "#2a3f5f",
             "gridcolor": "white",
             "linecolor": "white",
             "minorgridcolor": "white",
             "startlinecolor": "#2a3f5f"
            },
            "baxis": {
             "endlinecolor": "#2a3f5f",
             "gridcolor": "white",
             "linecolor": "white",
             "minorgridcolor": "white",
             "startlinecolor": "#2a3f5f"
            },
            "type": "carpet"
           }
          ],
          "choropleth": [
           {
            "colorbar": {
             "outlinewidth": 0,
             "ticks": ""
            },
            "type": "choropleth"
           }
          ],
          "contour": [
           {
            "colorbar": {
             "outlinewidth": 0,
             "ticks": ""
            },
            "colorscale": [
             [
              0,
              "#0d0887"
             ],
             [
              0.1111111111111111,
              "#46039f"
             ],
             [
              0.2222222222222222,
              "#7201a8"
             ],
             [
              0.3333333333333333,
              "#9c179e"
             ],
             [
              0.4444444444444444,
              "#bd3786"
             ],
             [
              0.5555555555555556,
              "#d8576b"
             ],
             [
              0.6666666666666666,
              "#ed7953"
             ],
             [
              0.7777777777777778,
              "#fb9f3a"
             ],
             [
              0.8888888888888888,
              "#fdca26"
             ],
             [
              1,
              "#f0f921"
             ]
            ],
            "type": "contour"
           }
          ],
          "contourcarpet": [
           {
            "colorbar": {
             "outlinewidth": 0,
             "ticks": ""
            },
            "type": "contourcarpet"
           }
          ],
          "heatmap": [
           {
            "colorbar": {
             "outlinewidth": 0,
             "ticks": ""
            },
            "colorscale": [
             [
              0,
              "#0d0887"
             ],
             [
              0.1111111111111111,
              "#46039f"
             ],
             [
              0.2222222222222222,
              "#7201a8"
             ],
             [
              0.3333333333333333,
              "#9c179e"
             ],
             [
              0.4444444444444444,
              "#bd3786"
             ],
             [
              0.5555555555555556,
              "#d8576b"
             ],
             [
              0.6666666666666666,
              "#ed7953"
             ],
             [
              0.7777777777777778,
              "#fb9f3a"
             ],
             [
              0.8888888888888888,
              "#fdca26"
             ],
             [
              1,
              "#f0f921"
             ]
            ],
            "type": "heatmap"
           }
          ],
          "heatmapgl": [
           {
            "colorbar": {
             "outlinewidth": 0,
             "ticks": ""
            },
            "colorscale": [
             [
              0,
              "#0d0887"
             ],
             [
              0.1111111111111111,
              "#46039f"
             ],
             [
              0.2222222222222222,
              "#7201a8"
             ],
             [
              0.3333333333333333,
              "#9c179e"
             ],
             [
              0.4444444444444444,
              "#bd3786"
             ],
             [
              0.5555555555555556,
              "#d8576b"
             ],
             [
              0.6666666666666666,
              "#ed7953"
             ],
             [
              0.7777777777777778,
              "#fb9f3a"
             ],
             [
              0.8888888888888888,
              "#fdca26"
             ],
             [
              1,
              "#f0f921"
             ]
            ],
            "type": "heatmapgl"
           }
          ],
          "histogram": [
           {
            "marker": {
             "pattern": {
              "fillmode": "overlay",
              "size": 10,
              "solidity": 0.2
             }
            },
            "type": "histogram"
           }
          ],
          "histogram2d": [
           {
            "colorbar": {
             "outlinewidth": 0,
             "ticks": ""
            },
            "colorscale": [
             [
              0,
              "#0d0887"
             ],
             [
              0.1111111111111111,
              "#46039f"
             ],
             [
              0.2222222222222222,
              "#7201a8"
             ],
             [
              0.3333333333333333,
              "#9c179e"
             ],
             [
              0.4444444444444444,
              "#bd3786"
             ],
             [
              0.5555555555555556,
              "#d8576b"
             ],
             [
              0.6666666666666666,
              "#ed7953"
             ],
             [
              0.7777777777777778,
              "#fb9f3a"
             ],
             [
              0.8888888888888888,
              "#fdca26"
             ],
             [
              1,
              "#f0f921"
             ]
            ],
            "type": "histogram2d"
           }
          ],
          "histogram2dcontour": [
           {
            "colorbar": {
             "outlinewidth": 0,
             "ticks": ""
            },
            "colorscale": [
             [
              0,
              "#0d0887"
             ],
             [
              0.1111111111111111,
              "#46039f"
             ],
             [
              0.2222222222222222,
              "#7201a8"
             ],
             [
              0.3333333333333333,
              "#9c179e"
             ],
             [
              0.4444444444444444,
              "#bd3786"
             ],
             [
              0.5555555555555556,
              "#d8576b"
             ],
             [
              0.6666666666666666,
              "#ed7953"
             ],
             [
              0.7777777777777778,
              "#fb9f3a"
             ],
             [
              0.8888888888888888,
              "#fdca26"
             ],
             [
              1,
              "#f0f921"
             ]
            ],
            "type": "histogram2dcontour"
           }
          ],
          "mesh3d": [
           {
            "colorbar": {
             "outlinewidth": 0,
             "ticks": ""
            },
            "type": "mesh3d"
           }
          ],
          "parcoords": [
           {
            "line": {
             "colorbar": {
              "outlinewidth": 0,
              "ticks": ""
             }
            },
            "type": "parcoords"
           }
          ],
          "pie": [
           {
            "automargin": true,
            "type": "pie"
           }
          ],
          "scatter": [
           {
            "fillpattern": {
             "fillmode": "overlay",
             "size": 10,
             "solidity": 0.2
            },
            "type": "scatter"
           }
          ],
          "scatter3d": [
           {
            "line": {
             "colorbar": {
              "outlinewidth": 0,
              "ticks": ""
             }
            },
            "marker": {
             "colorbar": {
              "outlinewidth": 0,
              "ticks": ""
             }
            },
            "type": "scatter3d"
           }
          ],
          "scattercarpet": [
           {
            "marker": {
             "colorbar": {
              "outlinewidth": 0,
              "ticks": ""
             }
            },
            "type": "scattercarpet"
           }
          ],
          "scattergeo": [
           {
            "marker": {
             "colorbar": {
              "outlinewidth": 0,
              "ticks": ""
             }
            },
            "type": "scattergeo"
           }
          ],
          "scattergl": [
           {
            "marker": {
             "colorbar": {
              "outlinewidth": 0,
              "ticks": ""
             }
            },
            "type": "scattergl"
           }
          ],
          "scattermapbox": [
           {
            "marker": {
             "colorbar": {
              "outlinewidth": 0,
              "ticks": ""
             }
            },
            "type": "scattermapbox"
           }
          ],
          "scatterpolar": [
           {
            "marker": {
             "colorbar": {
              "outlinewidth": 0,
              "ticks": ""
             }
            },
            "type": "scatterpolar"
           }
          ],
          "scatterpolargl": [
           {
            "marker": {
             "colorbar": {
              "outlinewidth": 0,
              "ticks": ""
             }
            },
            "type": "scatterpolargl"
           }
          ],
          "scatterternary": [
           {
            "marker": {
             "colorbar": {
              "outlinewidth": 0,
              "ticks": ""
             }
            },
            "type": "scatterternary"
           }
          ],
          "surface": [
           {
            "colorbar": {
             "outlinewidth": 0,
             "ticks": ""
            },
            "colorscale": [
             [
              0,
              "#0d0887"
             ],
             [
              0.1111111111111111,
              "#46039f"
             ],
             [
              0.2222222222222222,
              "#7201a8"
             ],
             [
              0.3333333333333333,
              "#9c179e"
             ],
             [
              0.4444444444444444,
              "#bd3786"
             ],
             [
              0.5555555555555556,
              "#d8576b"
             ],
             [
              0.6666666666666666,
              "#ed7953"
             ],
             [
              0.7777777777777778,
              "#fb9f3a"
             ],
             [
              0.8888888888888888,
              "#fdca26"
             ],
             [
              1,
              "#f0f921"
             ]
            ],
            "type": "surface"
           }
          ],
          "table": [
           {
            "cells": {
             "fill": {
              "color": "#EBF0F8"
             },
             "line": {
              "color": "white"
             }
            },
            "header": {
             "fill": {
              "color": "#C8D4E3"
             },
             "line": {
              "color": "white"
             }
            },
            "type": "table"
           }
          ]
         },
         "layout": {
          "annotationdefaults": {
           "arrowcolor": "#2a3f5f",
           "arrowhead": 0,
           "arrowwidth": 1
          },
          "autotypenumbers": "strict",
          "coloraxis": {
           "colorbar": {
            "outlinewidth": 0,
            "ticks": ""
           }
          },
          "colorscale": {
           "diverging": [
            [
             0,
             "#8e0152"
            ],
            [
             0.1,
             "#c51b7d"
            ],
            [
             0.2,
             "#de77ae"
            ],
            [
             0.3,
             "#f1b6da"
            ],
            [
             0.4,
             "#fde0ef"
            ],
            [
             0.5,
             "#f7f7f7"
            ],
            [
             0.6,
             "#e6f5d0"
            ],
            [
             0.7,
             "#b8e186"
            ],
            [
             0.8,
             "#7fbc41"
            ],
            [
             0.9,
             "#4d9221"
            ],
            [
             1,
             "#276419"
            ]
           ],
           "sequential": [
            [
             0,
             "#0d0887"
            ],
            [
             0.1111111111111111,
             "#46039f"
            ],
            [
             0.2222222222222222,
             "#7201a8"
            ],
            [
             0.3333333333333333,
             "#9c179e"
            ],
            [
             0.4444444444444444,
             "#bd3786"
            ],
            [
             0.5555555555555556,
             "#d8576b"
            ],
            [
             0.6666666666666666,
             "#ed7953"
            ],
            [
             0.7777777777777778,
             "#fb9f3a"
            ],
            [
             0.8888888888888888,
             "#fdca26"
            ],
            [
             1,
             "#f0f921"
            ]
           ],
           "sequentialminus": [
            [
             0,
             "#0d0887"
            ],
            [
             0.1111111111111111,
             "#46039f"
            ],
            [
             0.2222222222222222,
             "#7201a8"
            ],
            [
             0.3333333333333333,
             "#9c179e"
            ],
            [
             0.4444444444444444,
             "#bd3786"
            ],
            [
             0.5555555555555556,
             "#d8576b"
            ],
            [
             0.6666666666666666,
             "#ed7953"
            ],
            [
             0.7777777777777778,
             "#fb9f3a"
            ],
            [
             0.8888888888888888,
             "#fdca26"
            ],
            [
             1,
             "#f0f921"
            ]
           ]
          },
          "colorway": [
           "#636efa",
           "#EF553B",
           "#00cc96",
           "#ab63fa",
           "#FFA15A",
           "#19d3f3",
           "#FF6692",
           "#B6E880",
           "#FF97FF",
           "#FECB52"
          ],
          "font": {
           "color": "#2a3f5f"
          },
          "geo": {
           "bgcolor": "white",
           "lakecolor": "white",
           "landcolor": "#E5ECF6",
           "showlakes": true,
           "showland": true,
           "subunitcolor": "white"
          },
          "hoverlabel": {
           "align": "left"
          },
          "hovermode": "closest",
          "mapbox": {
           "style": "light"
          },
          "paper_bgcolor": "white",
          "plot_bgcolor": "#E5ECF6",
          "polar": {
           "angularaxis": {
            "gridcolor": "white",
            "linecolor": "white",
            "ticks": ""
           },
           "bgcolor": "#E5ECF6",
           "radialaxis": {
            "gridcolor": "white",
            "linecolor": "white",
            "ticks": ""
           }
          },
          "scene": {
           "xaxis": {
            "backgroundcolor": "#E5ECF6",
            "gridcolor": "white",
            "gridwidth": 2,
            "linecolor": "white",
            "showbackground": true,
            "ticks": "",
            "zerolinecolor": "white"
           },
           "yaxis": {
            "backgroundcolor": "#E5ECF6",
            "gridcolor": "white",
            "gridwidth": 2,
            "linecolor": "white",
            "showbackground": true,
            "ticks": "",
            "zerolinecolor": "white"
           },
           "zaxis": {
            "backgroundcolor": "#E5ECF6",
            "gridcolor": "white",
            "gridwidth": 2,
            "linecolor": "white",
            "showbackground": true,
            "ticks": "",
            "zerolinecolor": "white"
           }
          },
          "shapedefaults": {
           "line": {
            "color": "#2a3f5f"
           }
          },
          "ternary": {
           "aaxis": {
            "gridcolor": "white",
            "linecolor": "white",
            "ticks": ""
           },
           "baxis": {
            "gridcolor": "white",
            "linecolor": "white",
            "ticks": ""
           },
           "bgcolor": "#E5ECF6",
           "caxis": {
            "gridcolor": "white",
            "linecolor": "white",
            "ticks": ""
           }
          },
          "title": {
           "x": 0.05
          },
          "xaxis": {
           "automargin": true,
           "gridcolor": "white",
           "linecolor": "white",
           "ticks": "",
           "title": {
            "standoff": 15
           },
           "zerolinecolor": "white",
           "zerolinewidth": 2
          },
          "yaxis": {
           "automargin": true,
           "gridcolor": "white",
           "linecolor": "white",
           "ticks": "",
           "title": {
            "standoff": 15
           },
           "zerolinecolor": "white",
           "zerolinewidth": 2
          }
         }
        },
        "xaxis": {
         "anchor": "y",
         "domain": [
          0,
          1
         ],
         "title": {
          "text": "NowWeather"
         }
        },
        "yaxis": {
         "anchor": "x",
         "domain": [
          0,
          1
         ],
         "title": {
          "text": "CalculatorScore"
         }
        }
       }
      }
     },
     "metadata": {},
     "output_type": "display_data"
    }
   ],
   "source": [
    "\n",
    "list_sigle_show_composite = []\n",
    "for now_humd in range(40, 80, 10):\n",
    "    for iloc_count in range(len(df_sigle)):\n",
    "        calculator = weather_result_composite(user_weatherLike, 30, # 10 , 23 , 30\n",
    "                                            df_sigle.iloc[iloc_count].ClothesName, df_sigle.iloc[iloc_count].WeatherScore\n",
    "                                            ,now_humd)\n",
    "        \n",
    "        list_sigle_show_composite.append([now_humd, \n",
    "                                    df_sigle.iloc[iloc_count].ClothesName, \n",
    "                                    df_sigle.iloc[iloc_count].WeatherScore, \n",
    "                                    calculator])\n",
    "        \n",
    "df_sigle_show_composite = pd.DataFrame(list_sigle_show_composite, columns=[\"NowWeather\", \"ClothesName\", \"WeatherScore\",\"CalculatorScore\"])\n",
    "\n",
    "\n",
    "\n",
    "\n",
    "fig = px.line(df_sigle_show_composite,     \n",
    "    x = 'NowWeather',\n",
    "    y = 'CalculatorScore',\n",
    "    color = 'ClothesName',\n",
    "    text= \"ClothesName\")\n",
    "fig.show()\n",
    "\n",
    "# fig = px\n"
   ]
  },
  {
   "cell_type": "code",
   "execution_count": 45,
   "metadata": {},
   "outputs": [
    {
     "name": "stdout",
     "output_type": "stream",
     "text": [
      "weather_score 3 now_humd 40 , temp:  18.5 , humd 22.5 , calculator_ans 108.95\n",
      "weather_score 6 now_humd 40 , temp:  15.5 , humd 19.5 , calculator_ans 92.45\n",
      "weather_score 9 now_humd 40 , temp:  12.5 , humd 16.5 , calculator_ans 75.95\n",
      "weather_score 2 now_humd 40 , temp:  19.5 , humd 23.5 , calculator_ans 114.45\n",
      "weather_score 4 now_humd 40 , temp:  17.5 , humd 21.5 , calculator_ans 103.45\n",
      "weather_score 8 now_humd 40 , temp:  13.5 , humd 17.5 , calculator_ans 81.45\n",
      "weather_score 3 now_humd 50 , temp:  18.5 , humd 12.5 , calculator_ans 99.95\n",
      "weather_score 6 now_humd 50 , temp:  15.5 , humd 9.5 , calculator_ans 83.45\n",
      "weather_score 9 now_humd 50 , temp:  12.5 , humd 6.5 , calculator_ans 66.95\n",
      "weather_score 2 now_humd 50 , temp:  19.5 , humd 13.5 , calculator_ans 105.45\n",
      "weather_score 4 now_humd 50 , temp:  17.5 , humd 11.5 , calculator_ans 94.45\n",
      "weather_score 8 now_humd 50 , temp:  13.5 , humd 7.5 , calculator_ans 72.45\n",
      "weather_score 3 now_humd 60 , temp:  18.5 , humd 2.5 , calculator_ans 90.95\n",
      "weather_score 6 now_humd 60 , temp:  15.5 , humd 0.5 , calculator_ans 74.45\n",
      "weather_score 9 now_humd 60 , temp:  12.5 , humd 3.5 , calculator_ans 57.95\n",
      "weather_score 2 now_humd 60 , temp:  19.5 , humd 3.5 , calculator_ans 96.45\n",
      "weather_score 4 now_humd 60 , temp:  17.5 , humd 1.5 , calculator_ans 85.45\n",
      "weather_score 8 now_humd 60 , temp:  13.5 , humd 2.5 , calculator_ans 63.45\n",
      "weather_score 3 now_humd 70 , temp:  18.5 , humd 7.5 , calculator_ans 81.95\n",
      "weather_score 6 now_humd 70 , temp:  15.5 , humd 10.5 , calculator_ans 65.45\n",
      "weather_score 9 now_humd 70 , temp:  12.5 , humd 13.5 , calculator_ans 48.95\n",
      "weather_score 2 now_humd 70 , temp:  19.5 , humd 6.5 , calculator_ans 87.45\n",
      "weather_score 4 now_humd 70 , temp:  17.5 , humd 8.5 , calculator_ans 76.45\n",
      "weather_score 8 now_humd 70 , temp:  13.5 , humd 12.5 , calculator_ans 54.45\n",
      "weather_score 3 now_humd 80 , temp:  18.5 , humd 17.5 , calculator_ans 72.95\n",
      "weather_score 6 now_humd 80 , temp:  15.5 , humd 20.5 , calculator_ans 56.45\n",
      "weather_score 9 now_humd 80 , temp:  12.5 , humd 23.5 , calculator_ans 39.95\n",
      "weather_score 2 now_humd 80 , temp:  19.5 , humd 16.5 , calculator_ans 78.45\n",
      "weather_score 4 now_humd 80 , temp:  17.5 , humd 18.5 , calculator_ans 67.45\n",
      "weather_score 8 now_humd 80 , temp:  13.5 , humd 22.5 , calculator_ans 45.45\n",
      "weather_score 3 now_humd 90 , temp:  18.5 , humd 27.5 , calculator_ans 63.95\n",
      "weather_score 6 now_humd 90 , temp:  15.5 , humd 30.5 , calculator_ans 47.45\n",
      "weather_score 9 now_humd 90 , temp:  12.5 , humd 33.5 , calculator_ans 30.95\n",
      "weather_score 2 now_humd 90 , temp:  19.5 , humd 26.5 , calculator_ans 69.45\n",
      "weather_score 4 now_humd 90 , temp:  17.5 , humd 28.5 , calculator_ans 58.45\n",
      "weather_score 8 now_humd 90 , temp:  13.5 , humd 32.5 , calculator_ans 36.45\n",
      "weather_score 3 now_humd 100 , temp:  18.5 , humd 37.5 , calculator_ans 54.95\n",
      "weather_score 6 now_humd 100 , temp:  15.5 , humd 40.5 , calculator_ans 38.45\n",
      "weather_score 9 now_humd 100 , temp:  12.5 , humd 43.5 , calculator_ans 21.95\n",
      "weather_score 2 now_humd 100 , temp:  19.5 , humd 36.5 , calculator_ans 60.45\n",
      "weather_score 4 now_humd 100 , temp:  17.5 , humd 38.5 , calculator_ans 49.45\n",
      "weather_score 8 now_humd 100 , temp:  13.5 , humd 42.5 , calculator_ans 27.45\n"
     ]
    },
    {
     "data": {
      "application/vnd.plotly.v1+json": {
       "config": {
        "plotlyServerURL": "https://plot.ly"
       },
       "data": [
        {
         "hovertemplate": "ClothesName=%{text}<br>NowWeather=%{x}<br>CalculatorScore=%{y}<extra></extra>",
         "legendgroup": "T-Shirt",
         "line": {
          "color": "#636efa",
          "dash": "solid"
         },
         "marker": {
          "symbol": "circle"
         },
         "mode": "text+markers+lines",
         "name": "T-Shirt",
         "orientation": "v",
         "showlegend": true,
         "text": [
          "T-Shirt",
          "T-Shirt",
          "T-Shirt",
          "T-Shirt",
          "T-Shirt",
          "T-Shirt",
          "T-Shirt"
         ],
         "type": "scatter",
         "x": [
          40,
          50,
          60,
          70,
          80,
          90,
          100
         ],
         "xaxis": "x",
         "y": [
          108.95,
          99.95,
          90.95,
          81.95,
          72.95,
          63.95,
          54.95
         ],
         "yaxis": "y"
        },
        {
         "hovertemplate": "ClothesName=%{text}<br>NowWeather=%{x}<br>CalculatorScore=%{y}<extra></extra>",
         "legendgroup": "Longsleve",
         "line": {
          "color": "#EF553B",
          "dash": "solid"
         },
         "marker": {
          "symbol": "circle"
         },
         "mode": "text+markers+lines",
         "name": "Longsleve",
         "orientation": "v",
         "showlegend": true,
         "text": [
          "Longsleve",
          "Longsleve",
          "Longsleve",
          "Longsleve",
          "Longsleve",
          "Longsleve",
          "Longsleve"
         ],
         "type": "scatter",
         "x": [
          40,
          50,
          60,
          70,
          80,
          90,
          100
         ],
         "xaxis": "x",
         "y": [
          92.45,
          83.45,
          74.45,
          65.45,
          56.45,
          47.45,
          38.45
         ],
         "yaxis": "y"
        },
        {
         "hovertemplate": "ClothesName=%{text}<br>NowWeather=%{x}<br>CalculatorScore=%{y}<extra></extra>",
         "legendgroup": "Weaters",
         "line": {
          "color": "#00cc96",
          "dash": "solid"
         },
         "marker": {
          "symbol": "circle"
         },
         "mode": "text+markers+lines",
         "name": "Weaters",
         "orientation": "v",
         "showlegend": true,
         "text": [
          "Weaters",
          "Weaters",
          "Weaters",
          "Weaters",
          "Weaters",
          "Weaters",
          "Weaters"
         ],
         "type": "scatter",
         "x": [
          40,
          50,
          60,
          70,
          80,
          90,
          100
         ],
         "xaxis": "x",
         "y": [
          75.95,
          66.95,
          57.95,
          48.95,
          39.95,
          30.95,
          21.95
         ],
         "yaxis": "y"
        },
        {
         "hovertemplate": "ClothesName=%{text}<br>NowWeather=%{x}<br>CalculatorScore=%{y}<extra></extra>",
         "legendgroup": "Skirt",
         "line": {
          "color": "#ab63fa",
          "dash": "solid"
         },
         "marker": {
          "symbol": "circle"
         },
         "mode": "text+markers+lines",
         "name": "Skirt",
         "orientation": "v",
         "showlegend": true,
         "text": [
          "Skirt",
          "Skirt",
          "Skirt",
          "Skirt",
          "Skirt",
          "Skirt",
          "Skirt"
         ],
         "type": "scatter",
         "x": [
          40,
          50,
          60,
          70,
          80,
          90,
          100
         ],
         "xaxis": "x",
         "y": [
          114.45,
          105.45,
          96.45,
          87.45,
          78.45,
          69.45,
          60.45
         ],
         "yaxis": "y"
        },
        {
         "hovertemplate": "ClothesName=%{text}<br>NowWeather=%{x}<br>CalculatorScore=%{y}<extra></extra>",
         "legendgroup": "Short",
         "line": {
          "color": "#FFA15A",
          "dash": "solid"
         },
         "marker": {
          "symbol": "circle"
         },
         "mode": "text+markers+lines",
         "name": "Short",
         "orientation": "v",
         "showlegend": true,
         "text": [
          "Short",
          "Short",
          "Short",
          "Short",
          "Short",
          "Short",
          "Short"
         ],
         "type": "scatter",
         "x": [
          40,
          50,
          60,
          70,
          80,
          90,
          100
         ],
         "xaxis": "x",
         "y": [
          103.45,
          94.45,
          85.45,
          76.45,
          67.45,
          58.45,
          49.45
         ],
         "yaxis": "y"
        },
        {
         "hovertemplate": "ClothesName=%{text}<br>NowWeather=%{x}<br>CalculatorScore=%{y}<extra></extra>",
         "legendgroup": "Pants",
         "line": {
          "color": "#19d3f3",
          "dash": "solid"
         },
         "marker": {
          "symbol": "circle"
         },
         "mode": "text+markers+lines",
         "name": "Pants",
         "orientation": "v",
         "showlegend": true,
         "text": [
          "Pants",
          "Pants",
          "Pants",
          "Pants",
          "Pants",
          "Pants",
          "Pants"
         ],
         "type": "scatter",
         "x": [
          40,
          50,
          60,
          70,
          80,
          90,
          100
         ],
         "xaxis": "x",
         "y": [
          81.45,
          72.45,
          63.45,
          54.45,
          45.45,
          36.45,
          27.45
         ],
         "yaxis": "y"
        }
       ],
       "layout": {
        "legend": {
         "title": {
          "text": "ClothesName"
         },
         "tracegroupgap": 0
        },
        "margin": {
         "t": 60
        },
        "template": {
         "data": {
          "bar": [
           {
            "error_x": {
             "color": "#2a3f5f"
            },
            "error_y": {
             "color": "#2a3f5f"
            },
            "marker": {
             "line": {
              "color": "#E5ECF6",
              "width": 0.5
             },
             "pattern": {
              "fillmode": "overlay",
              "size": 10,
              "solidity": 0.2
             }
            },
            "type": "bar"
           }
          ],
          "barpolar": [
           {
            "marker": {
             "line": {
              "color": "#E5ECF6",
              "width": 0.5
             },
             "pattern": {
              "fillmode": "overlay",
              "size": 10,
              "solidity": 0.2
             }
            },
            "type": "barpolar"
           }
          ],
          "carpet": [
           {
            "aaxis": {
             "endlinecolor": "#2a3f5f",
             "gridcolor": "white",
             "linecolor": "white",
             "minorgridcolor": "white",
             "startlinecolor": "#2a3f5f"
            },
            "baxis": {
             "endlinecolor": "#2a3f5f",
             "gridcolor": "white",
             "linecolor": "white",
             "minorgridcolor": "white",
             "startlinecolor": "#2a3f5f"
            },
            "type": "carpet"
           }
          ],
          "choropleth": [
           {
            "colorbar": {
             "outlinewidth": 0,
             "ticks": ""
            },
            "type": "choropleth"
           }
          ],
          "contour": [
           {
            "colorbar": {
             "outlinewidth": 0,
             "ticks": ""
            },
            "colorscale": [
             [
              0,
              "#0d0887"
             ],
             [
              0.1111111111111111,
              "#46039f"
             ],
             [
              0.2222222222222222,
              "#7201a8"
             ],
             [
              0.3333333333333333,
              "#9c179e"
             ],
             [
              0.4444444444444444,
              "#bd3786"
             ],
             [
              0.5555555555555556,
              "#d8576b"
             ],
             [
              0.6666666666666666,
              "#ed7953"
             ],
             [
              0.7777777777777778,
              "#fb9f3a"
             ],
             [
              0.8888888888888888,
              "#fdca26"
             ],
             [
              1,
              "#f0f921"
             ]
            ],
            "type": "contour"
           }
          ],
          "contourcarpet": [
           {
            "colorbar": {
             "outlinewidth": 0,
             "ticks": ""
            },
            "type": "contourcarpet"
           }
          ],
          "heatmap": [
           {
            "colorbar": {
             "outlinewidth": 0,
             "ticks": ""
            },
            "colorscale": [
             [
              0,
              "#0d0887"
             ],
             [
              0.1111111111111111,
              "#46039f"
             ],
             [
              0.2222222222222222,
              "#7201a8"
             ],
             [
              0.3333333333333333,
              "#9c179e"
             ],
             [
              0.4444444444444444,
              "#bd3786"
             ],
             [
              0.5555555555555556,
              "#d8576b"
             ],
             [
              0.6666666666666666,
              "#ed7953"
             ],
             [
              0.7777777777777778,
              "#fb9f3a"
             ],
             [
              0.8888888888888888,
              "#fdca26"
             ],
             [
              1,
              "#f0f921"
             ]
            ],
            "type": "heatmap"
           }
          ],
          "heatmapgl": [
           {
            "colorbar": {
             "outlinewidth": 0,
             "ticks": ""
            },
            "colorscale": [
             [
              0,
              "#0d0887"
             ],
             [
              0.1111111111111111,
              "#46039f"
             ],
             [
              0.2222222222222222,
              "#7201a8"
             ],
             [
              0.3333333333333333,
              "#9c179e"
             ],
             [
              0.4444444444444444,
              "#bd3786"
             ],
             [
              0.5555555555555556,
              "#d8576b"
             ],
             [
              0.6666666666666666,
              "#ed7953"
             ],
             [
              0.7777777777777778,
              "#fb9f3a"
             ],
             [
              0.8888888888888888,
              "#fdca26"
             ],
             [
              1,
              "#f0f921"
             ]
            ],
            "type": "heatmapgl"
           }
          ],
          "histogram": [
           {
            "marker": {
             "pattern": {
              "fillmode": "overlay",
              "size": 10,
              "solidity": 0.2
             }
            },
            "type": "histogram"
           }
          ],
          "histogram2d": [
           {
            "colorbar": {
             "outlinewidth": 0,
             "ticks": ""
            },
            "colorscale": [
             [
              0,
              "#0d0887"
             ],
             [
              0.1111111111111111,
              "#46039f"
             ],
             [
              0.2222222222222222,
              "#7201a8"
             ],
             [
              0.3333333333333333,
              "#9c179e"
             ],
             [
              0.4444444444444444,
              "#bd3786"
             ],
             [
              0.5555555555555556,
              "#d8576b"
             ],
             [
              0.6666666666666666,
              "#ed7953"
             ],
             [
              0.7777777777777778,
              "#fb9f3a"
             ],
             [
              0.8888888888888888,
              "#fdca26"
             ],
             [
              1,
              "#f0f921"
             ]
            ],
            "type": "histogram2d"
           }
          ],
          "histogram2dcontour": [
           {
            "colorbar": {
             "outlinewidth": 0,
             "ticks": ""
            },
            "colorscale": [
             [
              0,
              "#0d0887"
             ],
             [
              0.1111111111111111,
              "#46039f"
             ],
             [
              0.2222222222222222,
              "#7201a8"
             ],
             [
              0.3333333333333333,
              "#9c179e"
             ],
             [
              0.4444444444444444,
              "#bd3786"
             ],
             [
              0.5555555555555556,
              "#d8576b"
             ],
             [
              0.6666666666666666,
              "#ed7953"
             ],
             [
              0.7777777777777778,
              "#fb9f3a"
             ],
             [
              0.8888888888888888,
              "#fdca26"
             ],
             [
              1,
              "#f0f921"
             ]
            ],
            "type": "histogram2dcontour"
           }
          ],
          "mesh3d": [
           {
            "colorbar": {
             "outlinewidth": 0,
             "ticks": ""
            },
            "type": "mesh3d"
           }
          ],
          "parcoords": [
           {
            "line": {
             "colorbar": {
              "outlinewidth": 0,
              "ticks": ""
             }
            },
            "type": "parcoords"
           }
          ],
          "pie": [
           {
            "automargin": true,
            "type": "pie"
           }
          ],
          "scatter": [
           {
            "fillpattern": {
             "fillmode": "overlay",
             "size": 10,
             "solidity": 0.2
            },
            "type": "scatter"
           }
          ],
          "scatter3d": [
           {
            "line": {
             "colorbar": {
              "outlinewidth": 0,
              "ticks": ""
             }
            },
            "marker": {
             "colorbar": {
              "outlinewidth": 0,
              "ticks": ""
             }
            },
            "type": "scatter3d"
           }
          ],
          "scattercarpet": [
           {
            "marker": {
             "colorbar": {
              "outlinewidth": 0,
              "ticks": ""
             }
            },
            "type": "scattercarpet"
           }
          ],
          "scattergeo": [
           {
            "marker": {
             "colorbar": {
              "outlinewidth": 0,
              "ticks": ""
             }
            },
            "type": "scattergeo"
           }
          ],
          "scattergl": [
           {
            "marker": {
             "colorbar": {
              "outlinewidth": 0,
              "ticks": ""
             }
            },
            "type": "scattergl"
           }
          ],
          "scattermapbox": [
           {
            "marker": {
             "colorbar": {
              "outlinewidth": 0,
              "ticks": ""
             }
            },
            "type": "scattermapbox"
           }
          ],
          "scatterpolar": [
           {
            "marker": {
             "colorbar": {
              "outlinewidth": 0,
              "ticks": ""
             }
            },
            "type": "scatterpolar"
           }
          ],
          "scatterpolargl": [
           {
            "marker": {
             "colorbar": {
              "outlinewidth": 0,
              "ticks": ""
             }
            },
            "type": "scatterpolargl"
           }
          ],
          "scatterternary": [
           {
            "marker": {
             "colorbar": {
              "outlinewidth": 0,
              "ticks": ""
             }
            },
            "type": "scatterternary"
           }
          ],
          "surface": [
           {
            "colorbar": {
             "outlinewidth": 0,
             "ticks": ""
            },
            "colorscale": [
             [
              0,
              "#0d0887"
             ],
             [
              0.1111111111111111,
              "#46039f"
             ],
             [
              0.2222222222222222,
              "#7201a8"
             ],
             [
              0.3333333333333333,
              "#9c179e"
             ],
             [
              0.4444444444444444,
              "#bd3786"
             ],
             [
              0.5555555555555556,
              "#d8576b"
             ],
             [
              0.6666666666666666,
              "#ed7953"
             ],
             [
              0.7777777777777778,
              "#fb9f3a"
             ],
             [
              0.8888888888888888,
              "#fdca26"
             ],
             [
              1,
              "#f0f921"
             ]
            ],
            "type": "surface"
           }
          ],
          "table": [
           {
            "cells": {
             "fill": {
              "color": "#EBF0F8"
             },
             "line": {
              "color": "white"
             }
            },
            "header": {
             "fill": {
              "color": "#C8D4E3"
             },
             "line": {
              "color": "white"
             }
            },
            "type": "table"
           }
          ]
         },
         "layout": {
          "annotationdefaults": {
           "arrowcolor": "#2a3f5f",
           "arrowhead": 0,
           "arrowwidth": 1
          },
          "autotypenumbers": "strict",
          "coloraxis": {
           "colorbar": {
            "outlinewidth": 0,
            "ticks": ""
           }
          },
          "colorscale": {
           "diverging": [
            [
             0,
             "#8e0152"
            ],
            [
             0.1,
             "#c51b7d"
            ],
            [
             0.2,
             "#de77ae"
            ],
            [
             0.3,
             "#f1b6da"
            ],
            [
             0.4,
             "#fde0ef"
            ],
            [
             0.5,
             "#f7f7f7"
            ],
            [
             0.6,
             "#e6f5d0"
            ],
            [
             0.7,
             "#b8e186"
            ],
            [
             0.8,
             "#7fbc41"
            ],
            [
             0.9,
             "#4d9221"
            ],
            [
             1,
             "#276419"
            ]
           ],
           "sequential": [
            [
             0,
             "#0d0887"
            ],
            [
             0.1111111111111111,
             "#46039f"
            ],
            [
             0.2222222222222222,
             "#7201a8"
            ],
            [
             0.3333333333333333,
             "#9c179e"
            ],
            [
             0.4444444444444444,
             "#bd3786"
            ],
            [
             0.5555555555555556,
             "#d8576b"
            ],
            [
             0.6666666666666666,
             "#ed7953"
            ],
            [
             0.7777777777777778,
             "#fb9f3a"
            ],
            [
             0.8888888888888888,
             "#fdca26"
            ],
            [
             1,
             "#f0f921"
            ]
           ],
           "sequentialminus": [
            [
             0,
             "#0d0887"
            ],
            [
             0.1111111111111111,
             "#46039f"
            ],
            [
             0.2222222222222222,
             "#7201a8"
            ],
            [
             0.3333333333333333,
             "#9c179e"
            ],
            [
             0.4444444444444444,
             "#bd3786"
            ],
            [
             0.5555555555555556,
             "#d8576b"
            ],
            [
             0.6666666666666666,
             "#ed7953"
            ],
            [
             0.7777777777777778,
             "#fb9f3a"
            ],
            [
             0.8888888888888888,
             "#fdca26"
            ],
            [
             1,
             "#f0f921"
            ]
           ]
          },
          "colorway": [
           "#636efa",
           "#EF553B",
           "#00cc96",
           "#ab63fa",
           "#FFA15A",
           "#19d3f3",
           "#FF6692",
           "#B6E880",
           "#FF97FF",
           "#FECB52"
          ],
          "font": {
           "color": "#2a3f5f"
          },
          "geo": {
           "bgcolor": "white",
           "lakecolor": "white",
           "landcolor": "#E5ECF6",
           "showlakes": true,
           "showland": true,
           "subunitcolor": "white"
          },
          "hoverlabel": {
           "align": "left"
          },
          "hovermode": "closest",
          "mapbox": {
           "style": "light"
          },
          "paper_bgcolor": "white",
          "plot_bgcolor": "#E5ECF6",
          "polar": {
           "angularaxis": {
            "gridcolor": "white",
            "linecolor": "white",
            "ticks": ""
           },
           "bgcolor": "#E5ECF6",
           "radialaxis": {
            "gridcolor": "white",
            "linecolor": "white",
            "ticks": ""
           }
          },
          "scene": {
           "xaxis": {
            "backgroundcolor": "#E5ECF6",
            "gridcolor": "white",
            "gridwidth": 2,
            "linecolor": "white",
            "showbackground": true,
            "ticks": "",
            "zerolinecolor": "white"
           },
           "yaxis": {
            "backgroundcolor": "#E5ECF6",
            "gridcolor": "white",
            "gridwidth": 2,
            "linecolor": "white",
            "showbackground": true,
            "ticks": "",
            "zerolinecolor": "white"
           },
           "zaxis": {
            "backgroundcolor": "#E5ECF6",
            "gridcolor": "white",
            "gridwidth": 2,
            "linecolor": "white",
            "showbackground": true,
            "ticks": "",
            "zerolinecolor": "white"
           }
          },
          "shapedefaults": {
           "line": {
            "color": "#2a3f5f"
           }
          },
          "ternary": {
           "aaxis": {
            "gridcolor": "white",
            "linecolor": "white",
            "ticks": ""
           },
           "baxis": {
            "gridcolor": "white",
            "linecolor": "white",
            "ticks": ""
           },
           "bgcolor": "#E5ECF6",
           "caxis": {
            "gridcolor": "white",
            "linecolor": "white",
            "ticks": ""
           }
          },
          "title": {
           "x": 0.05
          },
          "xaxis": {
           "automargin": true,
           "gridcolor": "white",
           "linecolor": "white",
           "ticks": "",
           "title": {
            "standoff": 15
           },
           "zerolinecolor": "white",
           "zerolinewidth": 2
          },
          "yaxis": {
           "automargin": true,
           "gridcolor": "white",
           "linecolor": "white",
           "ticks": "",
           "title": {
            "standoff": 15
           },
           "zerolinecolor": "white",
           "zerolinewidth": 2
          }
         }
        },
        "xaxis": {
         "anchor": "y",
         "domain": [
          0,
          1
         ],
         "title": {
          "text": "NowWeather"
         }
        },
        "yaxis": {
         "anchor": "x",
         "domain": [
          0,
          1
         ],
         "title": {
          "text": "CalculatorScore"
         }
        }
       }
      }
     },
     "metadata": {},
     "output_type": "display_data"
    }
   ],
   "source": [
    "\n",
    "list_sigle_show_composite = []\n",
    "for now_humd in range(40, 110, 10):\n",
    "    for iloc_count in range(len(df_sigle)):\n",
    "        calculator = weather_result_composite(user_weatherLike, 5, # 10 , 23 , 30\n",
    "                                            df_sigle.iloc[iloc_count].ClothesName, df_sigle.iloc[iloc_count].WeatherScore\n",
    "                                            ,now_humd)\n",
    "        \n",
    "        list_sigle_show_composite.append([now_humd, \n",
    "                                    df_sigle.iloc[iloc_count].ClothesName, \n",
    "                                    df_sigle.iloc[iloc_count].WeatherScore, \n",
    "                                    calculator])\n",
    "        \n",
    "df_sigle_show_composite = pd.DataFrame(list_sigle_show_composite, columns=[\"NowWeather\", \"ClothesName\", \"WeatherScore\",\"CalculatorScore\"])\n",
    "\n",
    "\n",
    "\n",
    "\n",
    "fig = px.line(df_sigle_show_composite,     \n",
    "    x = 'NowWeather',\n",
    "    y = 'CalculatorScore',\n",
    "    color = 'ClothesName',\n",
    "    text= \"ClothesName\")\n",
    "fig.show()\n",
    "\n",
    "# fig = px\n"
   ]
  },
  {
   "attachments": {},
   "cell_type": "markdown",
   "metadata": {},
   "source": [
    "# -------------"
   ]
  },
  {
   "cell_type": "code",
   "execution_count": 48,
   "metadata": {},
   "outputs": [
    {
     "name": "stdout",
     "output_type": "stream",
     "text": [
      "weather_score 5 now_humd 60 , temp:  13.5 , humd 0.5 , calculator_ans 67.95\n",
      "weather_score 8 now_humd 60 , temp:  10.5 , humd 2.5 , calculator_ans 51.45\n",
      "weather_score 11 now_humd 60 , temp:  7.5 , humd 5.5 , calculator_ans 34.95\n",
      "weather_score 7 now_humd 60 , temp:  11.5 , humd 1.5 , calculator_ans 56.95\n",
      "weather_score 10 now_humd 60 , temp:  8.5 , humd 4.5 , calculator_ans 40.45\n",
      "weather_score 13 now_humd 60 , temp:  5.5 , humd 7.5 , calculator_ans 23.95\n",
      "weather_score 11 now_humd 60 , temp:  7.5 , humd 5.5 , calculator_ans 34.95\n",
      "weather_score 14 now_humd 60 , temp:  4.5 , humd 8.5 , calculator_ans 18.45\n",
      "weather_score 17 now_humd 60 , temp:  1.5 , humd 11.5 , calculator_ans 1.95\n",
      "weather_score 5 now_humd 60 , temp:  12.5 , humd 0.5 , calculator_ans 63.95\n",
      "weather_score 8 now_humd 60 , temp:  9.5 , humd 2.5 , calculator_ans 47.45\n",
      "weather_score 11 now_humd 60 , temp:  6.5 , humd 5.5 , calculator_ans 30.95\n",
      "weather_score 7 now_humd 60 , temp:  10.5 , humd 1.5 , calculator_ans 52.95\n",
      "weather_score 10 now_humd 60 , temp:  7.5 , humd 4.5 , calculator_ans 36.45\n",
      "weather_score 13 now_humd 60 , temp:  4.5 , humd 7.5 , calculator_ans 19.95\n",
      "weather_score 11 now_humd 60 , temp:  6.5 , humd 5.5 , calculator_ans 30.95\n",
      "weather_score 14 now_humd 60 , temp:  3.5 , humd 8.5 , calculator_ans 14.45\n",
      "weather_score 17 now_humd 60 , temp:  0.5 , humd 11.5 , calculator_ans 3.35\n",
      "weather_score 5 now_humd 60 , temp:  11.5 , humd 0.5 , calculator_ans 59.95\n",
      "weather_score 8 now_humd 60 , temp:  8.5 , humd 2.5 , calculator_ans 43.45\n",
      "weather_score 11 now_humd 60 , temp:  5.5 , humd 5.5 , calculator_ans 26.95\n",
      "weather_score 7 now_humd 60 , temp:  9.5 , humd 1.5 , calculator_ans 48.95\n",
      "weather_score 10 now_humd 60 , temp:  6.5 , humd 4.5 , calculator_ans 32.45\n",
      "weather_score 13 now_humd 60 , temp:  3.5 , humd 7.5 , calculator_ans 15.95\n",
      "weather_score 11 now_humd 60 , temp:  5.5 , humd 5.5 , calculator_ans 26.95\n",
      "weather_score 14 now_humd 60 , temp:  2.5 , humd 8.5 , calculator_ans 10.45\n",
      "weather_score 17 now_humd 60 , temp:  0.5 , humd 11.5 , calculator_ans 6.05\n",
      "weather_score 5 now_humd 60 , temp:  10.5 , humd 0.5 , calculator_ans 55.95\n",
      "weather_score 8 now_humd 60 , temp:  7.5 , humd 2.5 , calculator_ans 39.45\n",
      "weather_score 11 now_humd 60 , temp:  4.5 , humd 5.5 , calculator_ans 22.95\n",
      "weather_score 7 now_humd 60 , temp:  8.5 , humd 1.5 , calculator_ans 44.95\n",
      "weather_score 10 now_humd 60 , temp:  5.5 , humd 4.5 , calculator_ans 28.45\n",
      "weather_score 13 now_humd 60 , temp:  2.5 , humd 7.5 , calculator_ans 11.95\n",
      "weather_score 11 now_humd 60 , temp:  4.5 , humd 5.5 , calculator_ans 22.95\n",
      "weather_score 14 now_humd 60 , temp:  1.5 , humd 8.5 , calculator_ans 6.45\n",
      "weather_score 17 now_humd 60 , temp:  1.5 , humd 11.5 , calculator_ans 10.05\n",
      "weather_score 5 now_humd 60 , temp:  9.5 , humd 0.5 , calculator_ans 51.95\n",
      "weather_score 8 now_humd 60 , temp:  6.5 , humd 2.5 , calculator_ans 35.45\n",
      "weather_score 11 now_humd 60 , temp:  3.5 , humd 5.5 , calculator_ans 18.95\n",
      "weather_score 7 now_humd 60 , temp:  7.5 , humd 1.5 , calculator_ans 40.95\n",
      "weather_score 10 now_humd 60 , temp:  4.5 , humd 4.5 , calculator_ans 24.45\n",
      "weather_score 13 now_humd 60 , temp:  1.5 , humd 7.5 , calculator_ans 7.95\n",
      "weather_score 11 now_humd 60 , temp:  3.5 , humd 5.5 , calculator_ans 18.95\n",
      "weather_score 14 now_humd 60 , temp:  0.5 , humd 8.5 , calculator_ans 2.45\n",
      "weather_score 17 now_humd 60 , temp:  2.5 , humd 11.5 , calculator_ans 14.05\n",
      "weather_score 5 now_humd 60 , temp:  8.5 , humd 0.5 , calculator_ans 47.95\n",
      "weather_score 8 now_humd 60 , temp:  5.5 , humd 2.5 , calculator_ans 31.45\n",
      "weather_score 11 now_humd 60 , temp:  2.5 , humd 5.5 , calculator_ans 14.95\n",
      "weather_score 7 now_humd 60 , temp:  6.5 , humd 1.5 , calculator_ans 36.95\n",
      "weather_score 10 now_humd 60 , temp:  3.5 , humd 4.5 , calculator_ans 20.45\n",
      "weather_score 13 now_humd 60 , temp:  0.5 , humd 7.5 , calculator_ans 3.95\n",
      "weather_score 11 now_humd 60 , temp:  2.5 , humd 5.5 , calculator_ans 14.95\n",
      "weather_score 14 now_humd 60 , temp:  0.5 , humd 8.5 , calculator_ans 1.55\n",
      "weather_score 17 now_humd 60 , temp:  3.5 , humd 11.5 , calculator_ans 18.05\n",
      "weather_score 5 now_humd 60 , temp:  7.5 , humd 0.5 , calculator_ans 43.95\n",
      "weather_score 8 now_humd 60 , temp:  4.5 , humd 2.5 , calculator_ans 27.45\n",
      "weather_score 11 now_humd 60 , temp:  1.5 , humd 5.5 , calculator_ans 10.95\n",
      "weather_score 7 now_humd 60 , temp:  5.5 , humd 1.5 , calculator_ans 32.95\n",
      "weather_score 10 now_humd 60 , temp:  2.5 , humd 4.5 , calculator_ans 16.45\n",
      "weather_score 13 now_humd 60 , temp:  0.5 , humd 7.5 , calculator_ans 1.25\n",
      "weather_score 11 now_humd 60 , temp:  1.5 , humd 5.5 , calculator_ans 10.95\n",
      "weather_score 14 now_humd 60 , temp:  1.5 , humd 8.5 , calculator_ans 5.55\n",
      "weather_score 17 now_humd 60 , temp:  4.5 , humd 11.5 , calculator_ans 22.05\n",
      "weather_score 5 now_humd 60 , temp:  6.5 , humd 0.5 , calculator_ans 39.95\n",
      "weather_score 8 now_humd 60 , temp:  3.5 , humd 2.5 , calculator_ans 23.45\n",
      "weather_score 11 now_humd 60 , temp:  0.5 , humd 5.5 , calculator_ans 6.95\n",
      "weather_score 7 now_humd 60 , temp:  4.5 , humd 1.5 , calculator_ans 28.95\n",
      "weather_score 10 now_humd 60 , temp:  1.5 , humd 4.5 , calculator_ans 12.45\n",
      "weather_score 13 now_humd 60 , temp:  1.5 , humd 7.5 , calculator_ans 4.05\n",
      "weather_score 11 now_humd 60 , temp:  0.5 , humd 5.5 , calculator_ans 6.95\n",
      "weather_score 14 now_humd 60 , temp:  2.5 , humd 8.5 , calculator_ans 9.55\n",
      "weather_score 17 now_humd 60 , temp:  5.5 , humd 11.5 , calculator_ans 26.05\n",
      "weather_score 5 now_humd 60 , temp:  5.5 , humd 0.5 , calculator_ans 35.95\n",
      "weather_score 8 now_humd 60 , temp:  2.5 , humd 2.5 , calculator_ans 19.45\n",
      "weather_score 11 now_humd 60 , temp:  0.5 , humd 5.5 , calculator_ans 4.25\n",
      "weather_score 7 now_humd 60 , temp:  3.5 , humd 1.5 , calculator_ans 24.95\n",
      "weather_score 10 now_humd 60 , temp:  0.5 , humd 4.5 , calculator_ans 8.45\n",
      "weather_score 13 now_humd 60 , temp:  2.5 , humd 7.5 , calculator_ans 8.05\n",
      "weather_score 11 now_humd 60 , temp:  0.5 , humd 5.5 , calculator_ans 4.25\n",
      "weather_score 14 now_humd 60 , temp:  3.5 , humd 8.5 , calculator_ans 13.55\n",
      "weather_score 17 now_humd 60 , temp:  6.5 , humd 11.5 , calculator_ans 30.05\n",
      "weather_score 5 now_humd 60 , temp:  4.5 , humd 0.5 , calculator_ans 31.95\n",
      "weather_score 8 now_humd 60 , temp:  1.5 , humd 2.5 , calculator_ans 15.45\n",
      "weather_score 11 now_humd 60 , temp:  1.5 , humd 5.5 , calculator_ans 2.85\n",
      "weather_score 7 now_humd 60 , temp:  2.5 , humd 1.5 , calculator_ans 20.95\n",
      "weather_score 10 now_humd 60 , temp:  0.5 , humd 4.5 , calculator_ans 5.75\n",
      "weather_score 13 now_humd 60 , temp:  3.5 , humd 7.5 , calculator_ans 12.05\n",
      "weather_score 11 now_humd 60 , temp:  1.5 , humd 5.5 , calculator_ans 2.85\n",
      "weather_score 14 now_humd 60 , temp:  4.5 , humd 8.5 , calculator_ans 17.55\n",
      "weather_score 17 now_humd 60 , temp:  7.5 , humd 11.5 , calculator_ans 34.05\n",
      "weather_score 5 now_humd 60 , temp:  3.5 , humd 0.5 , calculator_ans 27.95\n",
      "weather_score 8 now_humd 60 , temp:  0.5 , humd 2.5 , calculator_ans 11.45\n",
      "weather_score 11 now_humd 60 , temp:  2.5 , humd 5.5 , calculator_ans 5.05\n",
      "weather_score 7 now_humd 60 , temp:  1.5 , humd 1.5 , calculator_ans 16.95\n",
      "weather_score 10 now_humd 60 , temp:  1.5 , humd 4.5 , calculator_ans 4.35\n",
      "weather_score 13 now_humd 60 , temp:  4.5 , humd 7.5 , calculator_ans 16.05\n",
      "weather_score 11 now_humd 60 , temp:  2.5 , humd 5.5 , calculator_ans 5.05\n",
      "weather_score 14 now_humd 60 , temp:  5.5 , humd 8.5 , calculator_ans 21.55\n",
      "weather_score 17 now_humd 60 , temp:  8.5 , humd 11.5 , calculator_ans 38.05\n",
      "weather_score 5 now_humd 60 , temp:  2.5 , humd 0.5 , calculator_ans 23.95\n",
      "weather_score 8 now_humd 60 , temp:  0.5 , humd 2.5 , calculator_ans 8.75\n",
      "weather_score 11 now_humd 60 , temp:  3.5 , humd 5.5 , calculator_ans 9.05\n",
      "weather_score 7 now_humd 60 , temp:  0.5 , humd 1.5 , calculator_ans 12.95\n",
      "weather_score 10 now_humd 60 , temp:  2.5 , humd 4.5 , calculator_ans 3.55\n",
      "weather_score 13 now_humd 60 , temp:  5.5 , humd 7.5 , calculator_ans 20.05\n",
      "weather_score 11 now_humd 60 , temp:  3.5 , humd 5.5 , calculator_ans 9.05\n",
      "weather_score 14 now_humd 60 , temp:  6.5 , humd 8.5 , calculator_ans 25.55\n",
      "weather_score 17 now_humd 60 , temp:  9.5 , humd 11.5 , calculator_ans 42.05\n",
      "weather_score 5 now_humd 60 , temp:  1.5 , humd 0.5 , calculator_ans 19.95\n",
      "weather_score 8 now_humd 60 , temp:  1.5 , humd 2.5 , calculator_ans 7.35\n",
      "weather_score 11 now_humd 60 , temp:  4.5 , humd 5.5 , calculator_ans 13.05\n",
      "weather_score 7 now_humd 60 , temp:  0.5 , humd 1.5 , calculator_ans 10.25\n",
      "weather_score 10 now_humd 60 , temp:  3.5 , humd 4.5 , calculator_ans 7.55\n",
      "weather_score 13 now_humd 60 , temp:  6.5 , humd 7.5 , calculator_ans 24.05\n",
      "weather_score 11 now_humd 60 , temp:  4.5 , humd 5.5 , calculator_ans 13.05\n",
      "weather_score 14 now_humd 60 , temp:  7.5 , humd 8.5 , calculator_ans 29.55\n",
      "weather_score 17 now_humd 60 , temp:  10.5 , humd 11.5 , calculator_ans 46.05\n",
      "weather_score 5 now_humd 60 , temp:  0.5 , humd 0.5 , calculator_ans 15.95\n",
      "weather_score 8 now_humd 60 , temp:  2.5 , humd 2.5 , calculator_ans 5.95\n",
      "weather_score 11 now_humd 60 , temp:  5.5 , humd 5.5 , calculator_ans 17.05\n",
      "weather_score 7 now_humd 60 , temp:  1.5 , humd 1.5 , calculator_ans 8.85\n",
      "weather_score 10 now_humd 60 , temp:  4.5 , humd 4.5 , calculator_ans 11.55\n",
      "weather_score 13 now_humd 60 , temp:  7.5 , humd 7.5 , calculator_ans 28.05\n",
      "weather_score 11 now_humd 60 , temp:  5.5 , humd 5.5 , calculator_ans 17.05\n",
      "weather_score 14 now_humd 60 , temp:  8.5 , humd 8.5 , calculator_ans 33.55\n",
      "weather_score 17 now_humd 60 , temp:  11.5 , humd 11.5 , calculator_ans 50.05\n",
      "weather_score 5 now_humd 60 , temp:  0.5 , humd 0.5 , calculator_ans 13.25\n",
      "weather_score 8 now_humd 60 , temp:  3.5 , humd 2.5 , calculator_ans 4.55\n",
      "weather_score 11 now_humd 60 , temp:  6.5 , humd 5.5 , calculator_ans 21.05\n",
      "weather_score 7 now_humd 60 , temp:  2.5 , humd 1.5 , calculator_ans 7.45\n",
      "weather_score 10 now_humd 60 , temp:  5.5 , humd 4.5 , calculator_ans 15.55\n",
      "weather_score 13 now_humd 60 , temp:  8.5 , humd 7.5 , calculator_ans 32.05\n",
      "weather_score 11 now_humd 60 , temp:  6.5 , humd 5.5 , calculator_ans 21.05\n",
      "weather_score 14 now_humd 60 , temp:  9.5 , humd 8.5 , calculator_ans 37.55\n",
      "weather_score 17 now_humd 60 , temp:  12.5 , humd 11.5 , calculator_ans 54.05\n",
      "weather_score 5 now_humd 60 , temp:  1.5 , humd 0.5 , calculator_ans 11.85\n",
      "weather_score 8 now_humd 60 , temp:  4.5 , humd 2.5 , calculator_ans 8.55\n",
      "weather_score 11 now_humd 60 , temp:  7.5 , humd 5.5 , calculator_ans 25.05\n",
      "weather_score 7 now_humd 60 , temp:  3.5 , humd 1.5 , calculator_ans 6.05\n",
      "weather_score 10 now_humd 60 , temp:  6.5 , humd 4.5 , calculator_ans 19.55\n",
      "weather_score 13 now_humd 60 , temp:  9.5 , humd 7.5 , calculator_ans 36.05\n",
      "weather_score 11 now_humd 60 , temp:  7.5 , humd 5.5 , calculator_ans 25.05\n",
      "weather_score 14 now_humd 60 , temp:  10.5 , humd 8.5 , calculator_ans 41.55\n",
      "weather_score 17 now_humd 60 , temp:  13.5 , humd 11.5 , calculator_ans 58.05\n",
      "weather_score 5 now_humd 60 , temp:  2.5 , humd 0.5 , calculator_ans 10.45\n",
      "weather_score 8 now_humd 60 , temp:  5.5 , humd 2.5 , calculator_ans 12.55\n",
      "weather_score 11 now_humd 60 , temp:  8.5 , humd 5.5 , calculator_ans 29.05\n",
      "weather_score 7 now_humd 60 , temp:  4.5 , humd 1.5 , calculator_ans 7.05\n",
      "weather_score 10 now_humd 60 , temp:  7.5 , humd 4.5 , calculator_ans 23.55\n",
      "weather_score 13 now_humd 60 , temp:  10.5 , humd 7.5 , calculator_ans 40.05\n",
      "weather_score 11 now_humd 60 , temp:  8.5 , humd 5.5 , calculator_ans 29.05\n",
      "weather_score 14 now_humd 60 , temp:  11.5 , humd 8.5 , calculator_ans 45.55\n",
      "weather_score 17 now_humd 60 , temp:  14.5 , humd 11.5 , calculator_ans 62.05\n",
      "weather_score 5 now_humd 60 , temp:  3.5 , humd 0.5 , calculator_ans 9.05\n",
      "weather_score 8 now_humd 60 , temp:  6.5 , humd 2.5 , calculator_ans 16.55\n",
      "weather_score 11 now_humd 60 , temp:  9.5 , humd 5.5 , calculator_ans 33.05\n",
      "weather_score 7 now_humd 60 , temp:  5.5 , humd 1.5 , calculator_ans 11.05\n",
      "weather_score 10 now_humd 60 , temp:  8.5 , humd 4.5 , calculator_ans 27.55\n",
      "weather_score 13 now_humd 60 , temp:  11.5 , humd 7.5 , calculator_ans 44.05\n",
      "weather_score 11 now_humd 60 , temp:  9.5 , humd 5.5 , calculator_ans 33.05\n",
      "weather_score 14 now_humd 60 , temp:  12.5 , humd 8.5 , calculator_ans 49.55\n",
      "weather_score 17 now_humd 60 , temp:  15.5 , humd 11.5 , calculator_ans 66.05\n",
      "weather_score 5 now_humd 60 , temp:  4.5 , humd 0.5 , calculator_ans 7.65\n",
      "weather_score 8 now_humd 60 , temp:  7.5 , humd 2.5 , calculator_ans 20.55\n",
      "weather_score 11 now_humd 60 , temp:  10.5 , humd 5.5 , calculator_ans 37.05\n",
      "weather_score 7 now_humd 60 , temp:  6.5 , humd 1.5 , calculator_ans 15.05\n",
      "weather_score 10 now_humd 60 , temp:  9.5 , humd 4.5 , calculator_ans 31.55\n",
      "weather_score 13 now_humd 60 , temp:  12.5 , humd 7.5 , calculator_ans 48.05\n",
      "weather_score 11 now_humd 60 , temp:  10.5 , humd 5.5 , calculator_ans 37.05\n",
      "weather_score 14 now_humd 60 , temp:  13.5 , humd 8.5 , calculator_ans 53.55\n",
      "weather_score 17 now_humd 60 , temp:  16.5 , humd 11.5 , calculator_ans 70.05\n",
      "weather_score 5 now_humd 60 , temp:  5.5 , humd 0.5 , calculator_ans 8.05\n",
      "weather_score 8 now_humd 60 , temp:  8.5 , humd 2.5 , calculator_ans 24.55\n",
      "weather_score 11 now_humd 60 , temp:  11.5 , humd 5.5 , calculator_ans 41.05\n",
      "weather_score 7 now_humd 60 , temp:  7.5 , humd 1.5 , calculator_ans 19.05\n",
      "weather_score 10 now_humd 60 , temp:  10.5 , humd 4.5 , calculator_ans 35.55\n",
      "weather_score 13 now_humd 60 , temp:  13.5 , humd 7.5 , calculator_ans 52.05\n",
      "weather_score 11 now_humd 60 , temp:  11.5 , humd 5.5 , calculator_ans 41.05\n",
      "weather_score 14 now_humd 60 , temp:  14.5 , humd 8.5 , calculator_ans 57.55\n",
      "weather_score 17 now_humd 60 , temp:  17.5 , humd 11.5 , calculator_ans 74.05\n",
      "weather_score 5 now_humd 60 , temp:  6.5 , humd 0.5 , calculator_ans 12.05\n",
      "weather_score 8 now_humd 60 , temp:  9.5 , humd 2.5 , calculator_ans 28.55\n",
      "weather_score 11 now_humd 60 , temp:  12.5 , humd 5.5 , calculator_ans 45.05\n",
      "weather_score 7 now_humd 60 , temp:  8.5 , humd 1.5 , calculator_ans 23.05\n",
      "weather_score 10 now_humd 60 , temp:  11.5 , humd 4.5 , calculator_ans 39.55\n",
      "weather_score 13 now_humd 60 , temp:  14.5 , humd 7.5 , calculator_ans 56.05\n",
      "weather_score 11 now_humd 60 , temp:  12.5 , humd 5.5 , calculator_ans 45.05\n",
      "weather_score 14 now_humd 60 , temp:  15.5 , humd 8.5 , calculator_ans 61.55\n",
      "weather_score 17 now_humd 60 , temp:  18.5 , humd 11.5 , calculator_ans 78.05\n",
      "weather_score 5 now_humd 60 , temp:  7.5 , humd 0.5 , calculator_ans 16.05\n",
      "weather_score 8 now_humd 60 , temp:  10.5 , humd 2.5 , calculator_ans 32.55\n",
      "weather_score 11 now_humd 60 , temp:  13.5 , humd 5.5 , calculator_ans 49.05\n",
      "weather_score 7 now_humd 60 , temp:  9.5 , humd 1.5 , calculator_ans 27.05\n",
      "weather_score 10 now_humd 60 , temp:  12.5 , humd 4.5 , calculator_ans 43.55\n",
      "weather_score 13 now_humd 60 , temp:  15.5 , humd 7.5 , calculator_ans 60.05\n",
      "weather_score 11 now_humd 60 , temp:  13.5 , humd 5.5 , calculator_ans 49.05\n",
      "weather_score 14 now_humd 60 , temp:  16.5 , humd 8.5 , calculator_ans 65.55\n",
      "weather_score 17 now_humd 60 , temp:  19.5 , humd 11.5 , calculator_ans 82.05\n"
     ]
    },
    {
     "data": {
      "text/html": [
       "<div>\n",
       "<style scoped>\n",
       "    .dataframe tbody tr th:only-of-type {\n",
       "        vertical-align: middle;\n",
       "    }\n",
       "\n",
       "    .dataframe tbody tr th {\n",
       "        vertical-align: top;\n",
       "    }\n",
       "\n",
       "    .dataframe thead th {\n",
       "        text-align: right;\n",
       "    }\n",
       "</style>\n",
       "<table border=\"1\" class=\"dataframe\">\n",
       "  <thead>\n",
       "    <tr style=\"text-align: right;\">\n",
       "      <th></th>\n",
       "      <th>NowWeather</th>\n",
       "      <th>ClothesName</th>\n",
       "      <th>WeatherScore</th>\n",
       "      <th>CalculatorScore</th>\n",
       "    </tr>\n",
       "  </thead>\n",
       "  <tbody>\n",
       "    <tr>\n",
       "      <th>0</th>\n",
       "      <td>8</td>\n",
       "      <td>Skirt &amp; T-Shirt</td>\n",
       "      <td>5</td>\n",
       "      <td>67.95</td>\n",
       "    </tr>\n",
       "    <tr>\n",
       "      <th>1</th>\n",
       "      <td>8</td>\n",
       "      <td>Skirt &amp; Longsleve</td>\n",
       "      <td>8</td>\n",
       "      <td>51.45</td>\n",
       "    </tr>\n",
       "    <tr>\n",
       "      <th>2</th>\n",
       "      <td>8</td>\n",
       "      <td>Skirt &amp; Weaters</td>\n",
       "      <td>11</td>\n",
       "      <td>34.95</td>\n",
       "    </tr>\n",
       "    <tr>\n",
       "      <th>3</th>\n",
       "      <td>8</td>\n",
       "      <td>Short &amp; T-Shirt</td>\n",
       "      <td>7</td>\n",
       "      <td>56.95</td>\n",
       "    </tr>\n",
       "    <tr>\n",
       "      <th>4</th>\n",
       "      <td>8</td>\n",
       "      <td>Short &amp; Longsleve</td>\n",
       "      <td>10</td>\n",
       "      <td>40.45</td>\n",
       "    </tr>\n",
       "    <tr>\n",
       "      <th>5</th>\n",
       "      <td>8</td>\n",
       "      <td>Short &amp; Weaters</td>\n",
       "      <td>13</td>\n",
       "      <td>23.95</td>\n",
       "    </tr>\n",
       "    <tr>\n",
       "      <th>6</th>\n",
       "      <td>8</td>\n",
       "      <td>Pants &amp; T-Shirt</td>\n",
       "      <td>11</td>\n",
       "      <td>34.95</td>\n",
       "    </tr>\n",
       "    <tr>\n",
       "      <th>7</th>\n",
       "      <td>8</td>\n",
       "      <td>Pants &amp; Longsleve</td>\n",
       "      <td>14</td>\n",
       "      <td>18.45</td>\n",
       "    </tr>\n",
       "    <tr>\n",
       "      <th>8</th>\n",
       "      <td>8</td>\n",
       "      <td>Pants &amp; Weaters</td>\n",
       "      <td>17</td>\n",
       "      <td>1.95</td>\n",
       "    </tr>\n",
       "    <tr>\n",
       "      <th>9</th>\n",
       "      <td>9</td>\n",
       "      <td>Skirt &amp; T-Shirt</td>\n",
       "      <td>5</td>\n",
       "      <td>63.95</td>\n",
       "    </tr>\n",
       "    <tr>\n",
       "      <th>10</th>\n",
       "      <td>9</td>\n",
       "      <td>Skirt &amp; Longsleve</td>\n",
       "      <td>8</td>\n",
       "      <td>47.45</td>\n",
       "    </tr>\n",
       "    <tr>\n",
       "      <th>11</th>\n",
       "      <td>9</td>\n",
       "      <td>Skirt &amp; Weaters</td>\n",
       "      <td>11</td>\n",
       "      <td>30.95</td>\n",
       "    </tr>\n",
       "    <tr>\n",
       "      <th>12</th>\n",
       "      <td>9</td>\n",
       "      <td>Short &amp; T-Shirt</td>\n",
       "      <td>7</td>\n",
       "      <td>52.95</td>\n",
       "    </tr>\n",
       "    <tr>\n",
       "      <th>13</th>\n",
       "      <td>9</td>\n",
       "      <td>Short &amp; Longsleve</td>\n",
       "      <td>10</td>\n",
       "      <td>36.45</td>\n",
       "    </tr>\n",
       "    <tr>\n",
       "      <th>14</th>\n",
       "      <td>9</td>\n",
       "      <td>Short &amp; Weaters</td>\n",
       "      <td>13</td>\n",
       "      <td>19.95</td>\n",
       "    </tr>\n",
       "    <tr>\n",
       "      <th>15</th>\n",
       "      <td>9</td>\n",
       "      <td>Pants &amp; T-Shirt</td>\n",
       "      <td>11</td>\n",
       "      <td>30.95</td>\n",
       "    </tr>\n",
       "    <tr>\n",
       "      <th>16</th>\n",
       "      <td>9</td>\n",
       "      <td>Pants &amp; Longsleve</td>\n",
       "      <td>14</td>\n",
       "      <td>14.45</td>\n",
       "    </tr>\n",
       "    <tr>\n",
       "      <th>17</th>\n",
       "      <td>9</td>\n",
       "      <td>Pants &amp; Weaters</td>\n",
       "      <td>17</td>\n",
       "      <td>3.35</td>\n",
       "    </tr>\n",
       "    <tr>\n",
       "      <th>18</th>\n",
       "      <td>10</td>\n",
       "      <td>Skirt &amp; T-Shirt</td>\n",
       "      <td>5</td>\n",
       "      <td>59.95</td>\n",
       "    </tr>\n",
       "    <tr>\n",
       "      <th>19</th>\n",
       "      <td>10</td>\n",
       "      <td>Skirt &amp; Longsleve</td>\n",
       "      <td>8</td>\n",
       "      <td>43.45</td>\n",
       "    </tr>\n",
       "    <tr>\n",
       "      <th>20</th>\n",
       "      <td>10</td>\n",
       "      <td>Skirt &amp; Weaters</td>\n",
       "      <td>11</td>\n",
       "      <td>26.95</td>\n",
       "    </tr>\n",
       "    <tr>\n",
       "      <th>21</th>\n",
       "      <td>10</td>\n",
       "      <td>Short &amp; T-Shirt</td>\n",
       "      <td>7</td>\n",
       "      <td>48.95</td>\n",
       "    </tr>\n",
       "    <tr>\n",
       "      <th>22</th>\n",
       "      <td>10</td>\n",
       "      <td>Short &amp; Longsleve</td>\n",
       "      <td>10</td>\n",
       "      <td>32.45</td>\n",
       "    </tr>\n",
       "    <tr>\n",
       "      <th>23</th>\n",
       "      <td>10</td>\n",
       "      <td>Short &amp; Weaters</td>\n",
       "      <td>13</td>\n",
       "      <td>15.95</td>\n",
       "    </tr>\n",
       "    <tr>\n",
       "      <th>24</th>\n",
       "      <td>10</td>\n",
       "      <td>Pants &amp; T-Shirt</td>\n",
       "      <td>11</td>\n",
       "      <td>26.95</td>\n",
       "    </tr>\n",
       "    <tr>\n",
       "      <th>25</th>\n",
       "      <td>10</td>\n",
       "      <td>Pants &amp; Longsleve</td>\n",
       "      <td>14</td>\n",
       "      <td>10.45</td>\n",
       "    </tr>\n",
       "    <tr>\n",
       "      <th>26</th>\n",
       "      <td>10</td>\n",
       "      <td>Pants &amp; Weaters</td>\n",
       "      <td>17</td>\n",
       "      <td>6.05</td>\n",
       "    </tr>\n",
       "    <tr>\n",
       "      <th>27</th>\n",
       "      <td>11</td>\n",
       "      <td>Skirt &amp; T-Shirt</td>\n",
       "      <td>5</td>\n",
       "      <td>55.95</td>\n",
       "    </tr>\n",
       "    <tr>\n",
       "      <th>28</th>\n",
       "      <td>11</td>\n",
       "      <td>Skirt &amp; Longsleve</td>\n",
       "      <td>8</td>\n",
       "      <td>39.45</td>\n",
       "    </tr>\n",
       "    <tr>\n",
       "      <th>29</th>\n",
       "      <td>11</td>\n",
       "      <td>Skirt &amp; Weaters</td>\n",
       "      <td>11</td>\n",
       "      <td>22.95</td>\n",
       "    </tr>\n",
       "    <tr>\n",
       "      <th>...</th>\n",
       "      <td>...</td>\n",
       "      <td>...</td>\n",
       "      <td>...</td>\n",
       "      <td>...</td>\n",
       "    </tr>\n",
       "    <tr>\n",
       "      <th>168</th>\n",
       "      <td>26</td>\n",
       "      <td>Pants &amp; T-Shirt</td>\n",
       "      <td>11</td>\n",
       "      <td>37.05</td>\n",
       "    </tr>\n",
       "    <tr>\n",
       "      <th>169</th>\n",
       "      <td>26</td>\n",
       "      <td>Pants &amp; Longsleve</td>\n",
       "      <td>14</td>\n",
       "      <td>53.55</td>\n",
       "    </tr>\n",
       "    <tr>\n",
       "      <th>170</th>\n",
       "      <td>26</td>\n",
       "      <td>Pants &amp; Weaters</td>\n",
       "      <td>17</td>\n",
       "      <td>70.05</td>\n",
       "    </tr>\n",
       "    <tr>\n",
       "      <th>171</th>\n",
       "      <td>27</td>\n",
       "      <td>Skirt &amp; T-Shirt</td>\n",
       "      <td>5</td>\n",
       "      <td>8.05</td>\n",
       "    </tr>\n",
       "    <tr>\n",
       "      <th>172</th>\n",
       "      <td>27</td>\n",
       "      <td>Skirt &amp; Longsleve</td>\n",
       "      <td>8</td>\n",
       "      <td>24.55</td>\n",
       "    </tr>\n",
       "    <tr>\n",
       "      <th>173</th>\n",
       "      <td>27</td>\n",
       "      <td>Skirt &amp; Weaters</td>\n",
       "      <td>11</td>\n",
       "      <td>41.05</td>\n",
       "    </tr>\n",
       "    <tr>\n",
       "      <th>174</th>\n",
       "      <td>27</td>\n",
       "      <td>Short &amp; T-Shirt</td>\n",
       "      <td>7</td>\n",
       "      <td>19.05</td>\n",
       "    </tr>\n",
       "    <tr>\n",
       "      <th>175</th>\n",
       "      <td>27</td>\n",
       "      <td>Short &amp; Longsleve</td>\n",
       "      <td>10</td>\n",
       "      <td>35.55</td>\n",
       "    </tr>\n",
       "    <tr>\n",
       "      <th>176</th>\n",
       "      <td>27</td>\n",
       "      <td>Short &amp; Weaters</td>\n",
       "      <td>13</td>\n",
       "      <td>52.05</td>\n",
       "    </tr>\n",
       "    <tr>\n",
       "      <th>177</th>\n",
       "      <td>27</td>\n",
       "      <td>Pants &amp; T-Shirt</td>\n",
       "      <td>11</td>\n",
       "      <td>41.05</td>\n",
       "    </tr>\n",
       "    <tr>\n",
       "      <th>178</th>\n",
       "      <td>27</td>\n",
       "      <td>Pants &amp; Longsleve</td>\n",
       "      <td>14</td>\n",
       "      <td>57.55</td>\n",
       "    </tr>\n",
       "    <tr>\n",
       "      <th>179</th>\n",
       "      <td>27</td>\n",
       "      <td>Pants &amp; Weaters</td>\n",
       "      <td>17</td>\n",
       "      <td>74.05</td>\n",
       "    </tr>\n",
       "    <tr>\n",
       "      <th>180</th>\n",
       "      <td>28</td>\n",
       "      <td>Skirt &amp; T-Shirt</td>\n",
       "      <td>5</td>\n",
       "      <td>12.05</td>\n",
       "    </tr>\n",
       "    <tr>\n",
       "      <th>181</th>\n",
       "      <td>28</td>\n",
       "      <td>Skirt &amp; Longsleve</td>\n",
       "      <td>8</td>\n",
       "      <td>28.55</td>\n",
       "    </tr>\n",
       "    <tr>\n",
       "      <th>182</th>\n",
       "      <td>28</td>\n",
       "      <td>Skirt &amp; Weaters</td>\n",
       "      <td>11</td>\n",
       "      <td>45.05</td>\n",
       "    </tr>\n",
       "    <tr>\n",
       "      <th>183</th>\n",
       "      <td>28</td>\n",
       "      <td>Short &amp; T-Shirt</td>\n",
       "      <td>7</td>\n",
       "      <td>23.05</td>\n",
       "    </tr>\n",
       "    <tr>\n",
       "      <th>184</th>\n",
       "      <td>28</td>\n",
       "      <td>Short &amp; Longsleve</td>\n",
       "      <td>10</td>\n",
       "      <td>39.55</td>\n",
       "    </tr>\n",
       "    <tr>\n",
       "      <th>185</th>\n",
       "      <td>28</td>\n",
       "      <td>Short &amp; Weaters</td>\n",
       "      <td>13</td>\n",
       "      <td>56.05</td>\n",
       "    </tr>\n",
       "    <tr>\n",
       "      <th>186</th>\n",
       "      <td>28</td>\n",
       "      <td>Pants &amp; T-Shirt</td>\n",
       "      <td>11</td>\n",
       "      <td>45.05</td>\n",
       "    </tr>\n",
       "    <tr>\n",
       "      <th>187</th>\n",
       "      <td>28</td>\n",
       "      <td>Pants &amp; Longsleve</td>\n",
       "      <td>14</td>\n",
       "      <td>61.55</td>\n",
       "    </tr>\n",
       "    <tr>\n",
       "      <th>188</th>\n",
       "      <td>28</td>\n",
       "      <td>Pants &amp; Weaters</td>\n",
       "      <td>17</td>\n",
       "      <td>78.05</td>\n",
       "    </tr>\n",
       "    <tr>\n",
       "      <th>189</th>\n",
       "      <td>29</td>\n",
       "      <td>Skirt &amp; T-Shirt</td>\n",
       "      <td>5</td>\n",
       "      <td>16.05</td>\n",
       "    </tr>\n",
       "    <tr>\n",
       "      <th>190</th>\n",
       "      <td>29</td>\n",
       "      <td>Skirt &amp; Longsleve</td>\n",
       "      <td>8</td>\n",
       "      <td>32.55</td>\n",
       "    </tr>\n",
       "    <tr>\n",
       "      <th>191</th>\n",
       "      <td>29</td>\n",
       "      <td>Skirt &amp; Weaters</td>\n",
       "      <td>11</td>\n",
       "      <td>49.05</td>\n",
       "    </tr>\n",
       "    <tr>\n",
       "      <th>192</th>\n",
       "      <td>29</td>\n",
       "      <td>Short &amp; T-Shirt</td>\n",
       "      <td>7</td>\n",
       "      <td>27.05</td>\n",
       "    </tr>\n",
       "    <tr>\n",
       "      <th>193</th>\n",
       "      <td>29</td>\n",
       "      <td>Short &amp; Longsleve</td>\n",
       "      <td>10</td>\n",
       "      <td>43.55</td>\n",
       "    </tr>\n",
       "    <tr>\n",
       "      <th>194</th>\n",
       "      <td>29</td>\n",
       "      <td>Short &amp; Weaters</td>\n",
       "      <td>13</td>\n",
       "      <td>60.05</td>\n",
       "    </tr>\n",
       "    <tr>\n",
       "      <th>195</th>\n",
       "      <td>29</td>\n",
       "      <td>Pants &amp; T-Shirt</td>\n",
       "      <td>11</td>\n",
       "      <td>49.05</td>\n",
       "    </tr>\n",
       "    <tr>\n",
       "      <th>196</th>\n",
       "      <td>29</td>\n",
       "      <td>Pants &amp; Longsleve</td>\n",
       "      <td>14</td>\n",
       "      <td>65.55</td>\n",
       "    </tr>\n",
       "    <tr>\n",
       "      <th>197</th>\n",
       "      <td>29</td>\n",
       "      <td>Pants &amp; Weaters</td>\n",
       "      <td>17</td>\n",
       "      <td>82.05</td>\n",
       "    </tr>\n",
       "  </tbody>\n",
       "</table>\n",
       "<p>198 rows × 4 columns</p>\n",
       "</div>"
      ],
      "text/plain": [
       "     NowWeather        ClothesName  WeatherScore  CalculatorScore\n",
       "0             8    Skirt & T-Shirt             5            67.95\n",
       "1             8  Skirt & Longsleve             8            51.45\n",
       "2             8    Skirt & Weaters            11            34.95\n",
       "3             8    Short & T-Shirt             7            56.95\n",
       "4             8  Short & Longsleve            10            40.45\n",
       "5             8    Short & Weaters            13            23.95\n",
       "6             8    Pants & T-Shirt            11            34.95\n",
       "7             8  Pants & Longsleve            14            18.45\n",
       "8             8    Pants & Weaters            17             1.95\n",
       "9             9    Skirt & T-Shirt             5            63.95\n",
       "10            9  Skirt & Longsleve             8            47.45\n",
       "11            9    Skirt & Weaters            11            30.95\n",
       "12            9    Short & T-Shirt             7            52.95\n",
       "13            9  Short & Longsleve            10            36.45\n",
       "14            9    Short & Weaters            13            19.95\n",
       "15            9    Pants & T-Shirt            11            30.95\n",
       "16            9  Pants & Longsleve            14            14.45\n",
       "17            9    Pants & Weaters            17             3.35\n",
       "18           10    Skirt & T-Shirt             5            59.95\n",
       "19           10  Skirt & Longsleve             8            43.45\n",
       "20           10    Skirt & Weaters            11            26.95\n",
       "21           10    Short & T-Shirt             7            48.95\n",
       "22           10  Short & Longsleve            10            32.45\n",
       "23           10    Short & Weaters            13            15.95\n",
       "24           10    Pants & T-Shirt            11            26.95\n",
       "25           10  Pants & Longsleve            14            10.45\n",
       "26           10    Pants & Weaters            17             6.05\n",
       "27           11    Skirt & T-Shirt             5            55.95\n",
       "28           11  Skirt & Longsleve             8            39.45\n",
       "29           11    Skirt & Weaters            11            22.95\n",
       "..          ...                ...           ...              ...\n",
       "168          26    Pants & T-Shirt            11            37.05\n",
       "169          26  Pants & Longsleve            14            53.55\n",
       "170          26    Pants & Weaters            17            70.05\n",
       "171          27    Skirt & T-Shirt             5             8.05\n",
       "172          27  Skirt & Longsleve             8            24.55\n",
       "173          27    Skirt & Weaters            11            41.05\n",
       "174          27    Short & T-Shirt             7            19.05\n",
       "175          27  Short & Longsleve            10            35.55\n",
       "176          27    Short & Weaters            13            52.05\n",
       "177          27    Pants & T-Shirt            11            41.05\n",
       "178          27  Pants & Longsleve            14            57.55\n",
       "179          27    Pants & Weaters            17            74.05\n",
       "180          28    Skirt & T-Shirt             5            12.05\n",
       "181          28  Skirt & Longsleve             8            28.55\n",
       "182          28    Skirt & Weaters            11            45.05\n",
       "183          28    Short & T-Shirt             7            23.05\n",
       "184          28  Short & Longsleve            10            39.55\n",
       "185          28    Short & Weaters            13            56.05\n",
       "186          28    Pants & T-Shirt            11            45.05\n",
       "187          28  Pants & Longsleve            14            61.55\n",
       "188          28    Pants & Weaters            17            78.05\n",
       "189          29    Skirt & T-Shirt             5            16.05\n",
       "190          29  Skirt & Longsleve             8            32.55\n",
       "191          29    Skirt & Weaters            11            49.05\n",
       "192          29    Short & T-Shirt             7            27.05\n",
       "193          29  Short & Longsleve            10            43.55\n",
       "194          29    Short & Weaters            13            60.05\n",
       "195          29    Pants & T-Shirt            11            49.05\n",
       "196          29  Pants & Longsleve            14            65.55\n",
       "197          29    Pants & Weaters            17            82.05\n",
       "\n",
       "[198 rows x 4 columns]"
      ]
     },
     "execution_count": 48,
     "metadata": {},
     "output_type": "execute_result"
    }
   ],
   "source": [
    "\n",
    "list_pair_show = []\n",
    "for now_weather in range(8, 30):\n",
    "    for iloc_count in range(len(df_sigle)):\n",
    "        for iloc_count_2 in range(len(df_sigle)):\n",
    "            if df_sigle.iloc[iloc_count].Category == df_sigle.iloc[iloc_count_2].Category:\n",
    "                break\n",
    "            \n",
    "            # print(iloc_count, iloc_count_2)\n",
    "            calculator = weather_result_composite(user_weatherLike, \n",
    "                                        now_weather, \n",
    "                                        df_sigle.iloc[iloc_count].ClothesName + \" & \" + df_sigle.iloc[iloc_count_2].ClothesName, df_sigle.iloc[iloc_count].WeatherScore + df_sigle.iloc[iloc_count_2].WeatherScore\n",
    "                                        , 60)\n",
    "            \n",
    "            list_pair_show.append([    now_weather, \n",
    "                                        df_sigle.iloc[iloc_count].ClothesName + \" & \" + df_sigle.iloc[iloc_count_2].ClothesName, df_sigle.iloc[iloc_count].WeatherScore + df_sigle.iloc[iloc_count_2].WeatherScore, \n",
    "                                        calculator])\n",
    "\n",
    "df_pair_show = pd.DataFrame(list_pair_show, columns=[\"NowWeather\", \"ClothesName\", \"WeatherScore\",\"CalculatorScore\"])\n",
    "df_pair_show"
   ]
  },
  {
   "cell_type": "code",
   "execution_count": 49,
   "metadata": {},
   "outputs": [
    {
     "data": {
      "application/vnd.plotly.v1+json": {
       "config": {
        "plotlyServerURL": "https://plot.ly"
       },
       "data": [
        {
         "hovertemplate": "ClothesName=Skirt & T-Shirt<br>NowWeather=%{x}<br>CalculatorScore=%{text}<extra></extra>",
         "legendgroup": "Skirt & T-Shirt",
         "line": {
          "color": "#636efa",
          "dash": "solid"
         },
         "marker": {
          "symbol": "circle"
         },
         "mode": "text+markers+lines",
         "name": "Skirt & T-Shirt",
         "orientation": "v",
         "showlegend": true,
         "text": [
          67.95,
          63.95,
          59.95,
          55.95,
          51.95,
          47.95,
          43.95,
          39.95,
          35.95,
          31.95,
          27.95,
          23.95,
          19.95,
          15.95,
          13.25,
          11.85,
          10.45,
          9.05,
          7.65,
          8.05,
          12.05,
          16.05
         ],
         "type": "scatter",
         "x": [
          8,
          9,
          10,
          11,
          12,
          13,
          14,
          15,
          16,
          17,
          18,
          19,
          20,
          21,
          22,
          23,
          24,
          25,
          26,
          27,
          28,
          29
         ],
         "xaxis": "x",
         "y": [
          67.95,
          63.95,
          59.95,
          55.95,
          51.95,
          47.95,
          43.95,
          39.95,
          35.95,
          31.95,
          27.95,
          23.95,
          19.95,
          15.95,
          13.25,
          11.85,
          10.45,
          9.05,
          7.65,
          8.05,
          12.05,
          16.05
         ],
         "yaxis": "y"
        },
        {
         "hovertemplate": "ClothesName=Skirt & Longsleve<br>NowWeather=%{x}<br>CalculatorScore=%{text}<extra></extra>",
         "legendgroup": "Skirt & Longsleve",
         "line": {
          "color": "#EF553B",
          "dash": "solid"
         },
         "marker": {
          "symbol": "circle"
         },
         "mode": "text+markers+lines",
         "name": "Skirt & Longsleve",
         "orientation": "v",
         "showlegend": true,
         "text": [
          51.45,
          47.45,
          43.45,
          39.45,
          35.45,
          31.45,
          27.45,
          23.45,
          19.45,
          15.45,
          11.45,
          8.75,
          7.35,
          5.95,
          4.55,
          8.55,
          12.55,
          16.55,
          20.55,
          24.55,
          28.55,
          32.55
         ],
         "type": "scatter",
         "x": [
          8,
          9,
          10,
          11,
          12,
          13,
          14,
          15,
          16,
          17,
          18,
          19,
          20,
          21,
          22,
          23,
          24,
          25,
          26,
          27,
          28,
          29
         ],
         "xaxis": "x",
         "y": [
          51.45,
          47.45,
          43.45,
          39.45,
          35.45,
          31.45,
          27.45,
          23.45,
          19.45,
          15.45,
          11.45,
          8.75,
          7.35,
          5.95,
          4.55,
          8.55,
          12.55,
          16.55,
          20.55,
          24.55,
          28.55,
          32.55
         ],
         "yaxis": "y"
        },
        {
         "hovertemplate": "ClothesName=Skirt & Weaters<br>NowWeather=%{x}<br>CalculatorScore=%{text}<extra></extra>",
         "legendgroup": "Skirt & Weaters",
         "line": {
          "color": "#00cc96",
          "dash": "solid"
         },
         "marker": {
          "symbol": "circle"
         },
         "mode": "text+markers+lines",
         "name": "Skirt & Weaters",
         "orientation": "v",
         "showlegend": true,
         "text": [
          34.95,
          30.95,
          26.95,
          22.95,
          18.95,
          14.95,
          10.95,
          6.95,
          4.25,
          2.85,
          5.05,
          9.05,
          13.05,
          17.05,
          21.05,
          25.05,
          29.05,
          33.05,
          37.05,
          41.05,
          45.05,
          49.05
         ],
         "type": "scatter",
         "x": [
          8,
          9,
          10,
          11,
          12,
          13,
          14,
          15,
          16,
          17,
          18,
          19,
          20,
          21,
          22,
          23,
          24,
          25,
          26,
          27,
          28,
          29
         ],
         "xaxis": "x",
         "y": [
          34.95,
          30.95,
          26.95,
          22.95,
          18.95,
          14.95,
          10.95,
          6.95,
          4.25,
          2.85,
          5.05,
          9.05,
          13.05,
          17.05,
          21.05,
          25.05,
          29.05,
          33.05,
          37.05,
          41.05,
          45.05,
          49.05
         ],
         "yaxis": "y"
        },
        {
         "hovertemplate": "ClothesName=Short & T-Shirt<br>NowWeather=%{x}<br>CalculatorScore=%{text}<extra></extra>",
         "legendgroup": "Short & T-Shirt",
         "line": {
          "color": "#ab63fa",
          "dash": "solid"
         },
         "marker": {
          "symbol": "circle"
         },
         "mode": "text+markers+lines",
         "name": "Short & T-Shirt",
         "orientation": "v",
         "showlegend": true,
         "text": [
          56.95,
          52.95,
          48.95,
          44.95,
          40.95,
          36.95,
          32.95,
          28.95,
          24.95,
          20.95,
          16.95,
          12.95,
          10.25,
          8.85,
          7.45,
          6.05,
          7.05,
          11.05,
          15.05,
          19.05,
          23.05,
          27.05
         ],
         "type": "scatter",
         "x": [
          8,
          9,
          10,
          11,
          12,
          13,
          14,
          15,
          16,
          17,
          18,
          19,
          20,
          21,
          22,
          23,
          24,
          25,
          26,
          27,
          28,
          29
         ],
         "xaxis": "x",
         "y": [
          56.95,
          52.95,
          48.95,
          44.95,
          40.95,
          36.95,
          32.95,
          28.95,
          24.95,
          20.95,
          16.95,
          12.95,
          10.25,
          8.85,
          7.45,
          6.05,
          7.05,
          11.05,
          15.05,
          19.05,
          23.05,
          27.05
         ],
         "yaxis": "y"
        },
        {
         "hovertemplate": "ClothesName=Short & Longsleve<br>NowWeather=%{x}<br>CalculatorScore=%{text}<extra></extra>",
         "legendgroup": "Short & Longsleve",
         "line": {
          "color": "#FFA15A",
          "dash": "solid"
         },
         "marker": {
          "symbol": "circle"
         },
         "mode": "text+markers+lines",
         "name": "Short & Longsleve",
         "orientation": "v",
         "showlegend": true,
         "text": [
          40.45,
          36.45,
          32.45,
          28.45,
          24.45,
          20.45,
          16.45,
          12.45,
          8.45,
          5.75,
          4.35,
          3.55,
          7.55,
          11.55,
          15.55,
          19.55,
          23.55,
          27.55,
          31.55,
          35.55,
          39.55,
          43.55
         ],
         "type": "scatter",
         "x": [
          8,
          9,
          10,
          11,
          12,
          13,
          14,
          15,
          16,
          17,
          18,
          19,
          20,
          21,
          22,
          23,
          24,
          25,
          26,
          27,
          28,
          29
         ],
         "xaxis": "x",
         "y": [
          40.45,
          36.45,
          32.45,
          28.45,
          24.45,
          20.45,
          16.45,
          12.45,
          8.45,
          5.75,
          4.35,
          3.55,
          7.55,
          11.55,
          15.55,
          19.55,
          23.55,
          27.55,
          31.55,
          35.55,
          39.55,
          43.55
         ],
         "yaxis": "y"
        },
        {
         "hovertemplate": "ClothesName=Short & Weaters<br>NowWeather=%{x}<br>CalculatorScore=%{text}<extra></extra>",
         "legendgroup": "Short & Weaters",
         "line": {
          "color": "#19d3f3",
          "dash": "solid"
         },
         "marker": {
          "symbol": "circle"
         },
         "mode": "text+markers+lines",
         "name": "Short & Weaters",
         "orientation": "v",
         "showlegend": true,
         "text": [
          23.95,
          19.95,
          15.95,
          11.95,
          7.95,
          3.95,
          1.25,
          4.05,
          8.05,
          12.05,
          16.05,
          20.05,
          24.05,
          28.05,
          32.05,
          36.05,
          40.05,
          44.05,
          48.05,
          52.05,
          56.05,
          60.05
         ],
         "type": "scatter",
         "x": [
          8,
          9,
          10,
          11,
          12,
          13,
          14,
          15,
          16,
          17,
          18,
          19,
          20,
          21,
          22,
          23,
          24,
          25,
          26,
          27,
          28,
          29
         ],
         "xaxis": "x",
         "y": [
          23.95,
          19.95,
          15.95,
          11.95,
          7.95,
          3.95,
          1.25,
          4.05,
          8.05,
          12.05,
          16.05,
          20.05,
          24.05,
          28.05,
          32.05,
          36.05,
          40.05,
          44.05,
          48.05,
          52.05,
          56.05,
          60.05
         ],
         "yaxis": "y"
        },
        {
         "hovertemplate": "ClothesName=Pants & T-Shirt<br>NowWeather=%{x}<br>CalculatorScore=%{text}<extra></extra>",
         "legendgroup": "Pants & T-Shirt",
         "line": {
          "color": "#FF6692",
          "dash": "solid"
         },
         "marker": {
          "symbol": "circle"
         },
         "mode": "text+markers+lines",
         "name": "Pants & T-Shirt",
         "orientation": "v",
         "showlegend": true,
         "text": [
          34.95,
          30.95,
          26.95,
          22.95,
          18.95,
          14.95,
          10.95,
          6.95,
          4.25,
          2.85,
          5.05,
          9.05,
          13.05,
          17.05,
          21.05,
          25.05,
          29.05,
          33.05,
          37.05,
          41.05,
          45.05,
          49.05
         ],
         "type": "scatter",
         "x": [
          8,
          9,
          10,
          11,
          12,
          13,
          14,
          15,
          16,
          17,
          18,
          19,
          20,
          21,
          22,
          23,
          24,
          25,
          26,
          27,
          28,
          29
         ],
         "xaxis": "x",
         "y": [
          34.95,
          30.95,
          26.95,
          22.95,
          18.95,
          14.95,
          10.95,
          6.95,
          4.25,
          2.85,
          5.05,
          9.05,
          13.05,
          17.05,
          21.05,
          25.05,
          29.05,
          33.05,
          37.05,
          41.05,
          45.05,
          49.05
         ],
         "yaxis": "y"
        },
        {
         "hovertemplate": "ClothesName=Pants & Longsleve<br>NowWeather=%{x}<br>CalculatorScore=%{text}<extra></extra>",
         "legendgroup": "Pants & Longsleve",
         "line": {
          "color": "#B6E880",
          "dash": "solid"
         },
         "marker": {
          "symbol": "circle"
         },
         "mode": "text+markers+lines",
         "name": "Pants & Longsleve",
         "orientation": "v",
         "showlegend": true,
         "text": [
          18.45,
          14.45,
          10.45,
          6.45,
          2.45,
          1.55,
          5.55,
          9.55,
          13.55,
          17.55,
          21.55,
          25.55,
          29.55,
          33.55,
          37.55,
          41.55,
          45.55,
          49.55,
          53.55,
          57.55,
          61.55,
          65.55
         ],
         "type": "scatter",
         "x": [
          8,
          9,
          10,
          11,
          12,
          13,
          14,
          15,
          16,
          17,
          18,
          19,
          20,
          21,
          22,
          23,
          24,
          25,
          26,
          27,
          28,
          29
         ],
         "xaxis": "x",
         "y": [
          18.45,
          14.45,
          10.45,
          6.45,
          2.45,
          1.55,
          5.55,
          9.55,
          13.55,
          17.55,
          21.55,
          25.55,
          29.55,
          33.55,
          37.55,
          41.55,
          45.55,
          49.55,
          53.55,
          57.55,
          61.55,
          65.55
         ],
         "yaxis": "y"
        },
        {
         "hovertemplate": "ClothesName=Pants & Weaters<br>NowWeather=%{x}<br>CalculatorScore=%{text}<extra></extra>",
         "legendgroup": "Pants & Weaters",
         "line": {
          "color": "#FF97FF",
          "dash": "solid"
         },
         "marker": {
          "symbol": "circle"
         },
         "mode": "text+markers+lines",
         "name": "Pants & Weaters",
         "orientation": "v",
         "showlegend": true,
         "text": [
          1.95,
          3.35,
          6.05,
          10.05,
          14.05,
          18.05,
          22.05,
          26.05,
          30.05,
          34.05,
          38.05,
          42.05,
          46.05,
          50.05,
          54.05,
          58.05,
          62.05,
          66.05,
          70.05,
          74.05,
          78.05,
          82.05
         ],
         "type": "scatter",
         "x": [
          8,
          9,
          10,
          11,
          12,
          13,
          14,
          15,
          16,
          17,
          18,
          19,
          20,
          21,
          22,
          23,
          24,
          25,
          26,
          27,
          28,
          29
         ],
         "xaxis": "x",
         "y": [
          1.95,
          3.35,
          6.05,
          10.05,
          14.05,
          18.05,
          22.05,
          26.05,
          30.05,
          34.05,
          38.05,
          42.05,
          46.05,
          50.05,
          54.05,
          58.05,
          62.05,
          66.05,
          70.05,
          74.05,
          78.05,
          82.05
         ],
         "yaxis": "y"
        }
       ],
       "layout": {
        "legend": {
         "title": {
          "text": "ClothesName"
         },
         "tracegroupgap": 0
        },
        "margin": {
         "t": 60
        },
        "template": {
         "data": {
          "bar": [
           {
            "error_x": {
             "color": "#2a3f5f"
            },
            "error_y": {
             "color": "#2a3f5f"
            },
            "marker": {
             "line": {
              "color": "#E5ECF6",
              "width": 0.5
             },
             "pattern": {
              "fillmode": "overlay",
              "size": 10,
              "solidity": 0.2
             }
            },
            "type": "bar"
           }
          ],
          "barpolar": [
           {
            "marker": {
             "line": {
              "color": "#E5ECF6",
              "width": 0.5
             },
             "pattern": {
              "fillmode": "overlay",
              "size": 10,
              "solidity": 0.2
             }
            },
            "type": "barpolar"
           }
          ],
          "carpet": [
           {
            "aaxis": {
             "endlinecolor": "#2a3f5f",
             "gridcolor": "white",
             "linecolor": "white",
             "minorgridcolor": "white",
             "startlinecolor": "#2a3f5f"
            },
            "baxis": {
             "endlinecolor": "#2a3f5f",
             "gridcolor": "white",
             "linecolor": "white",
             "minorgridcolor": "white",
             "startlinecolor": "#2a3f5f"
            },
            "type": "carpet"
           }
          ],
          "choropleth": [
           {
            "colorbar": {
             "outlinewidth": 0,
             "ticks": ""
            },
            "type": "choropleth"
           }
          ],
          "contour": [
           {
            "colorbar": {
             "outlinewidth": 0,
             "ticks": ""
            },
            "colorscale": [
             [
              0,
              "#0d0887"
             ],
             [
              0.1111111111111111,
              "#46039f"
             ],
             [
              0.2222222222222222,
              "#7201a8"
             ],
             [
              0.3333333333333333,
              "#9c179e"
             ],
             [
              0.4444444444444444,
              "#bd3786"
             ],
             [
              0.5555555555555556,
              "#d8576b"
             ],
             [
              0.6666666666666666,
              "#ed7953"
             ],
             [
              0.7777777777777778,
              "#fb9f3a"
             ],
             [
              0.8888888888888888,
              "#fdca26"
             ],
             [
              1,
              "#f0f921"
             ]
            ],
            "type": "contour"
           }
          ],
          "contourcarpet": [
           {
            "colorbar": {
             "outlinewidth": 0,
             "ticks": ""
            },
            "type": "contourcarpet"
           }
          ],
          "heatmap": [
           {
            "colorbar": {
             "outlinewidth": 0,
             "ticks": ""
            },
            "colorscale": [
             [
              0,
              "#0d0887"
             ],
             [
              0.1111111111111111,
              "#46039f"
             ],
             [
              0.2222222222222222,
              "#7201a8"
             ],
             [
              0.3333333333333333,
              "#9c179e"
             ],
             [
              0.4444444444444444,
              "#bd3786"
             ],
             [
              0.5555555555555556,
              "#d8576b"
             ],
             [
              0.6666666666666666,
              "#ed7953"
             ],
             [
              0.7777777777777778,
              "#fb9f3a"
             ],
             [
              0.8888888888888888,
              "#fdca26"
             ],
             [
              1,
              "#f0f921"
             ]
            ],
            "type": "heatmap"
           }
          ],
          "heatmapgl": [
           {
            "colorbar": {
             "outlinewidth": 0,
             "ticks": ""
            },
            "colorscale": [
             [
              0,
              "#0d0887"
             ],
             [
              0.1111111111111111,
              "#46039f"
             ],
             [
              0.2222222222222222,
              "#7201a8"
             ],
             [
              0.3333333333333333,
              "#9c179e"
             ],
             [
              0.4444444444444444,
              "#bd3786"
             ],
             [
              0.5555555555555556,
              "#d8576b"
             ],
             [
              0.6666666666666666,
              "#ed7953"
             ],
             [
              0.7777777777777778,
              "#fb9f3a"
             ],
             [
              0.8888888888888888,
              "#fdca26"
             ],
             [
              1,
              "#f0f921"
             ]
            ],
            "type": "heatmapgl"
           }
          ],
          "histogram": [
           {
            "marker": {
             "pattern": {
              "fillmode": "overlay",
              "size": 10,
              "solidity": 0.2
             }
            },
            "type": "histogram"
           }
          ],
          "histogram2d": [
           {
            "colorbar": {
             "outlinewidth": 0,
             "ticks": ""
            },
            "colorscale": [
             [
              0,
              "#0d0887"
             ],
             [
              0.1111111111111111,
              "#46039f"
             ],
             [
              0.2222222222222222,
              "#7201a8"
             ],
             [
              0.3333333333333333,
              "#9c179e"
             ],
             [
              0.4444444444444444,
              "#bd3786"
             ],
             [
              0.5555555555555556,
              "#d8576b"
             ],
             [
              0.6666666666666666,
              "#ed7953"
             ],
             [
              0.7777777777777778,
              "#fb9f3a"
             ],
             [
              0.8888888888888888,
              "#fdca26"
             ],
             [
              1,
              "#f0f921"
             ]
            ],
            "type": "histogram2d"
           }
          ],
          "histogram2dcontour": [
           {
            "colorbar": {
             "outlinewidth": 0,
             "ticks": ""
            },
            "colorscale": [
             [
              0,
              "#0d0887"
             ],
             [
              0.1111111111111111,
              "#46039f"
             ],
             [
              0.2222222222222222,
              "#7201a8"
             ],
             [
              0.3333333333333333,
              "#9c179e"
             ],
             [
              0.4444444444444444,
              "#bd3786"
             ],
             [
              0.5555555555555556,
              "#d8576b"
             ],
             [
              0.6666666666666666,
              "#ed7953"
             ],
             [
              0.7777777777777778,
              "#fb9f3a"
             ],
             [
              0.8888888888888888,
              "#fdca26"
             ],
             [
              1,
              "#f0f921"
             ]
            ],
            "type": "histogram2dcontour"
           }
          ],
          "mesh3d": [
           {
            "colorbar": {
             "outlinewidth": 0,
             "ticks": ""
            },
            "type": "mesh3d"
           }
          ],
          "parcoords": [
           {
            "line": {
             "colorbar": {
              "outlinewidth": 0,
              "ticks": ""
             }
            },
            "type": "parcoords"
           }
          ],
          "pie": [
           {
            "automargin": true,
            "type": "pie"
           }
          ],
          "scatter": [
           {
            "fillpattern": {
             "fillmode": "overlay",
             "size": 10,
             "solidity": 0.2
            },
            "type": "scatter"
           }
          ],
          "scatter3d": [
           {
            "line": {
             "colorbar": {
              "outlinewidth": 0,
              "ticks": ""
             }
            },
            "marker": {
             "colorbar": {
              "outlinewidth": 0,
              "ticks": ""
             }
            },
            "type": "scatter3d"
           }
          ],
          "scattercarpet": [
           {
            "marker": {
             "colorbar": {
              "outlinewidth": 0,
              "ticks": ""
             }
            },
            "type": "scattercarpet"
           }
          ],
          "scattergeo": [
           {
            "marker": {
             "colorbar": {
              "outlinewidth": 0,
              "ticks": ""
             }
            },
            "type": "scattergeo"
           }
          ],
          "scattergl": [
           {
            "marker": {
             "colorbar": {
              "outlinewidth": 0,
              "ticks": ""
             }
            },
            "type": "scattergl"
           }
          ],
          "scattermapbox": [
           {
            "marker": {
             "colorbar": {
              "outlinewidth": 0,
              "ticks": ""
             }
            },
            "type": "scattermapbox"
           }
          ],
          "scatterpolar": [
           {
            "marker": {
             "colorbar": {
              "outlinewidth": 0,
              "ticks": ""
             }
            },
            "type": "scatterpolar"
           }
          ],
          "scatterpolargl": [
           {
            "marker": {
             "colorbar": {
              "outlinewidth": 0,
              "ticks": ""
             }
            },
            "type": "scatterpolargl"
           }
          ],
          "scatterternary": [
           {
            "marker": {
             "colorbar": {
              "outlinewidth": 0,
              "ticks": ""
             }
            },
            "type": "scatterternary"
           }
          ],
          "surface": [
           {
            "colorbar": {
             "outlinewidth": 0,
             "ticks": ""
            },
            "colorscale": [
             [
              0,
              "#0d0887"
             ],
             [
              0.1111111111111111,
              "#46039f"
             ],
             [
              0.2222222222222222,
              "#7201a8"
             ],
             [
              0.3333333333333333,
              "#9c179e"
             ],
             [
              0.4444444444444444,
              "#bd3786"
             ],
             [
              0.5555555555555556,
              "#d8576b"
             ],
             [
              0.6666666666666666,
              "#ed7953"
             ],
             [
              0.7777777777777778,
              "#fb9f3a"
             ],
             [
              0.8888888888888888,
              "#fdca26"
             ],
             [
              1,
              "#f0f921"
             ]
            ],
            "type": "surface"
           }
          ],
          "table": [
           {
            "cells": {
             "fill": {
              "color": "#EBF0F8"
             },
             "line": {
              "color": "white"
             }
            },
            "header": {
             "fill": {
              "color": "#C8D4E3"
             },
             "line": {
              "color": "white"
             }
            },
            "type": "table"
           }
          ]
         },
         "layout": {
          "annotationdefaults": {
           "arrowcolor": "#2a3f5f",
           "arrowhead": 0,
           "arrowwidth": 1
          },
          "autotypenumbers": "strict",
          "coloraxis": {
           "colorbar": {
            "outlinewidth": 0,
            "ticks": ""
           }
          },
          "colorscale": {
           "diverging": [
            [
             0,
             "#8e0152"
            ],
            [
             0.1,
             "#c51b7d"
            ],
            [
             0.2,
             "#de77ae"
            ],
            [
             0.3,
             "#f1b6da"
            ],
            [
             0.4,
             "#fde0ef"
            ],
            [
             0.5,
             "#f7f7f7"
            ],
            [
             0.6,
             "#e6f5d0"
            ],
            [
             0.7,
             "#b8e186"
            ],
            [
             0.8,
             "#7fbc41"
            ],
            [
             0.9,
             "#4d9221"
            ],
            [
             1,
             "#276419"
            ]
           ],
           "sequential": [
            [
             0,
             "#0d0887"
            ],
            [
             0.1111111111111111,
             "#46039f"
            ],
            [
             0.2222222222222222,
             "#7201a8"
            ],
            [
             0.3333333333333333,
             "#9c179e"
            ],
            [
             0.4444444444444444,
             "#bd3786"
            ],
            [
             0.5555555555555556,
             "#d8576b"
            ],
            [
             0.6666666666666666,
             "#ed7953"
            ],
            [
             0.7777777777777778,
             "#fb9f3a"
            ],
            [
             0.8888888888888888,
             "#fdca26"
            ],
            [
             1,
             "#f0f921"
            ]
           ],
           "sequentialminus": [
            [
             0,
             "#0d0887"
            ],
            [
             0.1111111111111111,
             "#46039f"
            ],
            [
             0.2222222222222222,
             "#7201a8"
            ],
            [
             0.3333333333333333,
             "#9c179e"
            ],
            [
             0.4444444444444444,
             "#bd3786"
            ],
            [
             0.5555555555555556,
             "#d8576b"
            ],
            [
             0.6666666666666666,
             "#ed7953"
            ],
            [
             0.7777777777777778,
             "#fb9f3a"
            ],
            [
             0.8888888888888888,
             "#fdca26"
            ],
            [
             1,
             "#f0f921"
            ]
           ]
          },
          "colorway": [
           "#636efa",
           "#EF553B",
           "#00cc96",
           "#ab63fa",
           "#FFA15A",
           "#19d3f3",
           "#FF6692",
           "#B6E880",
           "#FF97FF",
           "#FECB52"
          ],
          "font": {
           "color": "#2a3f5f"
          },
          "geo": {
           "bgcolor": "white",
           "lakecolor": "white",
           "landcolor": "#E5ECF6",
           "showlakes": true,
           "showland": true,
           "subunitcolor": "white"
          },
          "hoverlabel": {
           "align": "left"
          },
          "hovermode": "closest",
          "mapbox": {
           "style": "light"
          },
          "paper_bgcolor": "white",
          "plot_bgcolor": "#E5ECF6",
          "polar": {
           "angularaxis": {
            "gridcolor": "white",
            "linecolor": "white",
            "ticks": ""
           },
           "bgcolor": "#E5ECF6",
           "radialaxis": {
            "gridcolor": "white",
            "linecolor": "white",
            "ticks": ""
           }
          },
          "scene": {
           "xaxis": {
            "backgroundcolor": "#E5ECF6",
            "gridcolor": "white",
            "gridwidth": 2,
            "linecolor": "white",
            "showbackground": true,
            "ticks": "",
            "zerolinecolor": "white"
           },
           "yaxis": {
            "backgroundcolor": "#E5ECF6",
            "gridcolor": "white",
            "gridwidth": 2,
            "linecolor": "white",
            "showbackground": true,
            "ticks": "",
            "zerolinecolor": "white"
           },
           "zaxis": {
            "backgroundcolor": "#E5ECF6",
            "gridcolor": "white",
            "gridwidth": 2,
            "linecolor": "white",
            "showbackground": true,
            "ticks": "",
            "zerolinecolor": "white"
           }
          },
          "shapedefaults": {
           "line": {
            "color": "#2a3f5f"
           }
          },
          "ternary": {
           "aaxis": {
            "gridcolor": "white",
            "linecolor": "white",
            "ticks": ""
           },
           "baxis": {
            "gridcolor": "white",
            "linecolor": "white",
            "ticks": ""
           },
           "bgcolor": "#E5ECF6",
           "caxis": {
            "gridcolor": "white",
            "linecolor": "white",
            "ticks": ""
           }
          },
          "title": {
           "x": 0.05
          },
          "xaxis": {
           "automargin": true,
           "gridcolor": "white",
           "linecolor": "white",
           "ticks": "",
           "title": {
            "standoff": 15
           },
           "zerolinecolor": "white",
           "zerolinewidth": 2
          },
          "yaxis": {
           "automargin": true,
           "gridcolor": "white",
           "linecolor": "white",
           "ticks": "",
           "title": {
            "standoff": 15
           },
           "zerolinecolor": "white",
           "zerolinewidth": 2
          }
         }
        },
        "xaxis": {
         "anchor": "y",
         "domain": [
          0,
          1
         ],
         "title": {
          "text": "NowWeather"
         }
        },
        "yaxis": {
         "anchor": "x",
         "domain": [
          0,
          1
         ],
         "title": {
          "text": "CalculatorScore"
         }
        }
       }
      }
     },
     "metadata": {},
     "output_type": "display_data"
    }
   ],
   "source": [
    "\n",
    "# NowWeather\n",
    "fig = px.line(df_pair_show, \n",
    "    x = 'NowWeather',\n",
    "    y = 'CalculatorScore',\n",
    "    color = 'ClothesName',\n",
    "    text=\"CalculatorScore\")\n",
    "fig.show()\n",
    "\n",
    "# fig = px\n"
   ]
  },
  {
   "cell_type": "code",
   "execution_count": null,
   "metadata": {},
   "outputs": [],
   "source": []
  },
  {
   "cell_type": "code",
   "execution_count": null,
   "metadata": {},
   "outputs": [],
   "source": []
  }
 ],
 "metadata": {
  "kernelspec": {
   "display_name": "Python 3",
   "language": "python",
   "name": "python3"
  },
  "language_info": {
   "codemirror_mode": {
    "name": "ipython",
    "version": 3
   },
   "file_extension": ".py",
   "mimetype": "text/x-python",
   "name": "python",
   "nbconvert_exporter": "python",
   "pygments_lexer": "ipython3",
   "version": "3.7.9 (tags/v3.7.9:13c94747c7, Aug 17 2020, 18:58:18) [MSC v.1900 64 bit (AMD64)]"
  },
  "orig_nbformat": 4,
  "vscode": {
   "interpreter": {
    "hash": "7c30df904c36e6be9401258170815a5d9049d5a580b5ff146ab8741762e93d41"
   }
  }
 },
 "nbformat": 4,
 "nbformat_minor": 2
}
